{
  "nbformat": 4,
  "nbformat_minor": 0,
  "metadata": {
    "colab": {
      "provenance": [],
      "authorship_tag": "ABX9TyPkQkePzWR3FfqpYe0CjYGS",
      "include_colab_link": true
    },
    "kernelspec": {
      "name": "python3",
      "display_name": "Python 3"
    },
    "language_info": {
      "name": "python"
    }
  },
  "cells": [
    {
      "cell_type": "markdown",
      "metadata": {
        "id": "view-in-github",
        "colab_type": "text"
      },
      "source": [
        "<a href=\"https://colab.research.google.com/github/chetools/CHE4061_Fall2024/blob/main/PonchonSavarit.ipynb\" target=\"_parent\"><img src=\"https://colab.research.google.com/assets/colab-badge.svg\" alt=\"Open In Colab\"/></a>"
      ]
    },
    {
      "cell_type": "code",
      "execution_count": null,
      "metadata": {
        "colab": {
          "base_uri": "https://localhost:8080/"
        },
        "id": "2IVvN85dWumt",
        "outputId": "8682703d-b9ee-4f8c-d08b-59a7d90a31d6"
      },
      "outputs": [
        {
          "output_type": "stream",
          "name": "stdout",
          "text": [
            "Requirement already satisfied: importnb in /usr/local/lib/python3.10/dist-packages (2023.11.1)\n"
          ]
        }
      ],
      "source": [
        "!wget -N -q https://raw.githubusercontent.com/chetools/chetools/main/tools/che5.ipynb -O che5.ipynb\n",
        "!pip install importnb"
      ]
    },
    {
      "cell_type": "code",
      "source": [
        "from importnb import Notebook\n",
        "with Notebook():\n",
        "    from che5 import Props\n",
        "\n",
        "import numpy as np\n",
        "import jax\n",
        "import jax.numpy as jnp\n",
        "jax.config.update(\"jax_enable_x64\", True)\n",
        "from scipy.optimize import root_scalar\n",
        "from scipy.optimize import root\n",
        "from scipy.special import expit, logit\n",
        "from plotly.subplots import make_subplots\n",
        "from scipy.interpolate import Akima1DInterpolator"
      ],
      "metadata": {
        "id": "W0bo2gMdWwAr"
      },
      "execution_count": null,
      "outputs": []
    },
    {
      "cell_type": "code",
      "source": [
        "p=Props(['Isopropanol', 'Water'])"
      ],
      "metadata": {
        "id": "bYg-Mhy6XgMR"
      },
      "execution_count": null,
      "outputs": []
    },
    {
      "cell_type": "code",
      "source": [
        "def gamma(x,T):\n",
        "    tau = p.NRTL_A + p.NRTL_B/T + p.NRTL_C*np.log(T) + p.NRTL_D*T\n",
        "    G=np.exp(-p.NRTL_alpha*tau)\n",
        "    xG = x@G\n",
        "    xtauG_xG = (x@(tau*G))/xG\n",
        "    return np.exp(xtauG_xG + x@((G*(tau - xtauG_xG[None,:])/xG[None,:]).T))"
      ],
      "metadata": {
        "id": "Q4tPnozmpqD4"
      },
      "execution_count": null,
      "outputs": []
    },
    {
      "cell_type": "code",
      "source": [
        "def dewP_ideal(y, T):\n",
        "    P=1./(np.sum(y/p.Pvap(T)))\n",
        "    return P, y*P/p.Pvap(T)\n",
        "\n",
        "def dewT_ideal(y, P):\n",
        "\n",
        "    def P_dev(T):\n",
        "        return dewP_ideal(y, T)[0] - P\n",
        "    T = root(P_dev, 300.).x[0]\n",
        "\n",
        "    return T,  y*P/p.Pvap(T)"
      ],
      "metadata": {
        "id": "KNN3rRVW_SUG"
      },
      "execution_count": null,
      "outputs": []
    },
    {
      "cell_type": "code",
      "source": [
        "def bubbleP_NRTL(x, T):\n",
        "    Pi= x*gamma(x,T)*p.Pvap(T)\n",
        "    P=np.sum(Pi)\n",
        "    return P, Pi/P\n",
        "\n",
        "def bubbleT_NRTL(x, P):\n",
        "\n",
        "    def f(T):\n",
        "        return bubbleP_NRTL(x,T)[0]-P\n",
        "\n",
        "    #mole-fraction weighted boiling points of each component at P\n",
        "    #boiling points determined via Clausius Clapeyron, using the Hvap at the normal bp\n",
        "    #for each component.  p.Hvap returns the heat of vaporization of all components for each\n",
        "    #temperature if an array of temperatures is given.\n",
        "    Tguess=np.dot(x,1/(1/p.Tbn-np.log(P/101325)*R/np.diagonal(p.Hvap(p.Tbn))))\n",
        "\n",
        "    res=root_scalar(f, x0=Tguess, method='secant')\n",
        "    if not(res.converged):\n",
        "        return \"FAIL\", res\n",
        "    T=root_scalar(f, x0=Tguess, method='secant').root\n",
        "    Pi= x*gamma(x,T)*p.Pvap(T)\n",
        "    P=np.sum(Pi)\n",
        "\n",
        "    return T, Pi/P\n",
        "\n"
      ],
      "metadata": {
        "id": "Sv4RRhSCpbhw"
      },
      "execution_count": null,
      "outputs": []
    },
    {
      "cell_type": "code",
      "source": [
        "P=101325\n",
        "x1s=np.linspace(0,1,101)\n",
        "Ts=[]\n",
        "y1s=[]\n",
        "for x1 in x1s:\n",
        "    T, (y1,y2) = bubbleT_NRTL(np.array([x1, 1-x1]), P)\n",
        "    Ts.append(T)\n",
        "    y1s.append(y1)\n",
        "\n",
        "\n"
      ],
      "metadata": {
        "id": "1cEd6k0vCzol",
        "colab": {
          "base_uri": "https://localhost:8080/",
          "height": 332
        },
        "outputId": "5412c883-b438-4ea6-948d-12bc8c15d985"
      },
      "execution_count": null,
      "outputs": [
        {
          "output_type": "error",
          "ename": "NameError",
          "evalue": "name 'R' is not defined",
          "traceback": [
            "\u001b[0;31m---------------------------------------------------------------------------\u001b[0m",
            "\u001b[0;31mNameError\u001b[0m                                 Traceback (most recent call last)",
            "\u001b[0;32m<ipython-input-13-7c6c87adb1fd>\u001b[0m in \u001b[0;36m<cell line: 5>\u001b[0;34m()\u001b[0m\n\u001b[1;32m      4\u001b[0m \u001b[0my1s\u001b[0m\u001b[0;34m=\u001b[0m\u001b[0;34m[\u001b[0m\u001b[0;34m]\u001b[0m\u001b[0;34m\u001b[0m\u001b[0;34m\u001b[0m\u001b[0m\n\u001b[1;32m      5\u001b[0m \u001b[0;32mfor\u001b[0m \u001b[0mx1\u001b[0m \u001b[0;32min\u001b[0m \u001b[0mx1s\u001b[0m\u001b[0;34m:\u001b[0m\u001b[0;34m\u001b[0m\u001b[0;34m\u001b[0m\u001b[0m\n\u001b[0;32m----> 6\u001b[0;31m     \u001b[0mT\u001b[0m\u001b[0;34m,\u001b[0m \u001b[0;34m(\u001b[0m\u001b[0my1\u001b[0m\u001b[0;34m,\u001b[0m\u001b[0my2\u001b[0m\u001b[0;34m)\u001b[0m \u001b[0;34m=\u001b[0m \u001b[0mbubbleT_NRTL\u001b[0m\u001b[0;34m(\u001b[0m\u001b[0mnp\u001b[0m\u001b[0;34m.\u001b[0m\u001b[0marray\u001b[0m\u001b[0;34m(\u001b[0m\u001b[0;34m[\u001b[0m\u001b[0mx1\u001b[0m\u001b[0;34m,\u001b[0m \u001b[0;36m1\u001b[0m\u001b[0;34m-\u001b[0m\u001b[0mx1\u001b[0m\u001b[0;34m]\u001b[0m\u001b[0;34m)\u001b[0m\u001b[0;34m,\u001b[0m \u001b[0mP\u001b[0m\u001b[0;34m)\u001b[0m\u001b[0;34m\u001b[0m\u001b[0;34m\u001b[0m\u001b[0m\n\u001b[0m\u001b[1;32m      7\u001b[0m     \u001b[0mTs\u001b[0m\u001b[0;34m.\u001b[0m\u001b[0mappend\u001b[0m\u001b[0;34m(\u001b[0m\u001b[0mT\u001b[0m\u001b[0;34m)\u001b[0m\u001b[0;34m\u001b[0m\u001b[0;34m\u001b[0m\u001b[0m\n\u001b[1;32m      8\u001b[0m     \u001b[0my1s\u001b[0m\u001b[0;34m.\u001b[0m\u001b[0mappend\u001b[0m\u001b[0;34m(\u001b[0m\u001b[0my1\u001b[0m\u001b[0;34m)\u001b[0m\u001b[0;34m\u001b[0m\u001b[0;34m\u001b[0m\u001b[0m\n",
            "\u001b[0;32m<ipython-input-12-d6d4998a3580>\u001b[0m in \u001b[0;36mbubbleT_NRTL\u001b[0;34m(x, P)\u001b[0m\n\u001b[1;32m     13\u001b[0m     \u001b[0;31m#for each component.  p.Hvap returns the heat of vaporization of all components for each\u001b[0m\u001b[0;34m\u001b[0m\u001b[0;34m\u001b[0m\u001b[0m\n\u001b[1;32m     14\u001b[0m     \u001b[0;31m#temperature if an array of temperatures is given.\u001b[0m\u001b[0;34m\u001b[0m\u001b[0;34m\u001b[0m\u001b[0m\n\u001b[0;32m---> 15\u001b[0;31m     \u001b[0mTguess\u001b[0m\u001b[0;34m=\u001b[0m\u001b[0mnp\u001b[0m\u001b[0;34m.\u001b[0m\u001b[0mdot\u001b[0m\u001b[0;34m(\u001b[0m\u001b[0mx\u001b[0m\u001b[0;34m,\u001b[0m\u001b[0;36m1\u001b[0m\u001b[0;34m/\u001b[0m\u001b[0;34m(\u001b[0m\u001b[0;36m1\u001b[0m\u001b[0;34m/\u001b[0m\u001b[0mp\u001b[0m\u001b[0;34m.\u001b[0m\u001b[0mTbn\u001b[0m\u001b[0;34m-\u001b[0m\u001b[0mnp\u001b[0m\u001b[0;34m.\u001b[0m\u001b[0mlog\u001b[0m\u001b[0;34m(\u001b[0m\u001b[0mP\u001b[0m\u001b[0;34m/\u001b[0m\u001b[0;36m101325\u001b[0m\u001b[0;34m)\u001b[0m\u001b[0;34m*\u001b[0m\u001b[0mR\u001b[0m\u001b[0;34m/\u001b[0m\u001b[0mnp\u001b[0m\u001b[0;34m.\u001b[0m\u001b[0mdiagonal\u001b[0m\u001b[0;34m(\u001b[0m\u001b[0mp\u001b[0m\u001b[0;34m.\u001b[0m\u001b[0mHvap\u001b[0m\u001b[0;34m(\u001b[0m\u001b[0mp\u001b[0m\u001b[0;34m.\u001b[0m\u001b[0mTbn\u001b[0m\u001b[0;34m)\u001b[0m\u001b[0;34m)\u001b[0m\u001b[0;34m)\u001b[0m\u001b[0;34m)\u001b[0m\u001b[0;34m\u001b[0m\u001b[0;34m\u001b[0m\u001b[0m\n\u001b[0m\u001b[1;32m     16\u001b[0m \u001b[0;34m\u001b[0m\u001b[0m\n\u001b[1;32m     17\u001b[0m     \u001b[0mres\u001b[0m\u001b[0;34m=\u001b[0m\u001b[0mroot_scalar\u001b[0m\u001b[0;34m(\u001b[0m\u001b[0mf\u001b[0m\u001b[0;34m,\u001b[0m \u001b[0mx0\u001b[0m\u001b[0;34m=\u001b[0m\u001b[0mTguess\u001b[0m\u001b[0;34m,\u001b[0m \u001b[0mmethod\u001b[0m\u001b[0;34m=\u001b[0m\u001b[0;34m'secant'\u001b[0m\u001b[0;34m)\u001b[0m\u001b[0;34m\u001b[0m\u001b[0;34m\u001b[0m\u001b[0m\n",
            "\u001b[0;31mNameError\u001b[0m: name 'R' is not defined"
          ]
        }
      ]
    },
    {
      "cell_type": "code",
      "source": [
        "y1interp = Akima1DInterpolator(x1s, y1s)\n",
        "\n"
      ],
      "metadata": {
        "id": "T9r6bPDpGpG9"
      },
      "execution_count": null,
      "outputs": []
    },
    {
      "cell_type": "code",
      "source": [
        "root_scalar(lambda x1: y1interp(x1)-x1, bracket=(1e-12,1.0 - 1e-12))"
      ],
      "metadata": {
        "id": "pe8Ku557HVho"
      },
      "execution_count": null,
      "outputs": []
    },
    {
      "cell_type": "code",
      "source": [
        "root_scalar(lambda x1: bubbleT_NRTL(np.array([x1,1-x1]),P)[1][0] -x1, bracket=(1e-12,1.0 - 1e-12))"
      ],
      "metadata": {
        "id": "TDOfyqz_HJ7m"
      },
      "execution_count": null,
      "outputs": []
    },
    {
      "cell_type": "code",
      "source": [
        "fig=make_subplots(rows=1,cols=2)\n",
        "fig.add_scatter(x=x1s, y=Ts, mode='lines',row=1,col=1)\n",
        "fig.add_scatter(x=y1s, y=Ts, mode='lines',row=1,col=1)\n",
        "fig.add_scatter(x=x1s, y=y1s, mode='lines', line_color='blue', row=1,col=2)\n",
        "fig.add_scatter(x=[0,1],y=[0,1], mode='lines', line_color='green', row=1,col=2)\n",
        "fig.update_layout(width=1000, height=500, showlegend=False)"
      ],
      "metadata": {
        "id": "tqg3aQ6nEej5"
      },
      "execution_count": null,
      "outputs": []
    },
    {
      "cell_type": "code",
      "source": [
        "z = np.array([0.1,0.2,0.3,0.4])\n",
        "P = 3e5\n",
        "R=8.314\n",
        "bubbleT_NRTL(z,P)\n"
      ],
      "metadata": {
        "id": "muWnVJG8tTUS"
      },
      "execution_count": null,
      "outputs": []
    },
    {
      "cell_type": "code",
      "source": [
        "def dewP_NRTL(y, T):\n",
        "    def f(vec):\n",
        "        P = vec[0]\n",
        "        x = expit(vec[1:])  #Ensures that mole fractions are between 0 and 1\n",
        "\n",
        "        fug_eqs = x*gamma(x,T) * p.Pvap(T)  - y*P\n",
        "        xsum_eq = 1. - np.sum(x)\n",
        "\n",
        "        return np.r_[fug_eqs, xsum_eq]\n",
        "\n",
        "    #Assume ideal liquid dewP calculation for initial guess of P and liquid phase composition\n",
        "    Pguess, xguess= dewP_ideal(z,T)\n",
        "\n",
        "    #f (function to zero) maps values from -inf to inf, to values between 0 and 1\n",
        "    #so xguess is mapped via logit which is the inverse function of expit\n",
        "    v0 = np.r_[Pguess, logit(xguess)]\n",
        "    res=root(f, v0)\n",
        "    if not(res.success):\n",
        "        return \"FAILURE\", res\n",
        "    return res.x[0], expit(res.x[1:])"
      ],
      "metadata": {
        "id": "_B60yBNV6x0W"
      },
      "execution_count": null,
      "outputs": []
    },
    {
      "cell_type": "code",
      "source": [
        "def dewT_NRTL(y, P):\n",
        "    def f(vec):\n",
        "        T = vec[0]\n",
        "        x = expit(vec[1:])  #Ensures that mole fractions are between 0 and 1\n",
        "\n",
        "        fug_eqs = x*gamma(x,T) * p.Pvap(T)  - y*P\n",
        "        xsum_eq = 1. - np.sum(x)\n",
        "\n",
        "        return np.r_[fug_eqs, xsum_eq]\n",
        "\n",
        "    #Assume ideal liquid dewP calculation for initial guess of P and liquid phase composition\n",
        "    Tguess, xguess= dewT_ideal(z,P)\n",
        "\n",
        "    #f (function to zero) maps values from -inf to inf, to values between 0 and 1\n",
        "    #so xguess is mapped via logit which is the inverse function of expit\n",
        "    v0 = np.r_[Tguess, logit(xguess)]\n",
        "    res=root(f, v0)\n",
        "    if not(res.success):\n",
        "        return \"FAILURE\", res\n",
        "    return res.x[0], expit(res.x[1:])"
      ],
      "metadata": {
        "id": "XR4MHf41FtE-"
      },
      "execution_count": null,
      "outputs": []
    },
    {
      "cell_type": "code",
      "source": [
        "dewP_NRTL(z, 373)"
      ],
      "metadata": {
        "id": "88PMN80r_Va2"
      },
      "execution_count": null,
      "outputs": []
    },
    {
      "cell_type": "code",
      "source": [
        "dewT_NRTL(z, 215679)"
      ],
      "metadata": {
        "id": "IecDbh5H_ZSm"
      },
      "execution_count": null,
      "outputs": []
    },
    {
      "cell_type": "code",
      "source": [
        "def flash_idealPT(z, P, T):\n",
        "\n",
        "    K=p.Pvap(T)/P\n",
        "    def rachford(VF):\n",
        "        return np.sum(z*(K-1)/(VF*(K-1) +1))\n",
        "\n",
        "    res=root_scalar(rachford, bracket=(0,1))\n",
        "    VF = res.root\n",
        "    x=z/(1-VF + K *VF)\n",
        "    y=K*x\n",
        "    return x, y, VF"
      ],
      "metadata": {
        "id": "bu_4hen-0gCa"
      },
      "execution_count": null,
      "outputs": []
    },
    {
      "cell_type": "code",
      "source": [
        "def flash_NRTL_PT(z, P, T, maxiter = 100, tol=1e-12):\n",
        "\n",
        "    dewP, dewx = dewP_NRTL(z, T)\n",
        "    bubbleP, bubbley = bubbleP_NRTL(z,T)\n",
        "\n",
        "    xguess = (P-dewP)/(bubbleP-dewP) * (z - dewx) +  dewx\n",
        "\n",
        "    for i in range(maxiter):\n",
        "        K=gamma(xguess,T)*p.Pvap(T)/P\n",
        "\n",
        "        def rachford(VF):\n",
        "            return np.sum(z*(K-1)/(VF*(K-1) +1))\n",
        "\n",
        "        res=root_scalar(rachford, bracket=(0,1))\n",
        "        VF = res.root\n",
        "        x=z/(1-VF + K *VF)\n",
        "        if (np.linalg.norm(xguess-x)<tol):\n",
        "            break\n",
        "        xguess = x\n",
        "\n",
        "    y=K*x\n",
        "    return x, y, VF, i"
      ],
      "metadata": {
        "id": "ZsMszmU0GwpA"
      },
      "execution_count": null,
      "outputs": []
    },
    {
      "cell_type": "code",
      "source": [
        "def flash_NRTL_PQ(z, F_H, flashP,  Q=0.):\n",
        "\n",
        "    dewT_flashP = dewT_NRTL(z, flashP)[0]\n",
        "    bubbleT_flashP = bubbleT_NRTL(z, flashP)[0]\n",
        "\n",
        "\n",
        "    def H_balance(T):\n",
        "        x,y, VF, iter = flash_NRTL_PT(z, flashP, T)\n",
        "        L_H =p.Hl((1-VF)*x, T)\n",
        "        V_H = p.Hv(VF*y, T)\n",
        "        return F_H + Q - L_H - V_H\n",
        "\n",
        "\n",
        "\n",
        "    res=root_scalar(H_balance, bracket=(bubbleT_flashP+1e-12,dewT_flashP-1e-12))\n",
        "    if not(res.converged):\n",
        "        return \"FAIL\", res\n",
        "\n",
        "    T= res.root\n",
        "    x,y, VF, iter = flash_NRTL_PT(z, flashP, T)\n",
        "    return T, x, y, VF\n",
        "\n",
        "\n"
      ],
      "metadata": {
        "id": "v3A1i1BqBXGA"
      },
      "execution_count": null,
      "outputs": []
    },
    {
      "cell_type": "code",
      "source": [
        "p=Props(['Acetone','Ethanol', 'Isopropanol', 'Water'])\n",
        "z=np.array([0.1, 0.2,0.3,0.4])\n",
        "FT = 400.\n",
        "FP = bubbleP_NRTL(z, FT)[0]  #Feed pressure is at bubble pressure\n",
        "FH = p.Hl(z, FT)\n",
        "flashP=FP/2\n",
        "flash_NRTL_PQ(z, FH, flashP)"
      ],
      "metadata": {
        "id": "ZUuUix-aIxUV"
      },
      "execution_count": null,
      "outputs": []
    },
    {
      "cell_type": "code",
      "source": [],
      "metadata": {
        "id": "sS1OerW14-z7"
      },
      "execution_count": null,
      "outputs": []
    },
    {
      "cell_type": "code",
      "source": [
        "FP = (bubbleP_NRTL(z,FT)[0]+dewP_NRTL(z, FT)[0])/2\n",
        "FP"
      ],
      "metadata": {
        "id": "PQ2nu3Q9N7Gi"
      },
      "execution_count": null,
      "outputs": []
    },
    {
      "cell_type": "code",
      "source": [
        "Fx, Fy, F_VF, _=flash_NRTL_PT(z, FP, FT)\n",
        "Fx, Fy, F_VF"
      ],
      "metadata": {
        "id": "ZtGA0FDUEgg0"
      },
      "execution_count": null,
      "outputs": []
    },
    {
      "cell_type": "code",
      "source": [],
      "metadata": {
        "id": "o_1z14I7ObnN"
      },
      "execution_count": null,
      "outputs": []
    },
    {
      "cell_type": "markdown",
      "source": [
        "Rachford Rice:\n",
        "For a flash calculation at a given T and P, we want to solve for the compositions of each phase as well as the fraction of the feed that is vapor (or liquid).  To perform this flash calculation the two key relationships are the overall mass balance F = V + L, zF = xL + yV, y=Kx.  Combining these equations and noting that the sum of mole fractions add to 1, results in the Rachford-Rice expression (with a bit algebraic manipulation).  Sum y - sum x = 0\n",
        "\n",
        "If we have an ideal system, then Ki=Pvap,i(T) / P.  In a non-ideal system, the K=gamma(x,T) * Pvap,i / P.\n",
        "\n",
        "A dew P calculation yields a Pressure, and also the composition of the first liquid drop.  A bubble P calculation also yields another Pressure value, and the liquid phase composition is the feed composition.  For a flash to yield 2 phases, our pressure has to lie between the dewP and bubbleP.  So we linearly interpolate between the 2 liquid compositions based on where the flash P is relative to the bubbleP and dewP.  \n",
        "\n",
        "With that interpolated liquid phase composition as a guess, we proceed with a standard rachford rice calculation for the vapor fraction."
      ],
      "metadata": {
        "id": "Mz67arl4-ui8"
      }
    },
    {
      "cell_type": "code",
      "source": [
        "F = 1.\n",
        "z = np.array([0.45,0.55])\n",
        "rD = 0.98  #fraction recovery of more volatile component in the distillate\n",
        "xD = 0.99\n",
        "D=rD*F*z[0]/xD\n",
        "B = F - D\n",
        "rB = 1-rD\n",
        "xB=rB*F*z[0]/B"
      ],
      "metadata": {
        "id": "AaJiDzj1Kga1"
      },
      "execution_count": null,
      "outputs": []
    },
    {
      "cell_type": "code",
      "source": [
        "D"
      ],
      "metadata": {
        "id": "7ztATHuRKmY9"
      },
      "execution_count": null,
      "outputs": []
    },
    {
      "cell_type": "code",
      "source": [
        "xB"
      ],
      "metadata": {
        "id": "ViSi4XtW3WJf"
      },
      "execution_count": null,
      "outputs": []
    },
    {
      "cell_type": "code",
      "source": [],
      "metadata": {
        "id": "OT8ezc5SBx0N"
      },
      "execution_count": null,
      "outputs": []
    }
  ]
}