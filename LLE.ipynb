{
  "nbformat": 4,
  "nbformat_minor": 0,
  "metadata": {
    "colab": {
      "provenance": [],
      "authorship_tag": "ABX9TyPWil2ibGPvff6TWG+0l36O",
      "include_colab_link": true
    },
    "kernelspec": {
      "name": "python3",
      "display_name": "Python 3"
    },
    "language_info": {
      "name": "python"
    }
  },
  "cells": [
    {
      "cell_type": "markdown",
      "metadata": {
        "id": "view-in-github",
        "colab_type": "text"
      },
      "source": [
        "<a href=\"https://colab.research.google.com/github/chetools/CHE4061_Fall2024/blob/main/LLE.ipynb\" target=\"_parent\"><img src=\"https://colab.research.google.com/assets/colab-badge.svg\" alt=\"Open In Colab\"/></a>"
      ]
    },
    {
      "cell_type": "code",
      "execution_count": null,
      "metadata": {
        "colab": {
          "base_uri": "https://localhost:8080/"
        },
        "id": "2IVvN85dWumt",
        "outputId": "c871142a-0286-4296-9f84-62357b6c3a6d"
      },
      "outputs": [
        {
          "output_type": "stream",
          "name": "stdout",
          "text": [
            "Collecting importnb\n",
            "  Downloading importnb-2023.11.1-py3-none-any.whl.metadata (9.4 kB)\n",
            "Downloading importnb-2023.11.1-py3-none-any.whl (45 kB)\n",
            "\u001b[?25l   \u001b[90m━━━━━━━━━━━━━━━━━━━━━━━━━━━━━━━━━━━━━━━━\u001b[0m \u001b[32m0.0/46.0 kB\u001b[0m \u001b[31m?\u001b[0m eta \u001b[36m-:--:--\u001b[0m\r\u001b[2K   \u001b[90m━━━━━━━━━━━━━━━━━━━━━━━━━━━━━━━━━━━━━━━━\u001b[0m \u001b[32m46.0/46.0 kB\u001b[0m \u001b[31m1.9 MB/s\u001b[0m eta \u001b[36m0:00:00\u001b[0m\n",
            "\u001b[?25hInstalling collected packages: importnb\n",
            "Successfully installed importnb-2023.11.1\n"
          ]
        }
      ],
      "source": [
        "!wget -N -q https://raw.githubusercontent.com/chetools/chetools/main/tools/che5.ipynb -O che5.ipynb\n",
        "!pip install importnb"
      ]
    },
    {
      "cell_type": "code",
      "source": [
        "from importnb import Notebook\n",
        "with Notebook():\n",
        "    from che5 import Props\n",
        "\n",
        "import numpy as np\n",
        "import jax\n",
        "import jax.numpy as jnp\n",
        "jax.config.update(\"jax_enable_x64\", True)\n",
        "from scipy.optimize import minimize"
      ],
      "metadata": {
        "id": "W0bo2gMdWwAr"
      },
      "execution_count": null,
      "outputs": []
    },
    {
      "cell_type": "code",
      "source": [
        "p = Props(['Ethanol', 'Water', 'Toluene'])"
      ],
      "metadata": {
        "id": "NsTmIHdEtvZf"
      },
      "execution_count": null,
      "outputs": []
    },
    {
      "cell_type": "code",
      "source": [
        "#dSsys + dSsurr >= 0\n",
        "#dS = dqrev/T\n",
        "\n",
        "#dU = dq + dW\n",
        "#dU = dq - P dV\n",
        "\n",
        "# dW = F dx = - Pext dV\n",
        "# dW = -Pext dV\n",
        "\n",
        "#dU = dqrev - P dV\n",
        "#dSsys + dSsurr >= 0\n",
        "#dS - dqrev/T >= 0\n",
        "\n",
        "#dS - (dU + P dV)/T >= 0\n",
        "#Gibbs energy const T, P\n",
        "# T dS - (dU + P dV) >= 0\n",
        "# d(TS) - dU + d(PV) >= 0\n",
        "# d(TS) - dH >=0\n",
        "#d(H - TS) <=0\n",
        "# dG <= 0\n",
        "\n",
        "\n",
        "#G = nL*GL + nV*Gv\n",
        "#dG = nL*dGL + GL*dnL + nV*dGv + dnV*GV\n",
        "# dnL = - dnV\n",
        "#dG = nL*dGL + nV*dGv + dnL*(GL - GV)\n",
        "#dGL\n",
        "\n",
        "#dU = T dS - P dV\n",
        "#dH = d(U + PV) = T dS - P dV + P dV + V dP = T dS + V dP\n",
        "#dG = d(H-TS) = dH - TdS - S dT = dH - TdS - SdT = T dS + V dP - TdS - SdT =   -S dT + V dP\n",
        "#dG = -S dT + V dP\n",
        "\n",
        "#const T, P\n",
        "#dG = nL*dGL + nV*dGv + dnL*(GL - GV) = dnL*(GL - GV) = 0 ====> GL = GV\n",
        "\n",
        "#chemical potential of each component is equal in the phases in equilibrium\n",
        "#ui = d(nG)/dni"
      ],
      "metadata": {
        "id": "bYg-Mhy6XgMR"
      },
      "execution_count": null,
      "outputs": []
    },
    {
      "cell_type": "code",
      "source": [
        "T = 3\n",
        "F = 1. * np.array([0.1, 0.45, 0.45])\n",
        "L1guess = np.array([  0.05 , 0.01, 0.44])\n",
        "L2guess = F - L1guess\n",
        "vec_guess = np.r_[L1guess, L2guess]"
      ],
      "metadata": {
        "id": "tbNDsyxlwfwZ"
      },
      "execution_count": null,
      "outputs": []
    },
    {
      "cell_type": "code",
      "source": [
        "def G(vec):\n",
        "    L1, L2 = np.split(vec, 2)\n",
        "    x1, x2 = L1/np.sum(L1), L2/np.sum(L2)\n",
        "    gamma1 = p.NRTL_gamma(x1, T)\n",
        "    gamma2 = p.NRTL_gamma(x2, T)\n",
        "    return np.sum(L1 * np.log(x1*gamma1)) + np.sum(L2*np.log(x2*gamma2))"
      ],
      "metadata": {
        "id": "jFAMfHWNwpfB"
      },
      "execution_count": null,
      "outputs": []
    },
    {
      "cell_type": "code",
      "source": [
        "def MB(vec):\n",
        "    L1, L2 = np.split(vec, 2)\n",
        "    return L1+L2 - F"
      ],
      "metadata": {
        "id": "yAkqQeYWzwws"
      },
      "execution_count": null,
      "outputs": []
    },
    {
      "cell_type": "code",
      "source": [
        "sol = minimize(G, vec_guess, bounds=[(1e-12, F[0]), (1e-12, F[1]), (1e-12, F[2])]*2, constraints = dict(type='eq',fun=MB)).x"
      ],
      "metadata": {
        "id": "qSnlkhLuyeCU",
        "outputId": "06056f11-415f-43a9-d29a-d1b9e2be30c8",
        "colab": {
          "base_uri": "https://localhost:8080/"
        }
      },
      "execution_count": null,
      "outputs": [
        {
          "output_type": "stream",
          "name": "stderr",
          "text": [
            "/usr/local/lib/python3.10/dist-packages/scipy/optimize/_slsqp_py.py:437: RuntimeWarning: Values in x were outside bounds during a minimize step, clipping to bounds\n",
            "  fx = wrapped_fun(x)\n",
            "/usr/local/lib/python3.10/dist-packages/scipy/optimize/_slsqp_py.py:441: RuntimeWarning: Values in x were outside bounds during a minimize step, clipping to bounds\n",
            "  g = append(wrapped_grad(x), 0.0)\n",
            "/usr/local/lib/python3.10/dist-packages/scipy/optimize/_slsqp_py.py:495: RuntimeWarning: Values in x were outside bounds during a minimize step, clipping to bounds\n",
            "  a_eq = vstack([con['jac'](x, *con['args'])\n"
          ]
        }
      ]
    },
    {
      "cell_type": "code",
      "source": [
        "L1_sol, L2_sol = np.split(sol,2)\n",
        "L1_tot, L2_tot = np.sum(L1_sol), np.sum(L2_sol)"
      ],
      "metadata": {
        "id": "fEdyC79g0gfM"
      },
      "execution_count": null,
      "outputs": []
    },
    {
      "cell_type": "code",
      "source": [
        "L1_tot"
      ],
      "metadata": {
        "id": "noG5Akz_07Z0",
        "outputId": "83a51fbe-3742-49e8-d3ac-a73e5de252e0",
        "colab": {
          "base_uri": "https://localhost:8080/"
        }
      },
      "execution_count": null,
      "outputs": [
        {
          "output_type": "execute_result",
          "data": {
            "text/plain": [
              "0.47399478086142516"
            ]
          },
          "metadata": {},
          "execution_count": 28
        }
      ]
    },
    {
      "cell_type": "code",
      "source": [
        "L2_tot"
      ],
      "metadata": {
        "id": "0z5F5vJY08jT",
        "outputId": "63050e41-0839-4172-aa00-dce20fb10adc",
        "colab": {
          "base_uri": "https://localhost:8080/"
        }
      },
      "execution_count": null,
      "outputs": [
        {
          "output_type": "execute_result",
          "data": {
            "text/plain": [
              "0.5260052191385748"
            ]
          },
          "metadata": {},
          "execution_count": 29
        }
      ]
    },
    {
      "cell_type": "code",
      "source": [
        "L1_sol/L1_tot"
      ],
      "metadata": {
        "id": "dpcYFSH00y7T",
        "outputId": "72517191-0f97-4732-d23e-de833ff2e4f6",
        "colab": {
          "base_uri": "https://localhost:8080/"
        }
      },
      "execution_count": null,
      "outputs": [
        {
          "output_type": "execute_result",
          "data": {
            "text/plain": [
              "array([5.17546480e-02, 1.93995521e-04, 9.48051356e-01])"
            ]
          },
          "metadata": {},
          "execution_count": 30
        }
      ]
    },
    {
      "cell_type": "code",
      "source": [
        "L2_sol/L2_tot"
      ],
      "metadata": {
        "id": "__vTthRo0zgD",
        "outputId": "e50ec5f4-375e-4709-d77e-0c933c9ce0e8",
        "colab": {
          "base_uri": "https://localhost:8080/"
        }
      },
      "execution_count": null,
      "outputs": [
        {
          "output_type": "execute_result",
          "data": {
            "text/plain": [
              "array([0.14347494, 0.85533001, 0.00119505])"
            ]
          },
          "metadata": {},
          "execution_count": 31
        }
      ]
    },
    {
      "cell_type": "code",
      "source": [],
      "metadata": {
        "id": "E_A_28Vt00LF"
      },
      "execution_count": null,
      "outputs": []
    }
  ]
}