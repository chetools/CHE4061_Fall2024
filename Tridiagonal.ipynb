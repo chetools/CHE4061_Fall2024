{
  "nbformat": 4,
  "nbformat_minor": 0,
  "metadata": {
    "colab": {
      "provenance": [],
      "authorship_tag": "ABX9TyPSIHXUlvPnL8bZ3M24DJkh",
      "include_colab_link": true
    },
    "kernelspec": {
      "name": "python3",
      "display_name": "Python 3"
    },
    "language_info": {
      "name": "python"
    }
  },
  "cells": [
    {
      "cell_type": "markdown",
      "metadata": {
        "id": "view-in-github",
        "colab_type": "text"
      },
      "source": [
        "<a href=\"https://colab.research.google.com/github/chetools/CHE4061_Fall2024/blob/main/Tridiagonal.ipynb\" target=\"_parent\"><img src=\"https://colab.research.google.com/assets/colab-badge.svg\" alt=\"Open In Colab\"/></a>"
      ]
    },
    {
      "cell_type": "code",
      "execution_count": 22,
      "metadata": {
        "id": "T-ZIYfUZItQg"
      },
      "outputs": [],
      "source": [
        "import numpy as np"
      ]
    },
    {
      "cell_type": "code",
      "source": [
        "rnd = np.random.RandomState(4214134)"
      ],
      "metadata": {
        "id": "asXbBN4jOEwR"
      },
      "execution_count": 23,
      "outputs": []
    },
    {
      "cell_type": "code",
      "source": [
        "N=5"
      ],
      "metadata": {
        "id": "cpY6vR0FOipQ"
      },
      "execution_count": 24,
      "outputs": []
    },
    {
      "cell_type": "code",
      "source": [
        "A = np.diag(rnd.randint(1,10, size=N),k=0) + np.diag(rnd.randint(1,10, size=N-1),k=1) +  np.diag(rnd.randint(1,10, size=N-1),k=-1)\n",
        "e = rnd.randint(1,10, size=N)"
      ],
      "metadata": {
        "id": "87vrDV6tOk7w"
      },
      "execution_count": 69,
      "outputs": []
    },
    {
      "cell_type": "code",
      "source": [
        "np.linalg.solve(A, e)"
      ],
      "metadata": {
        "colab": {
          "base_uri": "https://localhost:8080/"
        },
        "id": "t7BViTCxOuAR",
        "outputId": "518c94ea-5b85-423f-f50a-e92d8368131f"
      },
      "execution_count": 70,
      "outputs": [
        {
          "output_type": "execute_result",
          "data": {
            "text/plain": [
              "array([-0.55692308,  0.75692308, -0.03076923,  1.21846154,  0.78153846])"
            ]
          },
          "metadata": {},
          "execution_count": 70
        }
      ]
    },
    {
      "cell_type": "code",
      "source": [
        "cs = np.zeros(N-1)\n",
        "es = np.zeros(N)"
      ],
      "metadata": {
        "id": "6nZGLNS5QY5a"
      },
      "execution_count": 71,
      "outputs": []
    },
    {
      "cell_type": "code",
      "source": [
        "cs[0] = A[0,1]/A[0,0]\n",
        "es[0] = e[0]/A[0,0]"
      ],
      "metadata": {
        "id": "HZOTBILrRQgm"
      },
      "execution_count": 72,
      "outputs": []
    },
    {
      "cell_type": "code",
      "source": [
        "for i in range(1,N-1):\n",
        "    a, b, c = A[i, i-1:i+2]\n",
        "    b = b - a*cs[i-1]\n",
        "    cs[i] = c/b\n",
        "    es[i] = (e[i] - a*es[i-1])/b\n",
        "\n",
        "a, b= A[N-1, N-2], A[N-1, N-1]\n",
        "b = b - a*cs[N-2]\n",
        "es[-1] = (e[-1]- a*es[-2])/b"
      ],
      "metadata": {
        "id": "jjADt98qQs8c"
      },
      "execution_count": 77,
      "outputs": []
    },
    {
      "cell_type": "code",
      "source": [
        "x = np.zeros(N)\n",
        "x[-1] = es[-1]\n",
        "for i in range(N-2,-1,-1):\n",
        "    x[i]= es[i]-cs[i]*x[i+1]"
      ],
      "metadata": {
        "id": "EyvJZTQ_UQuq"
      },
      "execution_count": 78,
      "outputs": []
    },
    {
      "cell_type": "code",
      "source": [
        "x"
      ],
      "metadata": {
        "colab": {
          "base_uri": "https://localhost:8080/"
        },
        "id": "_f1GHlkrSNgX",
        "outputId": "d055bf94-c69c-4018-bdf2-c425c89115fa"
      },
      "execution_count": 79,
      "outputs": [
        {
          "output_type": "execute_result",
          "data": {
            "text/plain": [
              "array([-0.55692308,  0.75692308, -0.03076923,  1.21846154,  0.78153846])"
            ]
          },
          "metadata": {},
          "execution_count": 79
        }
      ]
    },
    {
      "cell_type": "code",
      "source": [
        "np.linalg.solve(A,e)"
      ],
      "metadata": {
        "colab": {
          "base_uri": "https://localhost:8080/"
        },
        "id": "rMFl1MH4SOU-",
        "outputId": "ec553d7d-e85d-489a-9d4f-5d94dc5d7897"
      },
      "execution_count": 80,
      "outputs": [
        {
          "output_type": "execute_result",
          "data": {
            "text/plain": [
              "array([-0.55692308,  0.75692308, -0.03076923,  1.21846154,  0.78153846])"
            ]
          },
          "metadata": {},
          "execution_count": 80
        }
      ]
    },
    {
      "cell_type": "code",
      "source": [],
      "metadata": {
        "id": "siJhMV81VIHi"
      },
      "execution_count": null,
      "outputs": []
    }
  ]
}