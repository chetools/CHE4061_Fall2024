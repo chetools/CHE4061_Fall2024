{
  "nbformat": 4,
  "nbformat_minor": 0,
  "metadata": {
    "colab": {
      "provenance": [],
      "authorship_tag": "ABX9TyOiGhKbMjVZ/zbwdSeMM31y",
      "include_colab_link": true
    },
    "kernelspec": {
      "name": "python3",
      "display_name": "Python 3"
    },
    "language_info": {
      "name": "python"
    }
  },
  "cells": [
    {
      "cell_type": "markdown",
      "metadata": {
        "id": "view-in-github",
        "colab_type": "text"
      },
      "source": [
        "<a href=\"https://colab.research.google.com/github/chetools/CHE4061_Fall2024/blob/main/MESHDistillation.ipynb\" target=\"_parent\"><img src=\"https://colab.research.google.com/assets/colab-badge.svg\" alt=\"Open In Colab\"/></a>"
      ]
    },
    {
      "cell_type": "code",
      "execution_count": null,
      "metadata": {
        "colab": {
          "base_uri": "https://localhost:8080/"
        },
        "id": "2IVvN85dWumt",
        "outputId": "2c7a14f2-d571-4e7d-b381-7daf758d5088"
      },
      "outputs": [
        {
          "output_type": "stream",
          "name": "stdout",
          "text": [
            "Requirement already satisfied: importnb in /usr/local/lib/python3.10/dist-packages (2023.11.1)\n"
          ]
        }
      ],
      "source": [
        "!wget -N -q https://raw.githubusercontent.com/chetools/chetools/main/tools/che5.ipynb -O che5.ipynb\n",
        "!pip install importnb"
      ]
    },
    {
      "cell_type": "code",
      "source": [
        "from importnb import Notebook\n",
        "with Notebook():\n",
        "    from che5 import Props\n",
        "\n",
        "import numpy as np\n",
        "import jax\n",
        "import jax.numpy as jnp\n",
        "jax.config.update(\"jax_enable_x64\", True)\n",
        "from scipy.optimize import root_scalar\n",
        "from scipy.optimize import root\n",
        "from scipy.special import expit, logit\n",
        "from plotly.subplots import make_subplots\n",
        "from scipy.interpolate import Akima1DInterpolator\n",
        "np.set_printoptions(precision=1)"
      ],
      "metadata": {
        "id": "W0bo2gMdWwAr"
      },
      "execution_count": null,
      "outputs": []
    },
    {
      "cell_type": "code",
      "source": [
        "R=8.314\n",
        "p=Props(['Ethanol', 'Water'])"
      ],
      "metadata": {
        "id": "bYg-Mhy6XgMR"
      },
      "execution_count": null,
      "outputs": []
    },
    {
      "cell_type": "code",
      "source": [
        "def gamma(x,T):\n",
        "    tau = p.NRTL_A + p.NRTL_B/T + p.NRTL_C*np.log(T) + p.NRTL_D*T\n",
        "    G=np.exp(-p.NRTL_alpha*tau)\n",
        "    xG = x@G\n",
        "    xtauG_xG = (x@(tau*G))/xG\n",
        "    return np.exp(xtauG_xG + x@((G*(tau - xtauG_xG[None,:])/xG[None,:]).T))"
      ],
      "metadata": {
        "id": "Q4tPnozmpqD4"
      },
      "execution_count": null,
      "outputs": []
    },
    {
      "cell_type": "code",
      "source": [
        "def dewP_ideal(y, T):\n",
        "    P=1./(np.sum(y/p.Pvap(T)))\n",
        "    return P, y*P/p.Pvap(T)\n",
        "\n",
        "def dewT_ideal(y, P):\n",
        "\n",
        "    def P_dev(T):\n",
        "        return dewP_ideal(y, T)[0] - P\n",
        "    T = root(P_dev, 300.).x[0]\n",
        "\n",
        "    return T,  y*P/p.Pvap(T)"
      ],
      "metadata": {
        "id": "KNN3rRVW_SUG"
      },
      "execution_count": null,
      "outputs": []
    },
    {
      "cell_type": "code",
      "source": [
        "def bubbleP_NRTL(x, T):\n",
        "    Pi= x*gamma(x,T)*p.Pvap(T)\n",
        "    P=np.sum(Pi)\n",
        "    return P, Pi/P\n",
        "\n",
        "def bubbleT_NRTL(x, P):\n",
        "\n",
        "    def f(T):\n",
        "        return bubbleP_NRTL(x,T)[0]-P\n",
        "\n",
        "    #mole-fraction weighted boiling points of each component at P\n",
        "    #boiling points determined via Clausius Clapeyron, using the Hvap at the normal bp\n",
        "    #for each component.  p.Hvap returns the heat of vaporization of all components for each\n",
        "    #temperature if an array of temperatures is given.\n",
        "    Tguess=np.dot(x,1/(1/p.Tbn-np.log(P/101325)*R/np.diagonal(p.Hvap(p.Tbn))))\n",
        "\n",
        "    res=root_scalar(f, x0=Tguess, method='secant')\n",
        "    if not(res.converged):\n",
        "        return \"FAIL\", res\n",
        "    T=root_scalar(f, x0=Tguess, method='secant').root\n",
        "    Pi= x*gamma(x,T)*p.Pvap(T)\n",
        "    P=np.sum(Pi)\n",
        "\n",
        "    return T, Pi/P\n",
        "\n"
      ],
      "metadata": {
        "id": "Sv4RRhSCpbhw"
      },
      "execution_count": null,
      "outputs": []
    },
    {
      "cell_type": "code",
      "source": [
        "P=101325\n",
        "x1s=np.linspace(0,1,101)\n",
        "Ts=[]\n",
        "y1s=[]\n",
        "for x1 in x1s:\n",
        "    T, (y1,y2) = bubbleT_NRTL(np.array([x1, 1-x1]), P)\n",
        "    Ts.append(T)\n",
        "    y1s.append(y1)\n",
        "\n",
        "\n"
      ],
      "metadata": {
        "id": "1cEd6k0vCzol"
      },
      "execution_count": null,
      "outputs": []
    },
    {
      "cell_type": "code",
      "source": [
        "def dewP_NRTL(y, T):\n",
        "    def f(vec):\n",
        "        P = vec[0]\n",
        "        x = expit(vec[1:])  #Ensures that mole fractions are between 0 and 1\n",
        "\n",
        "        fug_eqs = x*gamma(x,T) * p.Pvap(T)  - y*P\n",
        "        xsum_eq = 1. - np.sum(x)\n",
        "\n",
        "        return np.r_[fug_eqs, xsum_eq]\n",
        "\n",
        "    #Assume ideal liquid dewP calculation for initial guess of P and liquid phase composition\n",
        "    Pguess, xguess= dewP_ideal(z,T)\n",
        "\n",
        "    #f (function to zero) maps values from -inf to inf, to values between 0 and 1\n",
        "    #so xguess is mapped via logit which is the inverse function of expit\n",
        "    v0 = np.r_[Pguess, logit(xguess)]\n",
        "    res=root(f, v0)\n",
        "    if not(res.success):\n",
        "        return \"FAILURE\", res\n",
        "    return res.x[0], expit(res.x[1:])"
      ],
      "metadata": {
        "id": "_B60yBNV6x0W"
      },
      "execution_count": null,
      "outputs": []
    },
    {
      "cell_type": "code",
      "source": [
        "def dewT_NRTL(y, P):\n",
        "    def f(vec):\n",
        "        T = vec[0]\n",
        "        x = expit(vec[1:])  #Ensures that mole fractions are between 0 and 1\n",
        "\n",
        "        fug_eqs = x*gamma(x,T) * p.Pvap(T)  - y*P\n",
        "        xsum_eq = 1. - np.sum(x)\n",
        "\n",
        "        return np.r_[fug_eqs, xsum_eq]\n",
        "\n",
        "    #Assume ideal liquid dewP calculation for initial guess of P and liquid phase composition\n",
        "    Tguess, xguess= dewT_ideal(z,P)\n",
        "\n",
        "    #f (function to zero) maps values from -inf to inf, to values between 0 and 1\n",
        "    #so xguess is mapped via logit which is the inverse function of expit\n",
        "    v0 = np.r_[Tguess, logit(xguess)]\n",
        "    res=root(f, v0)\n",
        "    if not(res.success):\n",
        "        return \"FAILURE\", res\n",
        "    return res.x[0], expit(res.x[1:])"
      ],
      "metadata": {
        "id": "XR4MHf41FtE-"
      },
      "execution_count": null,
      "outputs": []
    },
    {
      "cell_type": "code",
      "source": [
        "def flash_idealPT(z, P, T):\n",
        "\n",
        "    K=p.Pvap(T)/P\n",
        "    def rachford(VF):\n",
        "        return np.sum(z*(K-1)/(VF*(K-1) +1))\n",
        "\n",
        "    res=root_scalar(rachford, bracket=(0,1))\n",
        "    VF = res.root\n",
        "    x=z/(1-VF + K *VF)\n",
        "    y=K*x\n",
        "    return x, y, VF"
      ],
      "metadata": {
        "id": "bu_4hen-0gCa"
      },
      "execution_count": null,
      "outputs": []
    },
    {
      "cell_type": "code",
      "source": [
        "def flash_NRTL_PT(z, P, T, maxiter = 100, tol=1e-12):\n",
        "\n",
        "    dewP, dewx = dewP_NRTL(z, T)\n",
        "    bubbleP, bubbley = bubbleP_NRTL(z,T)\n",
        "\n",
        "    xguess = (P-dewP)/(bubbleP-dewP) * (z - dewx) +  dewx\n",
        "\n",
        "    for i in range(maxiter):\n",
        "        K=gamma(xguess,T)*p.Pvap(T)/P\n",
        "\n",
        "        def rachford(VF):\n",
        "            return np.sum(z*(K-1)/(VF*(K-1) +1))\n",
        "\n",
        "        res=root_scalar(rachford, bracket=(0,1))\n",
        "        VF = res.root\n",
        "        x=z/(1-VF + K *VF)\n",
        "        if (np.linalg.norm(xguess-x)<tol):\n",
        "            break\n",
        "        xguess = x\n",
        "\n",
        "    y=K*x\n",
        "    return x, y, VF, i"
      ],
      "metadata": {
        "id": "ZsMszmU0GwpA"
      },
      "execution_count": null,
      "outputs": []
    },
    {
      "cell_type": "code",
      "source": [
        "def flash_NRTL_PT(z, P, T, maxiter = 100, tol=1e-12):\n",
        "\n",
        "    dewP, dewx = dewP_NRTL(z, T)\n",
        "    bubbleP, bubbley = bubbleP_NRTL(z,T)\n",
        "\n",
        "    xguess = (P-dewP)/(bubbleP-dewP) * (z - dewx) +  dewx\n",
        "\n",
        "    for i in range(maxiter):\n",
        "        K=gamma(xguess,T)*p.Pvap(T)/P\n",
        "\n",
        "        def rachford(VF):\n",
        "            return np.sum(z*(K-1)/(VF*(K-1) +1))\n",
        "\n",
        "        res=root_scalar(rachford, bracket=(0,1))\n",
        "        VF = res.root\n",
        "        x=z/(1-VF + K *VF)\n",
        "        if (np.linalg.norm(xguess-x)<tol):\n",
        "            break\n",
        "        xguess = x\n",
        "\n",
        "    y=K*x\n",
        "    return x, y, VF, i\n",
        "\n"
      ],
      "metadata": {
        "id": "OT8ezc5SBx0N"
      },
      "execution_count": null,
      "outputs": []
    },
    {
      "cell_type": "code",
      "source": [
        "Nc = p.Mw.size\n",
        "Ftot = 2.\n",
        "z = np.array([0.5,0.5])\n",
        "P = 1e5\n",
        "dewT, _ = dewT_NRTL(z, P)\n",
        "bubbleT, _ = bubbleT_NRTL(z,P)\n",
        "feedT = (bubbleT + dewT)/2\n",
        "x,y, vf, _ = flash_NRTL_PT(z, P, feedT)\n",
        "feedH=p.Hv(Ftot*vf*y, feedT) + p.Hl(Ftot*(1-vf)*x,feedT)"
      ],
      "metadata": {
        "id": "yMp7062mZd-0"
      },
      "execution_count": null,
      "outputs": []
    },
    {
      "cell_type": "code",
      "source": [
        "D = 1.\n",
        "B = Ftot - D\n",
        "R = 5.\n",
        "Ns = 8\n",
        "Nf = 4\n",
        "\n",
        "unk = np.zeros((Ns, 2*Nc+1))\n",
        "Ltot_rec = R*D\n",
        "Ltot_strip = Ltot_rec + Ftot*(1-vf)\n",
        "Vtot_rec = R*D + D\n",
        "Vtot_strip = Vtot_rec - Ftot*vf\n",
        "unk[:Nf,:Nc] = Ltot_rec*y\n",
        "unk[Nf:-1,:Nc] = Ltot_strip*x\n",
        "unk[-1,:Nc] = B*x\n",
        "unk[:Nf,Nc:2*Nc ] = Vtot_rec*y\n",
        "unk[Nf:,Nc:2*Nc ] = Vtot_strip*x\n",
        "unk[:,-1]=np.linspace(bubbleT_NRTL(y,P)[0],dewT_NRTL(x,P)[0],Ns)"
      ],
      "metadata": {
        "id": "IF_zRJ2fg15Y"
      },
      "execution_count": null,
      "outputs": []
    },
    {
      "cell_type": "code",
      "source": [
        "unk"
      ],
      "metadata": {
        "colab": {
          "base_uri": "https://localhost:8080/"
        },
        "id": "HgUMYze0syzs",
        "outputId": "dc4655f0-74ea-42fc-c312-41e21d291148"
      },
      "execution_count": null,
      "outputs": [
        {
          "output_type": "execute_result",
          "data": {
            "text/plain": [
              "array([[2.8e+00, 2.2e+00, 3.4e+00, 2.6e+00, 3.5e+02],\n",
              "       [2.8e+00, 2.2e+00, 3.4e+00, 2.6e+00, 3.5e+02],\n",
              "       [2.8e+00, 2.2e+00, 3.4e+00, 2.6e+00, 3.6e+02],\n",
              "       [2.8e+00, 2.2e+00, 3.4e+00, 2.6e+00, 3.6e+02],\n",
              "       [1.4e+00, 4.0e+00, 1.1e+00, 3.3e+00, 3.6e+02],\n",
              "       [1.4e+00, 4.0e+00, 1.1e+00, 3.3e+00, 3.6e+02],\n",
              "       [1.4e+00, 4.0e+00, 1.1e+00, 3.3e+00, 3.6e+02],\n",
              "       [2.6e-01, 7.4e-01, 1.1e+00, 3.3e+00, 3.7e+02]])"
            ]
          },
          "metadata": {},
          "execution_count": 105
        }
      ]
    },
    {
      "cell_type": "code",
      "source": [
        "def stage1(vec, vec2, refluxT):\n",
        "    T,T2 = vec[-1], vec2[-1]\n",
        "    L,V = np.split(vec[:-1],2)\n",
        "    L2,V2 = np.split(vec2[:-1],2)\n",
        "    x = L/np.sum(L)\n",
        "    y = V/np.sum(V)\n",
        "\n",
        "    MB = (V2 + R*D*y - V - L)/Ftot\n",
        "    EQ = x*p.NRTL_gamma(x,T)*p.Pvap(T)/P - y\n",
        "    EB = (p.Hv(V2, T2) + p.Hl(R*D*y, refluxT) - p.Hv(V, T) - p.Hl(L, T))/feedH\n",
        "\n",
        "    return jnp.r_[MB, EQ, EB]\n",
        "\n",
        "def stage(vec1, vec, vec2, f, fH):\n",
        "    T1, T,T2 = vec1[-1], vec[-1], vec2[-1]\n",
        "    L1,V1 = np.split(vec1[:-1],2)\n",
        "    L,V = np.split(vec[:-1],2)\n",
        "    L2,V2 = np.split(vec2[:-1],2)\n",
        "    x = L/np.sum(L)\n",
        "    y = V/np.sum(V)\n",
        "\n",
        "    MB = (f + V2 + L1 - V - L)/Ftot\n",
        "    EQ = x*p.NRTL_gamma(x,T)*p.Pvap(T)/P - y\n",
        "    EB = (fH + p.Hv(V2, T2) + p.Hl(L1, T1) - p.Hv(V, T) - p.Hl(L, T))/feedH\n",
        "\n",
        "    return jnp.r_[MB, EQ, EB]\n",
        "\n",
        "\n",
        "def stageN(vec1, vec):\n",
        "    T1, T = vec1[-1], vec[-1]\n",
        "    L1,V1 = np.split(vec1[:-1],2)\n",
        "    L,V = np.split(vec[:-1],2)\n",
        "    x = L/np.sum(L)\n",
        "    y = V/np.sum(V)\n",
        "\n",
        "    MB = (L1 - V - L)/Ftot\n",
        "    EQ = x*p.NRTL_gamma(x,T)*p.Pvap(T)/P - y\n",
        "    MB2 = (np.sum(L1) - np.sum(V) - B)/Ftot\n",
        "\n",
        "    return jnp.r_[MB, EQ, MB2]"
      ],
      "metadata": {
        "id": "GGMoEwoDiBxi"
      },
      "execution_count": null,
      "outputs": []
    },
    {
      "cell_type": "code",
      "source": [
        "es = np.zeros((Ns, 2*Nc+1))\n"
      ],
      "metadata": {
        "id": "8mnFXoHNnGYZ"
      },
      "execution_count": null,
      "outputs": []
    },
    {
      "cell_type": "code",
      "source": [
        "L,V = np.split(unk[0,:-1],2)\n",
        "y=V/np.sum(V)\n",
        "es[0] = stage1(unk[0], unk[1], bubbleT_NRTL(y, P)[0])\n",
        "for i in range(1, Ns-1):\n",
        "    if i==Nf:\n",
        "        es[i]= stage(unk[i-1], unk[i], unk[i+1], Ftot*z, feedH)\n",
        "    else:\n",
        "        es[i]= stage(unk[i-1], unk[i], unk[i+1], 0., 0.)\n"
      ],
      "metadata": {
        "id": "HZ5CCtBBurdW"
      },
      "execution_count": null,
      "outputs": []
    },
    {
      "cell_type": "code",
      "source": [
        "es"
      ],
      "metadata": {
        "colab": {
          "base_uri": "https://localhost:8080/"
        },
        "id": "ZB8Zji_1vJXv",
        "outputId": "8f0c9459-d392-4c94-89da-bd8ca1cf32c9"
      },
      "execution_count": null,
      "outputs": [
        {
          "output_type": "execute_result",
          "data": {
            "text/plain": [
              "array([[ 4.2e-15,  3.3e-15,  1.2e-01, -1.2e-01, -1.1e-03],\n",
              "       [-2.2e-16,  2.2e-16,  1.7e-01, -9.3e-02,  1.1e-03],\n",
              "       [-2.2e-16,  2.2e-16,  2.2e-01, -6.7e-02,  1.1e-03],\n",
              "       [-1.1e+00,  3.3e-01,  2.8e-01, -3.9e-02, -7.4e-01],\n",
              "       [ 1.2e+00, -4.2e-01,  4.2e-01, -2.1e-01,  7.3e-01],\n",
              "       [ 1.1e-16,  4.4e-16,  4.7e-01, -1.8e-01,  1.3e-03],\n",
              "       [ 1.1e-16,  4.4e-16,  5.2e-01, -1.3e-01,  1.3e-03],\n",
              "       [ 0.0e+00,  0.0e+00,  0.0e+00,  0.0e+00,  0.0e+00]])"
            ]
          },
          "metadata": {},
          "execution_count": 117
        }
      ]
    },
    {
      "cell_type": "code",
      "source": [],
      "metadata": {
        "id": "AupmQAPNvL8n"
      },
      "execution_count": null,
      "outputs": []
    }
  ]
}