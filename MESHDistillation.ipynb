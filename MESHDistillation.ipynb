{
  "nbformat": 4,
  "nbformat_minor": 0,
  "metadata": {
    "colab": {
      "provenance": [],
      "authorship_tag": "ABX9TyPpkFt4csu0iLdQ3RqH5DvY",
      "include_colab_link": true
    },
    "kernelspec": {
      "name": "python3",
      "display_name": "Python 3"
    },
    "language_info": {
      "name": "python"
    }
  },
  "cells": [
    {
      "cell_type": "markdown",
      "metadata": {
        "id": "view-in-github",
        "colab_type": "text"
      },
      "source": [
        "<a href=\"https://colab.research.google.com/github/chetools/CHE4061_Fall2024/blob/main/MESHDistillation.ipynb\" target=\"_parent\"><img src=\"https://colab.research.google.com/assets/colab-badge.svg\" alt=\"Open In Colab\"/></a>"
      ]
    },
    {
      "cell_type": "code",
      "execution_count": 1,
      "metadata": {
        "colab": {
          "base_uri": "https://localhost:8080/"
        },
        "id": "2IVvN85dWumt",
        "outputId": "d64a9da3-a5c5-4d65-bba7-4ffa067787ad"
      },
      "outputs": [
        {
          "output_type": "stream",
          "name": "stdout",
          "text": [
            "Collecting importnb\n",
            "  Downloading importnb-2023.11.1-py3-none-any.whl.metadata (9.4 kB)\n",
            "Downloading importnb-2023.11.1-py3-none-any.whl (45 kB)\n",
            "\u001b[?25l   \u001b[90m━━━━━━━━━━━━━━━━━━━━━━━━━━━━━━━━━━━━━━━━\u001b[0m \u001b[32m0.0/46.0 kB\u001b[0m \u001b[31m?\u001b[0m eta \u001b[36m-:--:--\u001b[0m\r\u001b[2K   \u001b[90m━━━━━━━━━━━━━━━━━━━━━━━━━━━━━━━━━━━━━━━━\u001b[0m \u001b[32m46.0/46.0 kB\u001b[0m \u001b[31m2.4 MB/s\u001b[0m eta \u001b[36m0:00:00\u001b[0m\n",
            "\u001b[?25hInstalling collected packages: importnb\n",
            "Successfully installed importnb-2023.11.1\n"
          ]
        }
      ],
      "source": [
        "!wget -N -q https://raw.githubusercontent.com/chetools/chetools/main/tools/che5.ipynb -O che5.ipynb\n",
        "!pip install importnb"
      ]
    },
    {
      "cell_type": "code",
      "source": [
        "from importnb import Notebook\n",
        "with Notebook():\n",
        "    from che5 import Props\n",
        "\n",
        "import numpy as np\n",
        "import jax\n",
        "import jax.numpy as jnp\n",
        "jax.config.update(\"jax_enable_x64\", True)\n",
        "from scipy.optimize import root_scalar\n",
        "from scipy.optimize import root\n",
        "from scipy.special import expit, logit\n",
        "from plotly.subplots import make_subplots\n",
        "from scipy.interpolate import Akima1DInterpolator\n",
        "np.set_printoptions(precision=1)"
      ],
      "metadata": {
        "id": "W0bo2gMdWwAr"
      },
      "execution_count": 2,
      "outputs": []
    },
    {
      "cell_type": "code",
      "source": [
        "R=8.314\n",
        "p=Props(['Ethanol', 'Water'])"
      ],
      "metadata": {
        "id": "bYg-Mhy6XgMR"
      },
      "execution_count": 3,
      "outputs": []
    },
    {
      "cell_type": "code",
      "source": [
        "def gamma(x,T):\n",
        "    tau = p.NRTL_A + p.NRTL_B/T + p.NRTL_C*np.log(T) + p.NRTL_D*T\n",
        "    G=np.exp(-p.NRTL_alpha*tau)\n",
        "    xG = x@G\n",
        "    xtauG_xG = (x@(tau*G))/xG\n",
        "    return np.exp(xtauG_xG + x@((G*(tau - xtauG_xG[None,:])/xG[None,:]).T))"
      ],
      "metadata": {
        "id": "Q4tPnozmpqD4"
      },
      "execution_count": 4,
      "outputs": []
    },
    {
      "cell_type": "code",
      "source": [
        "def dewP_ideal(y, T):\n",
        "    P=1./(np.sum(y/p.Pvap(T)))\n",
        "    return P, y*P/p.Pvap(T)\n",
        "\n",
        "def dewT_ideal(y, P):\n",
        "\n",
        "    def P_dev(T):\n",
        "        return dewP_ideal(y, T)[0] - P\n",
        "    T = root(P_dev, 300.).x[0]\n",
        "\n",
        "    return T,  y*P/p.Pvap(T)"
      ],
      "metadata": {
        "id": "KNN3rRVW_SUG"
      },
      "execution_count": 5,
      "outputs": []
    },
    {
      "cell_type": "code",
      "source": [
        "def bubbleP_NRTL(x, T):\n",
        "    Pi= x*gamma(x,T)*p.Pvap(T)\n",
        "    P=np.sum(Pi)\n",
        "    return P, Pi/P\n",
        "\n",
        "def bubbleT_NRTL(x, P):\n",
        "\n",
        "    def f(T):\n",
        "        return bubbleP_NRTL(x,T)[0]-P\n",
        "\n",
        "    #mole-fraction weighted boiling points of each component at P\n",
        "    #boiling points determined via Clausius Clapeyron, using the Hvap at the normal bp\n",
        "    #for each component.  p.Hvap returns the heat of vaporization of all components for each\n",
        "    #temperature if an array of temperatures is given.\n",
        "    Tguess=np.dot(x,1/(1/p.Tbn-np.log(P/101325)*R/np.diagonal(p.Hvap(p.Tbn))))\n",
        "\n",
        "    res=root_scalar(f, x0=Tguess, method='secant')\n",
        "    if not(res.converged):\n",
        "        return \"FAIL\", res\n",
        "    T=root_scalar(f, x0=Tguess, method='secant').root\n",
        "    Pi= x*gamma(x,T)*p.Pvap(T)\n",
        "    P=np.sum(Pi)\n",
        "\n",
        "    return T, Pi/P\n",
        "\n"
      ],
      "metadata": {
        "id": "Sv4RRhSCpbhw"
      },
      "execution_count": 6,
      "outputs": []
    },
    {
      "cell_type": "code",
      "source": [
        "P=101325\n",
        "x1s=np.linspace(0,1,101)\n",
        "Ts=[]\n",
        "y1s=[]\n",
        "for x1 in x1s:\n",
        "    T, (y1,y2) = bubbleT_NRTL(np.array([x1, 1-x1]), P)\n",
        "    Ts.append(T)\n",
        "    y1s.append(y1)\n",
        "\n",
        "\n"
      ],
      "metadata": {
        "id": "1cEd6k0vCzol"
      },
      "execution_count": 7,
      "outputs": []
    },
    {
      "cell_type": "code",
      "source": [
        "def dewP_NRTL(y, T):\n",
        "    def f(vec):\n",
        "        P = vec[0]\n",
        "        x = expit(vec[1:])  #Ensures that mole fractions are between 0 and 1\n",
        "\n",
        "        fug_eqs = x*gamma(x,T) * p.Pvap(T)  - y*P\n",
        "        xsum_eq = 1. - np.sum(x)\n",
        "\n",
        "        return np.r_[fug_eqs, xsum_eq]\n",
        "\n",
        "    #Assume ideal liquid dewP calculation for initial guess of P and liquid phase composition\n",
        "    Pguess, xguess= dewP_ideal(z,T)\n",
        "\n",
        "    #f (function to zero) maps values from -inf to inf, to values between 0 and 1\n",
        "    #so xguess is mapped via logit which is the inverse function of expit\n",
        "    v0 = np.r_[Pguess, logit(xguess)]\n",
        "    res=root(f, v0)\n",
        "    if not(res.success):\n",
        "        return \"FAILURE\", res\n",
        "    return res.x[0], expit(res.x[1:])"
      ],
      "metadata": {
        "id": "_B60yBNV6x0W"
      },
      "execution_count": 8,
      "outputs": []
    },
    {
      "cell_type": "code",
      "source": [
        "def dewT_NRTL(y, P):\n",
        "    def f(vec):\n",
        "        T = vec[0]\n",
        "        x = expit(vec[1:])  #Ensures that mole fractions are between 0 and 1\n",
        "\n",
        "        fug_eqs = x*gamma(x,T) * p.Pvap(T)  - y*P\n",
        "        xsum_eq = 1. - np.sum(x)\n",
        "\n",
        "        return np.r_[fug_eqs, xsum_eq]\n",
        "\n",
        "    #Assume ideal liquid dewP calculation for initial guess of P and liquid phase composition\n",
        "    Tguess, xguess= dewT_ideal(z,P)\n",
        "\n",
        "    #f (function to zero) maps values from -inf to inf, to values between 0 and 1\n",
        "    #so xguess is mapped via logit which is the inverse function of expit\n",
        "    v0 = np.r_[Tguess, logit(xguess)]\n",
        "    res=root(f, v0)\n",
        "    if not(res.success):\n",
        "        return \"FAILURE\", res\n",
        "    return res.x[0], expit(res.x[1:])"
      ],
      "metadata": {
        "id": "XR4MHf41FtE-"
      },
      "execution_count": 9,
      "outputs": []
    },
    {
      "cell_type": "code",
      "source": [
        "def flash_idealPT(z, P, T):\n",
        "\n",
        "    K=p.Pvap(T)/P\n",
        "    def rachford(VF):\n",
        "        return np.sum(z*(K-1)/(VF*(K-1) +1))\n",
        "\n",
        "    res=root_scalar(rachford, bracket=(0,1))\n",
        "    VF = res.root\n",
        "    x=z/(1-VF + K *VF)\n",
        "    y=K*x\n",
        "    return x, y, VF"
      ],
      "metadata": {
        "id": "bu_4hen-0gCa"
      },
      "execution_count": 10,
      "outputs": []
    },
    {
      "cell_type": "code",
      "source": [
        "def flash_NRTL_PT(z, P, T, maxiter = 100, tol=1e-12):\n",
        "\n",
        "    dewP, dewx = dewP_NRTL(z, T)\n",
        "    bubbleP, bubbley = bubbleP_NRTL(z,T)\n",
        "\n",
        "    xguess = (P-dewP)/(bubbleP-dewP) * (z - dewx) +  dewx\n",
        "\n",
        "    for i in range(maxiter):\n",
        "        K=gamma(xguess,T)*p.Pvap(T)/P\n",
        "\n",
        "        def rachford(VF):\n",
        "            return np.sum(z*(K-1)/(VF*(K-1) +1))\n",
        "\n",
        "        res=root_scalar(rachford, bracket=(0,1))\n",
        "        VF = res.root\n",
        "        x=z/(1-VF + K *VF)\n",
        "        if (np.linalg.norm(xguess-x)<tol):\n",
        "            break\n",
        "        xguess = x\n",
        "\n",
        "    y=K*x\n",
        "    return x, y, VF, i"
      ],
      "metadata": {
        "id": "ZsMszmU0GwpA"
      },
      "execution_count": 11,
      "outputs": []
    },
    {
      "cell_type": "code",
      "source": [
        "def flash_NRTL_PT(z, P, T, maxiter = 100, tol=1e-12):\n",
        "\n",
        "    dewP, dewx = dewP_NRTL(z, T)\n",
        "    bubbleP, bubbley = bubbleP_NRTL(z,T)\n",
        "\n",
        "    xguess = (P-dewP)/(bubbleP-dewP) * (z - dewx) +  dewx\n",
        "\n",
        "    for i in range(maxiter):\n",
        "        K=gamma(xguess,T)*p.Pvap(T)/P\n",
        "\n",
        "        def rachford(VF):\n",
        "            return np.sum(z*(K-1)/(VF*(K-1) +1))\n",
        "\n",
        "        res=root_scalar(rachford, bracket=(0,1))\n",
        "        VF = res.root\n",
        "        x=z/(1-VF + K *VF)\n",
        "        if (np.linalg.norm(xguess-x)<tol):\n",
        "            break\n",
        "        xguess = x\n",
        "\n",
        "    y=K*x\n",
        "    return x, y, VF, i\n",
        "\n"
      ],
      "metadata": {
        "id": "OT8ezc5SBx0N"
      },
      "execution_count": 12,
      "outputs": []
    },
    {
      "cell_type": "code",
      "source": [
        "Nc = p.Mw.size\n",
        "Ftot = 2.\n",
        "z = np.array([0.5,0.5])\n",
        "P = 1e5\n",
        "dewT, _ = dewT_NRTL(z, P)\n",
        "bubbleT, _ = bubbleT_NRTL(z,P)\n",
        "feedT = (bubbleT + dewT)/2\n",
        "x,y, vf, _ = flash_NRTL_PT(z, P, feedT)\n",
        "feedH=p.Hv(Ftot*vf*y, feedT) + p.Hl(Ftot*(1-vf)*x,feedT)"
      ],
      "metadata": {
        "id": "yMp7062mZd-0"
      },
      "execution_count": 13,
      "outputs": []
    },
    {
      "cell_type": "code",
      "source": [
        "D = 1.\n",
        "Btot = Ftot - D\n",
        "R = 5.\n",
        "Ns = 10\n",
        "Nf = 7\n",
        "\n",
        "unk = np.zeros((Ns, 2*Nc+1))\n",
        "Ltot_rec = R*D\n",
        "Ltot_strip = Ltot_rec + Ftot*(1-vf)\n",
        "Vtot_rec = R*D + D\n",
        "Vtot_strip = Vtot_rec - Ftot*vf\n",
        "unk[:Nf,:Nc] = Ltot_rec*y\n",
        "unk[Nf:-1,:Nc] = Ltot_strip*x\n",
        "unk[-1,:Nc] = Btot*x\n",
        "unk[:Nf,Nc:2*Nc ] = Vtot_rec*y\n",
        "unk[Nf:,Nc:2*Nc ] = Vtot_strip*x\n",
        "unk[:,-1]=np.linspace(bubbleT_NRTL(y,P)[0],dewT_NRTL(x,P)[0],Ns)"
      ],
      "metadata": {
        "id": "IF_zRJ2fg15Y"
      },
      "execution_count": 64,
      "outputs": []
    },
    {
      "cell_type": "code",
      "source": [
        "def stage1(vec, vec2, refluxT):\n",
        "    T,T2 = vec[-1], vec2[-1]\n",
        "    L,V = jnp.split(vec[:-1],2)\n",
        "    L2,V2 = jnp.split(vec2[:-1],2)\n",
        "    x = L/jnp.sum(L)\n",
        "    y = V/jnp.sum(V)\n",
        "\n",
        "    MB = (V2 + R*D*y - V - L)/Ftot\n",
        "    EQ = x*p.NRTL_gamma(x,T)*p.Pvap(T)/P - y\n",
        "    EB = (p.Hv(V2, T2) + p.Hl(R*D*y, refluxT) - p.Hv(V, T) - p.Hl(L, T))/feedH\n",
        "\n",
        "    return jnp.r_[MB, EQ, EB]\n",
        "\n",
        "def stage(vec1, vec, vec2, f, fH):\n",
        "    T1, T,T2 = vec1[-1], vec[-1], vec2[-1]\n",
        "    L1,V1 = jnp.split(vec1[:-1],2)\n",
        "    L,V = jnp.split(vec[:-1],2)\n",
        "    L2,V2 = jnp.split(vec2[:-1],2)\n",
        "    x = L/jnp.sum(L)\n",
        "    y = V/jnp.sum(V)\n",
        "\n",
        "    MB = (f + V2 + L1 - V - L)/Ftot\n",
        "    EQ = x*p.NRTL_gamma(x,T)*p.Pvap(T)/P - y\n",
        "    EB = (fH + p.Hv(V2, T2) + p.Hl(L1, T1) - p.Hv(V, T) - p.Hl(L, T))/feedH\n",
        "\n",
        "    return jnp.r_[MB, EQ, EB]\n",
        "\n",
        "\n",
        "def stageN(vec1, vec):\n",
        "    T1, T = vec1[-1], vec[-1]\n",
        "    L1,V1 = jnp.split(vec1[:-1],2)\n",
        "    L,V = jnp.split(vec[:-1],2)\n",
        "    x = L/jnp.sum(L)\n",
        "    y = V/jnp.sum(V)\n",
        "\n",
        "    MB = (L1 - V - L)/Ftot\n",
        "    EQ = x*p.NRTL_gamma(x,T)*p.Pvap(T)/P - y\n",
        "    MB2 = (jnp.sum(L1) - jnp.sum(V) - Btot)/Ftot\n",
        "\n",
        "    return jnp.r_[MB, EQ, MB2]"
      ],
      "metadata": {
        "id": "GGMoEwoDiBxi"
      },
      "execution_count": 65,
      "outputs": []
    },
    {
      "cell_type": "code",
      "source": [
        "stage1_jac = jax.jit(jax.jacobian(stage1, (0,1)))\n",
        "stage_jac = jax.jit(jax.jacobian(stage, (0,1,2)))\n",
        "stageN_jac = jax.jit(jax.jacobian(stageN, (0,1)))"
      ],
      "metadata": {
        "id": "AnqxGz72YyhI"
      },
      "execution_count": 77,
      "outputs": []
    },
    {
      "cell_type": "code",
      "source": [
        "Es = np.zeros((Ns, 2*Nc+1))\n",
        "Cs = np.zeros((Ns-1, 2*Nc+1, 2*Nc+1))"
      ],
      "metadata": {
        "id": "8mnFXoHNnGYZ"
      },
      "execution_count": 78,
      "outputs": []
    },
    {
      "cell_type": "code",
      "source": [
        "L,V = np.split(unk[0,:-1],2)\n",
        "y=V/np.sum(V)\n",
        "Es[0] = stage1(unk[0], unk[1], bubbleT_NRTL(y, P)[0])\n",
        "for i in range(1, Ns-1):\n",
        "    if i==Nf:\n",
        "        Es[i]= stage(unk[i-1], unk[i], unk[i+1], Ftot*z, feedH)\n",
        "    else:\n",
        "        Es[i]= stage(unk[i-1], unk[i], unk[i+1], 0., 0.)\n",
        "\n",
        "Es[-1] = stageN(unk[-2], unk[-1])"
      ],
      "metadata": {
        "id": "HZ5CCtBBurdW"
      },
      "execution_count": 79,
      "outputs": []
    },
    {
      "cell_type": "code",
      "source": [
        "B,C = stage1_jac(unk[0], unk[1],bubbleT_NRTL(y, P)[0])\n",
        "Binv = np.linalg.inv(B)\n",
        "Cs[0]= Binv @ C\n",
        "Es[0]= Binv @ Es[0]"
      ],
      "metadata": {
        "id": "AupmQAPNvL8n"
      },
      "execution_count": 80,
      "outputs": []
    },
    {
      "cell_type": "code",
      "source": [
        "for i in range(1, Ns-1):\n",
        "    if i==Nf:\n",
        "        A,B,C = stage_jac(unk[i-1], unk[i], unk[i+1], Ftot*z, feedH)\n",
        "    else:\n",
        "        A,B,C= stage_jac(unk[i-1], unk[i], unk[i+1], 0., 0.)\n",
        "\n",
        "    Binv = np.linalg.inv(B-A@Cs[i-1])\n",
        "    Cs[i]=Binv@C\n",
        "    Es[i]=Binv@(Es[i]-A@Es[i-1])\n",
        "\n",
        "A,B = stageN_jac(unk[-2], unk[-1])\n",
        "Es[-1] = np.linalg.inv(B)@ (Es[i] - A@Es[i-1])"
      ],
      "metadata": {
        "id": "m4KOy2KUdrmp"
      },
      "execution_count": 84,
      "outputs": []
    },
    {
      "cell_type": "code",
      "source": [],
      "metadata": {
        "id": "_2jqt6zOfB2g"
      },
      "execution_count": null,
      "outputs": []
    }
  ]
}