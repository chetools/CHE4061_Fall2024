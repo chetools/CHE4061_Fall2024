{
  "nbformat": 4,
  "nbformat_minor": 0,
  "metadata": {
    "colab": {
      "provenance": [],
      "authorship_tag": "ABX9TyMGb4DrpcO4sJ6uYcmStm6E",
      "include_colab_link": true
    },
    "kernelspec": {
      "name": "python3",
      "display_name": "Python 3"
    },
    "language_info": {
      "name": "python"
    }
  },
  "cells": [
    {
      "cell_type": "markdown",
      "metadata": {
        "id": "view-in-github",
        "colab_type": "text"
      },
      "source": [
        "<a href=\"https://colab.research.google.com/github/chetools/CHE4061_Fall2024/blob/main/MESHDistillation.ipynb\" target=\"_parent\"><img src=\"https://colab.research.google.com/assets/colab-badge.svg\" alt=\"Open In Colab\"/></a>"
      ]
    },
    {
      "cell_type": "code",
      "execution_count": 1,
      "metadata": {
        "colab": {
          "base_uri": "https://localhost:8080/"
        },
        "id": "2IVvN85dWumt",
        "outputId": "92b9380f-ab97-4fb4-83e6-3e922dec12eb"
      },
      "outputs": [
        {
          "output_type": "stream",
          "name": "stdout",
          "text": [
            "Collecting importnb\n",
            "  Downloading importnb-2023.11.1-py3-none-any.whl.metadata (9.4 kB)\n",
            "Downloading importnb-2023.11.1-py3-none-any.whl (45 kB)\n",
            "\u001b[?25l   \u001b[90m━━━━━━━━━━━━━━━━━━━━━━━━━━━━━━━━━━━━━━━━\u001b[0m \u001b[32m0.0/46.0 kB\u001b[0m \u001b[31m?\u001b[0m eta \u001b[36m-:--:--\u001b[0m\r\u001b[2K   \u001b[90m━━━━━━━━━━━━━━━━━━━━━━━━━━━━━━━━━━━━━━━━\u001b[0m \u001b[32m46.0/46.0 kB\u001b[0m \u001b[31m2.7 MB/s\u001b[0m eta \u001b[36m0:00:00\u001b[0m\n",
            "\u001b[?25hInstalling collected packages: importnb\n",
            "Successfully installed importnb-2023.11.1\n"
          ]
        }
      ],
      "source": [
        "!wget -N -q https://raw.githubusercontent.com/chetools/chetools/main/tools/che5.ipynb -O che5.ipynb\n",
        "!pip install importnb"
      ]
    },
    {
      "cell_type": "code",
      "source": [
        "from importnb import Notebook\n",
        "with Notebook():\n",
        "    from che5 import Props\n",
        "\n",
        "import numpy as np\n",
        "import jax\n",
        "import jax.numpy as jnp\n",
        "jax.config.update(\"jax_enable_x64\", True)\n",
        "from scipy.optimize import root_scalar, minimize_scalar, bracket\n",
        "from scipy.optimize import root\n",
        "from scipy.special import expit, logit\n",
        "from plotly.subplots import make_subplots\n",
        "from scipy.interpolate import Akima1DInterpolator\n",
        "np.set_printoptions(precision=5)"
      ],
      "metadata": {
        "id": "W0bo2gMdWwAr"
      },
      "execution_count": 44,
      "outputs": []
    },
    {
      "cell_type": "code",
      "source": [
        "R=8.314\n",
        "p=Props(['Ethanol', 'Water'])"
      ],
      "metadata": {
        "id": "bYg-Mhy6XgMR"
      },
      "execution_count": 4,
      "outputs": []
    },
    {
      "cell_type": "code",
      "source": [
        "def gamma(x,T):\n",
        "    tau = p.NRTL_A + p.NRTL_B/T + p.NRTL_C*np.log(T) + p.NRTL_D*T\n",
        "    G=np.exp(-p.NRTL_alpha*tau)\n",
        "    xG = x@G\n",
        "    xtauG_xG = (x@(tau*G))/xG\n",
        "    return np.exp(xtauG_xG + x@((G*(tau - xtauG_xG[None,:])/xG[None,:]).T))"
      ],
      "metadata": {
        "id": "Q4tPnozmpqD4"
      },
      "execution_count": 5,
      "outputs": []
    },
    {
      "cell_type": "code",
      "source": [
        "def dewP_ideal(y, T):\n",
        "    P=1./(np.sum(y/p.Pvap(T)))\n",
        "    return P, y*P/p.Pvap(T)\n",
        "\n",
        "def dewT_ideal(y, P):\n",
        "\n",
        "    def P_dev(T):\n",
        "        return dewP_ideal(y, T)[0] - P\n",
        "    T = root(P_dev, 300.).x[0]\n",
        "\n",
        "    return T,  y*P/p.Pvap(T)"
      ],
      "metadata": {
        "id": "KNN3rRVW_SUG"
      },
      "execution_count": 6,
      "outputs": []
    },
    {
      "cell_type": "code",
      "source": [
        "def bubbleP_NRTL(x, T):\n",
        "    Pi= x*gamma(x,T)*p.Pvap(T)\n",
        "    P=np.sum(Pi)\n",
        "    return P, Pi/P\n",
        "\n",
        "def bubbleT_NRTL(x, P):\n",
        "\n",
        "    def f(T):\n",
        "        return bubbleP_NRTL(x,T)[0]-P\n",
        "\n",
        "    #mole-fraction weighted boiling points of each component at P\n",
        "    #boiling points determined via Clausius Clapeyron, using the Hvap at the normal bp\n",
        "    #for each component.  p.Hvap returns the heat of vaporization of all components for each\n",
        "    #temperature if an array of temperatures is given.\n",
        "    Tguess=np.dot(x,1/(1/p.Tbn-np.log(P/101325)*R/np.diagonal(p.Hvap(p.Tbn))))\n",
        "\n",
        "    res=root_scalar(f, x0=Tguess, method='secant')\n",
        "    if not(res.converged):\n",
        "        return \"FAIL\", res\n",
        "    T=root_scalar(f, x0=Tguess, method='secant').root\n",
        "    Pi= x*gamma(x,T)*p.Pvap(T)\n",
        "    P=np.sum(Pi)\n",
        "\n",
        "    return T, Pi/P\n",
        "\n"
      ],
      "metadata": {
        "id": "Sv4RRhSCpbhw"
      },
      "execution_count": 7,
      "outputs": []
    },
    {
      "cell_type": "code",
      "source": [
        "def dewP_NRTL(y, T):\n",
        "    def f(vec):\n",
        "        P = vec[0]\n",
        "        x = expit(vec[1:])  #Ensures that mole fractions are between 0 and 1\n",
        "\n",
        "        fug_eqs = x*gamma(x,T) * p.Pvap(T)  - y*P\n",
        "        xsum_eq = 1. - np.sum(x)\n",
        "\n",
        "        return np.r_[fug_eqs, xsum_eq]\n",
        "\n",
        "    #Assume ideal liquid dewP calculation for initial guess of P and liquid phase composition\n",
        "    Pguess, xguess= dewP_ideal(z,T)\n",
        "\n",
        "    #f (function to zero) maps values from -inf to inf, to values between 0 and 1\n",
        "    #so xguess is mapped via logit which is the inverse function of expit\n",
        "    v0 = np.r_[Pguess, logit(xguess)]\n",
        "    res=root(f, v0)\n",
        "    if not(res.success):\n",
        "        return \"FAILURE\", res\n",
        "    return res.x[0], expit(res.x[1:])"
      ],
      "metadata": {
        "id": "_B60yBNV6x0W"
      },
      "execution_count": 9,
      "outputs": []
    },
    {
      "cell_type": "code",
      "source": [
        "def dewT_NRTL(y, P):\n",
        "    def f(vec):\n",
        "        T = vec[0]\n",
        "        x = expit(vec[1:])  #Ensures that mole fractions are between 0 and 1\n",
        "\n",
        "        fug_eqs = x*gamma(x,T) * p.Pvap(T)  - y*P\n",
        "        xsum_eq = 1. - np.sum(x)\n",
        "\n",
        "        return np.r_[fug_eqs, xsum_eq]\n",
        "\n",
        "    #Assume ideal liquid dewP calculation for initial guess of P and liquid phase composition\n",
        "    Tguess, xguess= dewT_ideal(z,P)\n",
        "\n",
        "    #f (function to zero) maps values from -inf to inf, to values between 0 and 1\n",
        "    #so xguess is mapped via logit which is the inverse function of expit\n",
        "    v0 = np.r_[Tguess, logit(xguess)]\n",
        "    res=root(f, v0)\n",
        "    if not(res.success):\n",
        "        return \"FAILURE\", res\n",
        "    return res.x[0], expit(res.x[1:])"
      ],
      "metadata": {
        "id": "XR4MHf41FtE-"
      },
      "execution_count": 10,
      "outputs": []
    },
    {
      "cell_type": "code",
      "source": [
        "def flash_idealPT(z, P, T):\n",
        "\n",
        "    K=p.Pvap(T)/P\n",
        "    def rachford(VF):\n",
        "        return np.sum(z*(K-1)/(VF*(K-1) +1))\n",
        "\n",
        "    res=root_scalar(rachford, bracket=(0,1))\n",
        "    VF = res.root\n",
        "    x=z/(1-VF + K *VF)\n",
        "    y=K*x\n",
        "    return x, y, VF"
      ],
      "metadata": {
        "id": "bu_4hen-0gCa"
      },
      "execution_count": 11,
      "outputs": []
    },
    {
      "cell_type": "code",
      "source": [
        "def flash_NRTL_PT(z, P, T, maxiter = 100, tol=1e-12):\n",
        "\n",
        "    dewP, dewx = dewP_NRTL(z, T)\n",
        "    bubbleP, bubbley = bubbleP_NRTL(z,T)\n",
        "\n",
        "    xguess = (P-dewP)/(bubbleP-dewP) * (z - dewx) +  dewx\n",
        "\n",
        "    for i in range(maxiter):\n",
        "        K=gamma(xguess,T)*p.Pvap(T)/P\n",
        "\n",
        "        def rachford(VF):\n",
        "            return np.sum(z*(K-1)/(VF*(K-1) +1))\n",
        "\n",
        "        res=root_scalar(rachford, bracket=(0,1))\n",
        "        VF = res.root\n",
        "        x=z/(1-VF + K *VF)\n",
        "        if (np.linalg.norm(xguess-x)<tol):\n",
        "            break\n",
        "        xguess = x\n",
        "\n",
        "    y=K*x\n",
        "    return x, y, VF, i"
      ],
      "metadata": {
        "id": "ZsMszmU0GwpA"
      },
      "execution_count": 12,
      "outputs": []
    },
    {
      "cell_type": "code",
      "source": [
        "def flash_NRTL_PT(z, P, T, maxiter = 100, tol=1e-12):\n",
        "\n",
        "    dewP, dewx = dewP_NRTL(z, T)\n",
        "    bubbleP, bubbley = bubbleP_NRTL(z,T)\n",
        "\n",
        "    xguess = (P-dewP)/(bubbleP-dewP) * (z - dewx) +  dewx\n",
        "\n",
        "    for i in range(maxiter):\n",
        "        K=gamma(xguess,T)*p.Pvap(T)/P\n",
        "\n",
        "        def rachford(VF):\n",
        "            return np.sum(z*(K-1)/(VF*(K-1) +1))\n",
        "\n",
        "        res=root_scalar(rachford, bracket=(0,1))\n",
        "        VF = res.root\n",
        "        x=z/(1-VF + K *VF)\n",
        "        if (np.linalg.norm(xguess-x)<tol):\n",
        "            break\n",
        "        xguess = x\n",
        "\n",
        "    y=K*x\n",
        "    return x, y, VF, i\n",
        "\n"
      ],
      "metadata": {
        "id": "OT8ezc5SBx0N"
      },
      "execution_count": 13,
      "outputs": []
    },
    {
      "cell_type": "code",
      "source": [
        "Nc = p.Mw.size\n",
        "Ftot = 2.\n",
        "z = np.array([0.5,0.5])\n",
        "P = 1e5\n",
        "dewT, _ = dewT_NRTL(z, P)\n",
        "bubbleT, _ = bubbleT_NRTL(z,P)\n",
        "feedT = (bubbleT + dewT)/2\n",
        "x,y, vf, _ = flash_NRTL_PT(z, P, feedT)\n",
        "feedH=p.Hv(Ftot*vf*y, feedT) + p.Hl(Ftot*(1-vf)*x,feedT)"
      ],
      "metadata": {
        "id": "yMp7062mZd-0"
      },
      "execution_count": 77,
      "outputs": []
    },
    {
      "cell_type": "code",
      "source": [
        "D = 1.\n",
        "Btot = Ftot - D\n",
        "R = 5.\n",
        "Ns = 10\n",
        "Nf = 8\n",
        "\n",
        "unk = np.zeros((Ns, 2*Nc+1))\n",
        "Ltot_rec = R*D\n",
        "Ltot_strip = Ltot_rec + Ftot*(1-vf)\n",
        "Vtot_rec = R*D + D\n",
        "Vtot_strip = Vtot_rec - Ftot*vf\n",
        "unk[:Nf,:Nc] = Ltot_rec*y\n",
        "unk[Nf:-1,:Nc] = Ltot_strip*x\n",
        "unk[-1,:Nc] = Btot*x\n",
        "unk[:Nf,Nc:2*Nc ] = Vtot_rec*y\n",
        "unk[Nf:,Nc:2*Nc ] = Vtot_strip*x\n",
        "unk[:,-1]=np.linspace(bubbleT_NRTL(y,P)[0],dewT_NRTL(x,P)[0],Ns)"
      ],
      "metadata": {
        "id": "IF_zRJ2fg15Y"
      },
      "execution_count": 78,
      "outputs": []
    },
    {
      "cell_type": "code",
      "source": [
        "def stage1(vec, vec2, refluxT):\n",
        "    T,T2 = vec[-1], vec2[-1]\n",
        "    L,V = jnp.split(vec[:-1],2)\n",
        "    L2,V2 = jnp.split(vec2[:-1],2)\n",
        "    x = L/jnp.sum(L)\n",
        "    y = V/jnp.sum(V)\n",
        "\n",
        "    MB = (V2 + R*D*y - V - L)/Ftot\n",
        "    EQ = x*p.NRTL_gamma(x,T)*p.Pvap(T)/P - y\n",
        "    EB = (p.Hv(V2, T2) + p.Hl(R*D*y, refluxT) - p.Hv(V, T) - p.Hl(L, T))/feedH\n",
        "\n",
        "    return jnp.r_[MB, EQ, EB]\n",
        "\n",
        "def stage(vec1, vec, vec2, f, fH):\n",
        "    T1, T,T2 = vec1[-1], vec[-1], vec2[-1]\n",
        "    L1,V1 = jnp.split(vec1[:-1],2)\n",
        "    L,V = jnp.split(vec[:-1],2)\n",
        "    L2,V2 = jnp.split(vec2[:-1],2)\n",
        "    x = L/jnp.sum(L)\n",
        "    y = V/jnp.sum(V)\n",
        "\n",
        "    MB = (f + V2 + L1 - V - L)/Ftot\n",
        "    EQ = x*p.NRTL_gamma(x,T)*p.Pvap(T)/P - y\n",
        "    EB = (fH + p.Hv(V2, T2) + p.Hl(L1, T1) - p.Hv(V, T) - p.Hl(L, T))/feedH\n",
        "\n",
        "    return jnp.r_[MB, EQ, EB]\n",
        "\n",
        "\n",
        "def stageN(vec1, vec):\n",
        "    T1, T = vec1[-1], vec[-1]\n",
        "    L1,V1 = jnp.split(vec1[:-1],2)\n",
        "    L,V = jnp.split(vec[:-1],2)\n",
        "    x = L/jnp.sum(L)\n",
        "    y = V/jnp.sum(V)\n",
        "\n",
        "    MB = (L1 - V - L)/Ftot\n",
        "    EQ = x*p.NRTL_gamma(x,T)*p.Pvap(T)/P - y\n",
        "    MB2 = (jnp.sum(L1) - jnp.sum(V) - Btot)/Ftot\n",
        "\n",
        "    return jnp.r_[MB, EQ, MB2]"
      ],
      "metadata": {
        "id": "GGMoEwoDiBxi"
      },
      "execution_count": 79,
      "outputs": []
    },
    {
      "cell_type": "code",
      "source": [
        "stage1_jac = jax.jit(jax.jacobian(stage1, (0,1)))\n",
        "stage_jac = jax.jit(jax.jacobian(stage, (0,1,2)))\n",
        "stageN_jac = jax.jit(jax.jacobian(stageN, (0,1)))"
      ],
      "metadata": {
        "id": "AnqxGz72YyhI"
      },
      "execution_count": 80,
      "outputs": []
    },
    {
      "cell_type": "code",
      "source": [
        "Es = np.zeros((Ns, 2*Nc+1))\n",
        "Cs = np.zeros((Ns-1, 2*Nc+1, 2*Nc+1))"
      ],
      "metadata": {
        "id": "8mnFXoHNnGYZ"
      },
      "execution_count": 81,
      "outputs": []
    },
    {
      "cell_type": "code",
      "source": [
        "def evalEs(unk):\n",
        "\n",
        "    L,V = np.split(unk[0,:-1],2)\n",
        "    y=V/np.sum(V)\n",
        "    Es[0] = stage1(unk[0], unk[1], bubbleT_NRTL(y, P)[0])\n",
        "    for i in range(1, Ns-1):\n",
        "        if i==Nf:\n",
        "            Es[i]= stage(unk[i-1], unk[i], unk[i+1], Ftot*z, feedH)\n",
        "        else:\n",
        "            Es[i]= stage(unk[i-1], unk[i], unk[i+1], 0., 0.)\n",
        "\n",
        "    Es[-1] = stageN(unk[-2], unk[-1])\n",
        "\n",
        "    return Es\n",
        "\n",
        "def norm_evalEs(unk):\n",
        "    return np.linalg.norm(evalEs(unk))\n"
      ],
      "metadata": {
        "id": "HZ5CCtBBurdW"
      },
      "execution_count": 82,
      "outputs": []
    },
    {
      "cell_type": "code",
      "source": [
        "for iter in range(1,25):\n",
        "    Es= evalEs(unk)\n",
        "    normEs = norm_evalEs(unk)\n",
        "    print(iter, normEs)\n",
        "    if normEs<1e-8:\n",
        "        break\n",
        "    B,C = stage1_jac(unk[0], unk[1],bubbleT_NRTL(y, P)[0])\n",
        "    Binv = np.linalg.inv(B)\n",
        "    Cs[0]= Binv @ C\n",
        "    Es[0]= Binv @ Es[0]\n",
        "    for i in range(1, Ns-1):\n",
        "        if i==Nf:\n",
        "            A,B,C = stage_jac(unk[i-1], unk[i], unk[i+1], Ftot*z, feedH)\n",
        "        else:\n",
        "            A,B,C= stage_jac(unk[i-1], unk[i], unk[i+1], 0., 0.)\n",
        "\n",
        "        Binv = np.linalg.inv(B-A@Cs[i-1])\n",
        "        Cs[i]=Binv@C\n",
        "        Es[i]=Binv@(Es[i]-A@Es[i-1])\n",
        "\n",
        "    A,B = stageN_jac(unk[-2], unk[-1])\n",
        "    Binv = np.linalg.inv(B-A@Cs[-1])\n",
        "    Es[-1] = Binv@ (Es[-1] - A@Es[-2])\n",
        "\n",
        "    delta_unk = np.zeros_like(unk)\n",
        "    delta_unk[-1]= Es[-1]\n",
        "    for i in range(Ns-2,-1,-1):\n",
        "        delta_unk[i]= Es[i]-Cs[i] @ delta_unk[i+1]\n",
        "\n",
        "    brac = bracket(lambda t: norm_evalEs(unk + t*delta_unk), xa=0., xb=1.)\n",
        "    t = minimize_scalar(lambda t: norm_evalEs(unk + t*delta_unk), brac[:3]).x\n",
        "    unk = unk + t*delta_unk"
      ],
      "metadata": {
        "id": "f9qOWxyAc3ee",
        "outputId": "153ef6ec-eea6-469c-e133-fc3dd888f703",
        "colab": {
          "base_uri": "https://localhost:8080/"
        }
      },
      "execution_count": 83,
      "outputs": [
        {
          "output_type": "stream",
          "name": "stdout",
          "text": [
            "1 2.3333682340206927\n",
            "2 0.11928611141200018\n",
            "3 0.0054482895475578665\n",
            "4 1.0091299778163497e-05\n",
            "5 1.1699149400031717e-10\n"
          ]
        }
      ]
    },
    {
      "cell_type": "code",
      "source": [
        "unk"
      ],
      "metadata": {
        "id": "COjHLgZ3dm64",
        "outputId": "7e1d4b8f-2156-4f11-8fdc-355807f5bf87",
        "colab": {
          "base_uri": "https://localhost:8080/"
        }
      },
      "execution_count": 84,
      "outputs": [
        {
          "output_type": "execute_result",
          "data": {
            "text/plain": [
              "array([[4.11529e+00, 8.79260e-01, 5.02819e+00, 9.71814e-01, 3.51119e+02],\n",
              "       [4.03326e+00, 9.55338e-01, 4.95333e+00, 1.04123e+00, 3.51153e+02],\n",
              "       [3.94046e+00, 1.04142e+00, 4.87130e+00, 1.11731e+00, 3.51197e+02],\n",
              "       [3.83152e+00, 1.14246e+00, 4.77849e+00, 1.20339e+00, 3.51257e+02],\n",
              "       [3.69780e+00, 1.26648e+00, 4.66955e+00, 1.30443e+00, 3.51343e+02],\n",
              "       [3.52404e+00, 1.42751e+00, 4.53583e+00, 1.42844e+00, 3.51472e+02],\n",
              "       [3.28001e+00, 1.65331e+00, 4.36207e+00, 1.58948e+00, 3.51686e+02],\n",
              "       [2.89445e+00, 2.00848e+00, 4.11804e+00, 1.81528e+00, 3.52095e+02],\n",
              "       [2.33876e+00, 2.92122e+00, 3.73248e+00, 2.17045e+00, 3.53094e+02],\n",
              "       [1.61969e-01, 8.38031e-01, 2.17679e+00, 2.08319e+00, 3.56724e+02]])"
            ]
          },
          "metadata": {},
          "execution_count": 84
        }
      ]
    },
    {
      "cell_type": "code",
      "source": [
        "L,V = np.split(unk[:,:-1],2, axis=1)\n",
        "x=L/np.sum(L, axis=1)[:,None]\n",
        "y=V/np.sum(V, axis=1)[:,None]"
      ],
      "metadata": {
        "id": "_rs8j2d0fkGq"
      },
      "execution_count": 85,
      "outputs": []
    },
    {
      "cell_type": "code",
      "source": [
        "x,y =x[:,0], y[:,0]"
      ],
      "metadata": {
        "id": "GPT5gWqDh0xO"
      },
      "execution_count": 86,
      "outputs": []
    },
    {
      "cell_type": "code",
      "source": [
        "x"
      ],
      "metadata": {
        "id": "Qg4CWygGhjK9",
        "outputId": "0513b907-40a3-4af5-af3a-39af6eca920d",
        "colab": {
          "base_uri": "https://localhost:8080/"
        }
      },
      "execution_count": 87,
      "outputs": [
        {
          "output_type": "execute_result",
          "data": {
            "text/plain": [
              "array([0.82396, 0.8085 , 0.79096, 0.77031, 0.74488, 0.7117 , 0.66487,\n",
              "       0.59035, 0.44463, 0.16197])"
            ]
          },
          "metadata": {},
          "execution_count": 87
        }
      ]
    },
    {
      "cell_type": "code",
      "source": [
        "y"
      ],
      "metadata": {
        "id": "prFhu6oahkBF",
        "outputId": "bd53cb50-be27-44db-fa4a-6491b56d1c8a",
        "colab": {
          "base_uri": "https://localhost:8080/"
        }
      },
      "execution_count": 88,
      "outputs": [
        {
          "output_type": "execute_result",
          "data": {
            "text/plain": [
              "array([0.83803, 0.8263 , 0.81343, 0.79883, 0.78165, 0.7605 , 0.73293,\n",
              "       0.69405, 0.63231, 0.51099])"
            ]
          },
          "metadata": {},
          "execution_count": 88
        }
      ]
    },
    {
      "cell_type": "code",
      "source": [
        "opx = np.r_[y[0], np.repeat(x[:-1],2), x[-1]]\n",
        "opx"
      ],
      "metadata": {
        "id": "mk-xw8qwf7ni",
        "outputId": "10570029-83e0-4b41-f61d-b1acbb393ecd",
        "colab": {
          "base_uri": "https://localhost:8080/"
        }
      },
      "execution_count": 89,
      "outputs": [
        {
          "output_type": "execute_result",
          "data": {
            "text/plain": [
              "array([0.83803, 0.82396, 0.82396, 0.8085 , 0.8085 , 0.79096, 0.79096,\n",
              "       0.77031, 0.77031, 0.74488, 0.74488, 0.7117 , 0.7117 , 0.66487,\n",
              "       0.66487, 0.59035, 0.59035, 0.44463, 0.44463, 0.16197])"
            ]
          },
          "metadata": {},
          "execution_count": 89
        }
      ]
    },
    {
      "cell_type": "code",
      "source": [
        "opy=np.r_[np.repeat(y,2)]"
      ],
      "metadata": {
        "id": "AbuIlQ4Dg4T9"
      },
      "execution_count": 90,
      "outputs": []
    },
    {
      "cell_type": "code",
      "source": [
        "P=101325\n",
        "x1s=np.linspace(0,1,101)\n",
        "Ts=[]\n",
        "y1s=[]\n",
        "for x1 in x1s:\n",
        "    T, (y1,y2) = bubbleT_NRTL(np.array([x1, 1-x1]), P)\n",
        "    Ts.append(T)\n",
        "    y1s.append(y1)"
      ],
      "metadata": {
        "id": "nlZkHTHygLCT"
      },
      "execution_count": 91,
      "outputs": []
    },
    {
      "cell_type": "code",
      "source": [
        "fig = make_subplots()\n",
        "fig.add_scatter(x=x1s, y=y1s)\n",
        "fig.add_scatter(x=opx, y=opy)\n",
        "fig.update_layout(width=600, height=600, template='plotly_dark')\n"
      ],
      "metadata": {
        "id": "x7V2EJwSgZdL",
        "outputId": "b0637e03-9173-4f51-cd71-47bad34e35ce",
        "colab": {
          "base_uri": "https://localhost:8080/",
          "height": 617
        }
      },
      "execution_count": 92,
      "outputs": [
        {
          "output_type": "display_data",
          "data": {
            "text/html": [
              "<html>\n",
              "<head><meta charset=\"utf-8\" /></head>\n",
              "<body>\n",
              "    <div>            <script src=\"https://cdnjs.cloudflare.com/ajax/libs/mathjax/2.7.5/MathJax.js?config=TeX-AMS-MML_SVG\"></script><script type=\"text/javascript\">if (window.MathJax && window.MathJax.Hub && window.MathJax.Hub.Config) {window.MathJax.Hub.Config({SVG: {font: \"STIX-Web\"}});}</script>                <script type=\"text/javascript\">window.PlotlyConfig = {MathJaxConfig: 'local'};</script>\n",
              "        <script charset=\"utf-8\" src=\"https://cdn.plot.ly/plotly-2.35.2.min.js\"></script>                <div id=\"e3f025fc-4325-4c05-a384-241ceb7fef81\" class=\"plotly-graph-div\" style=\"height:600px; width:600px;\"></div>            <script type=\"text/javascript\">                                    window.PLOTLYENV=window.PLOTLYENV || {};                                    if (document.getElementById(\"e3f025fc-4325-4c05-a384-241ceb7fef81\")) {                    Plotly.newPlot(                        \"e3f025fc-4325-4c05-a384-241ceb7fef81\",                        [{\"x\":[0.0,0.01,0.02,0.03,0.04,0.05,0.06,0.07,0.08,0.09,0.1,0.11,0.12,0.13,0.14,0.15,0.16,0.17,0.18,0.19,0.2,0.21,0.22,0.23,0.24,0.25,0.26,0.27,0.28,0.29,0.3,0.31,0.32,0.33,0.34,0.35000000000000003,0.36,0.37,0.38,0.39,0.4,0.41000000000000003,0.42,0.43,0.44,0.45,0.46,0.47000000000000003,0.48,0.49,0.5,0.51,0.52,0.53,0.54,0.55,0.56,0.5700000000000001,0.58,0.59,0.6,0.61,0.62,0.63,0.64,0.65,0.66,0.67,0.68,0.6900000000000001,0.7000000000000001,0.71,0.72,0.73,0.74,0.75,0.76,0.77,0.78,0.79,0.8,0.81,0.8200000000000001,0.8300000000000001,0.84,0.85,0.86,0.87,0.88,0.89,0.9,0.91,0.92,0.93,0.9400000000000001,0.9500000000000001,0.96,0.97,0.98,0.99,1.0],\"y\":[0.0,0.0996863471674293,0.17612240948996932,0.23611023961410907,0.28413293817997,0.32323908417789016,0.3555602225023076,0.3826239463861374,0.4055492696801652,0.42517204660928454,0.4421275864451018,0.4569063601959728,0.46989236988149774,0.4813900917937162,0.4916437323446609,0.5008512129679359,0.5091744776013934,0.516747193194771,0.5236805746798736,0.5300678421439871,0.5359876678533864,0.5415068684904885,0.5466825272527448,0.5515636809077754,0.556192671736074,0.560606239045102,0.5648364066100621,0.5689112089524063,0.5728552894092926,0.5766903955036381,0.5804357915120636,0.5841086038617239,0.5877241117187432,0.5912959926088471,0.594836530950976,0.5983567958517698,0.6018667933020506,0.6053755969611754,0.608891460954208,0.6124219174976495,0.6159738616793433,0.6195536253214747,0.6231670415334808,0.6268195012985429,0.6305160032217235,0.6342611973902205,0.63805942414944,0.6419147484768176,0.6458309905338735,0.6498117528922371,0.6538604448582641,0.6579803042610768,0.6621744170183655,0.6664457347515452,0.6707970906855765,0.6752312140378743,0.6797507430743539,0.684358236988063,0.6890561867365206,0.693847024957191,0.6987331350661631,0.7037168596327461,0.7088005081119131,0.7139863640071962,0.7192766915286269,0.7246737418032088,0.7301797586892899,0.7357969842408829,0.7415276638632807,0.7473740511972047,0.7533384127652335,0.7594230324110121,0.765630215559098,0.7719622933208663,0.7784216264697823,0.7850106093075773,0.7917316734411929,0.7985872914890332,0.8055799807338576,0.8127123067385799,0.8199868869404174,0.8274063942380138,0.834973560585652,0.8426911806080232,0.8505621152487536,0.8585892954655103,0.8667757259843046,0.8751244891254998,0.8836387487139986,0.8923217540860723,0.9011768442054555,0.9102074519015021,0.9194171082424413,0.9288094470571171,0.9383882096190446,0.9481572495070254,0.9581205376572075,0.9682821676220815,0.9786463610526486,0.989217473420815,1.0],\"type\":\"scatter\"},{\"x\":[0.8380310292211086,0.8239562287525881,0.8239562287525881,0.8084958729819677,0.8084958729819677,0.7909591676763092,0.7909591676763092,0.7703121166061003,0.7703121166061003,0.7448818548576542,0.7448818548576542,0.7117047036213484,0.7117047036213484,0.6648688041583768,0.6648688041583768,0.590351444189519,0.590351444189519,0.4446325224579864,0.4446325224579864,0.16196897077917197],\"y\":[0.8380310292211086,0.8380310292211086,0.8263041597745936,0.8263041597745936,0.8134277677525876,0.8134277677525876,0.7988282443972422,0.7988282443972422,0.7816477504244563,0.7816477504244563,0.7604997192876288,0.7604997192876288,0.7329304985873222,0.7329304985873222,0.6940535316270755,0.6940535316270755,0.6323102101229203,0.6323102101229203,0.5109857217543858,0.5109857217543858],\"type\":\"scatter\"}],                        {\"template\":{\"data\":{\"barpolar\":[{\"marker\":{\"line\":{\"color\":\"rgb(17,17,17)\",\"width\":0.5},\"pattern\":{\"fillmode\":\"overlay\",\"size\":10,\"solidity\":0.2}},\"type\":\"barpolar\"}],\"bar\":[{\"error_x\":{\"color\":\"#f2f5fa\"},\"error_y\":{\"color\":\"#f2f5fa\"},\"marker\":{\"line\":{\"color\":\"rgb(17,17,17)\",\"width\":0.5},\"pattern\":{\"fillmode\":\"overlay\",\"size\":10,\"solidity\":0.2}},\"type\":\"bar\"}],\"carpet\":[{\"aaxis\":{\"endlinecolor\":\"#A2B1C6\",\"gridcolor\":\"#506784\",\"linecolor\":\"#506784\",\"minorgridcolor\":\"#506784\",\"startlinecolor\":\"#A2B1C6\"},\"baxis\":{\"endlinecolor\":\"#A2B1C6\",\"gridcolor\":\"#506784\",\"linecolor\":\"#506784\",\"minorgridcolor\":\"#506784\",\"startlinecolor\":\"#A2B1C6\"},\"type\":\"carpet\"}],\"choropleth\":[{\"colorbar\":{\"outlinewidth\":0,\"ticks\":\"\"},\"type\":\"choropleth\"}],\"contourcarpet\":[{\"colorbar\":{\"outlinewidth\":0,\"ticks\":\"\"},\"type\":\"contourcarpet\"}],\"contour\":[{\"colorbar\":{\"outlinewidth\":0,\"ticks\":\"\"},\"colorscale\":[[0.0,\"#0d0887\"],[0.1111111111111111,\"#46039f\"],[0.2222222222222222,\"#7201a8\"],[0.3333333333333333,\"#9c179e\"],[0.4444444444444444,\"#bd3786\"],[0.5555555555555556,\"#d8576b\"],[0.6666666666666666,\"#ed7953\"],[0.7777777777777778,\"#fb9f3a\"],[0.8888888888888888,\"#fdca26\"],[1.0,\"#f0f921\"]],\"type\":\"contour\"}],\"heatmapgl\":[{\"colorbar\":{\"outlinewidth\":0,\"ticks\":\"\"},\"colorscale\":[[0.0,\"#0d0887\"],[0.1111111111111111,\"#46039f\"],[0.2222222222222222,\"#7201a8\"],[0.3333333333333333,\"#9c179e\"],[0.4444444444444444,\"#bd3786\"],[0.5555555555555556,\"#d8576b\"],[0.6666666666666666,\"#ed7953\"],[0.7777777777777778,\"#fb9f3a\"],[0.8888888888888888,\"#fdca26\"],[1.0,\"#f0f921\"]],\"type\":\"heatmapgl\"}],\"heatmap\":[{\"colorbar\":{\"outlinewidth\":0,\"ticks\":\"\"},\"colorscale\":[[0.0,\"#0d0887\"],[0.1111111111111111,\"#46039f\"],[0.2222222222222222,\"#7201a8\"],[0.3333333333333333,\"#9c179e\"],[0.4444444444444444,\"#bd3786\"],[0.5555555555555556,\"#d8576b\"],[0.6666666666666666,\"#ed7953\"],[0.7777777777777778,\"#fb9f3a\"],[0.8888888888888888,\"#fdca26\"],[1.0,\"#f0f921\"]],\"type\":\"heatmap\"}],\"histogram2dcontour\":[{\"colorbar\":{\"outlinewidth\":0,\"ticks\":\"\"},\"colorscale\":[[0.0,\"#0d0887\"],[0.1111111111111111,\"#46039f\"],[0.2222222222222222,\"#7201a8\"],[0.3333333333333333,\"#9c179e\"],[0.4444444444444444,\"#bd3786\"],[0.5555555555555556,\"#d8576b\"],[0.6666666666666666,\"#ed7953\"],[0.7777777777777778,\"#fb9f3a\"],[0.8888888888888888,\"#fdca26\"],[1.0,\"#f0f921\"]],\"type\":\"histogram2dcontour\"}],\"histogram2d\":[{\"colorbar\":{\"outlinewidth\":0,\"ticks\":\"\"},\"colorscale\":[[0.0,\"#0d0887\"],[0.1111111111111111,\"#46039f\"],[0.2222222222222222,\"#7201a8\"],[0.3333333333333333,\"#9c179e\"],[0.4444444444444444,\"#bd3786\"],[0.5555555555555556,\"#d8576b\"],[0.6666666666666666,\"#ed7953\"],[0.7777777777777778,\"#fb9f3a\"],[0.8888888888888888,\"#fdca26\"],[1.0,\"#f0f921\"]],\"type\":\"histogram2d\"}],\"histogram\":[{\"marker\":{\"pattern\":{\"fillmode\":\"overlay\",\"size\":10,\"solidity\":0.2}},\"type\":\"histogram\"}],\"mesh3d\":[{\"colorbar\":{\"outlinewidth\":0,\"ticks\":\"\"},\"type\":\"mesh3d\"}],\"parcoords\":[{\"line\":{\"colorbar\":{\"outlinewidth\":0,\"ticks\":\"\"}},\"type\":\"parcoords\"}],\"pie\":[{\"automargin\":true,\"type\":\"pie\"}],\"scatter3d\":[{\"line\":{\"colorbar\":{\"outlinewidth\":0,\"ticks\":\"\"}},\"marker\":{\"colorbar\":{\"outlinewidth\":0,\"ticks\":\"\"}},\"type\":\"scatter3d\"}],\"scattercarpet\":[{\"marker\":{\"colorbar\":{\"outlinewidth\":0,\"ticks\":\"\"}},\"type\":\"scattercarpet\"}],\"scattergeo\":[{\"marker\":{\"colorbar\":{\"outlinewidth\":0,\"ticks\":\"\"}},\"type\":\"scattergeo\"}],\"scattergl\":[{\"marker\":{\"line\":{\"color\":\"#283442\"}},\"type\":\"scattergl\"}],\"scattermapbox\":[{\"marker\":{\"colorbar\":{\"outlinewidth\":0,\"ticks\":\"\"}},\"type\":\"scattermapbox\"}],\"scatterpolargl\":[{\"marker\":{\"colorbar\":{\"outlinewidth\":0,\"ticks\":\"\"}},\"type\":\"scatterpolargl\"}],\"scatterpolar\":[{\"marker\":{\"colorbar\":{\"outlinewidth\":0,\"ticks\":\"\"}},\"type\":\"scatterpolar\"}],\"scatter\":[{\"marker\":{\"line\":{\"color\":\"#283442\"}},\"type\":\"scatter\"}],\"scatterternary\":[{\"marker\":{\"colorbar\":{\"outlinewidth\":0,\"ticks\":\"\"}},\"type\":\"scatterternary\"}],\"surface\":[{\"colorbar\":{\"outlinewidth\":0,\"ticks\":\"\"},\"colorscale\":[[0.0,\"#0d0887\"],[0.1111111111111111,\"#46039f\"],[0.2222222222222222,\"#7201a8\"],[0.3333333333333333,\"#9c179e\"],[0.4444444444444444,\"#bd3786\"],[0.5555555555555556,\"#d8576b\"],[0.6666666666666666,\"#ed7953\"],[0.7777777777777778,\"#fb9f3a\"],[0.8888888888888888,\"#fdca26\"],[1.0,\"#f0f921\"]],\"type\":\"surface\"}],\"table\":[{\"cells\":{\"fill\":{\"color\":\"#506784\"},\"line\":{\"color\":\"rgb(17,17,17)\"}},\"header\":{\"fill\":{\"color\":\"#2a3f5f\"},\"line\":{\"color\":\"rgb(17,17,17)\"}},\"type\":\"table\"}]},\"layout\":{\"annotationdefaults\":{\"arrowcolor\":\"#f2f5fa\",\"arrowhead\":0,\"arrowwidth\":1},\"autotypenumbers\":\"strict\",\"coloraxis\":{\"colorbar\":{\"outlinewidth\":0,\"ticks\":\"\"}},\"colorscale\":{\"diverging\":[[0,\"#8e0152\"],[0.1,\"#c51b7d\"],[0.2,\"#de77ae\"],[0.3,\"#f1b6da\"],[0.4,\"#fde0ef\"],[0.5,\"#f7f7f7\"],[0.6,\"#e6f5d0\"],[0.7,\"#b8e186\"],[0.8,\"#7fbc41\"],[0.9,\"#4d9221\"],[1,\"#276419\"]],\"sequential\":[[0.0,\"#0d0887\"],[0.1111111111111111,\"#46039f\"],[0.2222222222222222,\"#7201a8\"],[0.3333333333333333,\"#9c179e\"],[0.4444444444444444,\"#bd3786\"],[0.5555555555555556,\"#d8576b\"],[0.6666666666666666,\"#ed7953\"],[0.7777777777777778,\"#fb9f3a\"],[0.8888888888888888,\"#fdca26\"],[1.0,\"#f0f921\"]],\"sequentialminus\":[[0.0,\"#0d0887\"],[0.1111111111111111,\"#46039f\"],[0.2222222222222222,\"#7201a8\"],[0.3333333333333333,\"#9c179e\"],[0.4444444444444444,\"#bd3786\"],[0.5555555555555556,\"#d8576b\"],[0.6666666666666666,\"#ed7953\"],[0.7777777777777778,\"#fb9f3a\"],[0.8888888888888888,\"#fdca26\"],[1.0,\"#f0f921\"]]},\"colorway\":[\"#636efa\",\"#EF553B\",\"#00cc96\",\"#ab63fa\",\"#FFA15A\",\"#19d3f3\",\"#FF6692\",\"#B6E880\",\"#FF97FF\",\"#FECB52\"],\"font\":{\"color\":\"#f2f5fa\"},\"geo\":{\"bgcolor\":\"rgb(17,17,17)\",\"lakecolor\":\"rgb(17,17,17)\",\"landcolor\":\"rgb(17,17,17)\",\"showlakes\":true,\"showland\":true,\"subunitcolor\":\"#506784\"},\"hoverlabel\":{\"align\":\"left\"},\"hovermode\":\"closest\",\"mapbox\":{\"style\":\"dark\"},\"paper_bgcolor\":\"rgb(17,17,17)\",\"plot_bgcolor\":\"rgb(17,17,17)\",\"polar\":{\"angularaxis\":{\"gridcolor\":\"#506784\",\"linecolor\":\"#506784\",\"ticks\":\"\"},\"bgcolor\":\"rgb(17,17,17)\",\"radialaxis\":{\"gridcolor\":\"#506784\",\"linecolor\":\"#506784\",\"ticks\":\"\"}},\"scene\":{\"xaxis\":{\"backgroundcolor\":\"rgb(17,17,17)\",\"gridcolor\":\"#506784\",\"gridwidth\":2,\"linecolor\":\"#506784\",\"showbackground\":true,\"ticks\":\"\",\"zerolinecolor\":\"#C8D4E3\"},\"yaxis\":{\"backgroundcolor\":\"rgb(17,17,17)\",\"gridcolor\":\"#506784\",\"gridwidth\":2,\"linecolor\":\"#506784\",\"showbackground\":true,\"ticks\":\"\",\"zerolinecolor\":\"#C8D4E3\"},\"zaxis\":{\"backgroundcolor\":\"rgb(17,17,17)\",\"gridcolor\":\"#506784\",\"gridwidth\":2,\"linecolor\":\"#506784\",\"showbackground\":true,\"ticks\":\"\",\"zerolinecolor\":\"#C8D4E3\"}},\"shapedefaults\":{\"line\":{\"color\":\"#f2f5fa\"}},\"sliderdefaults\":{\"bgcolor\":\"#C8D4E3\",\"bordercolor\":\"rgb(17,17,17)\",\"borderwidth\":1,\"tickwidth\":0},\"ternary\":{\"aaxis\":{\"gridcolor\":\"#506784\",\"linecolor\":\"#506784\",\"ticks\":\"\"},\"baxis\":{\"gridcolor\":\"#506784\",\"linecolor\":\"#506784\",\"ticks\":\"\"},\"bgcolor\":\"rgb(17,17,17)\",\"caxis\":{\"gridcolor\":\"#506784\",\"linecolor\":\"#506784\",\"ticks\":\"\"}},\"title\":{\"x\":0.05},\"updatemenudefaults\":{\"bgcolor\":\"#506784\",\"borderwidth\":0},\"xaxis\":{\"automargin\":true,\"gridcolor\":\"#283442\",\"linecolor\":\"#506784\",\"ticks\":\"\",\"title\":{\"standoff\":15},\"zerolinecolor\":\"#283442\",\"zerolinewidth\":2},\"yaxis\":{\"automargin\":true,\"gridcolor\":\"#283442\",\"linecolor\":\"#506784\",\"ticks\":\"\",\"title\":{\"standoff\":15},\"zerolinecolor\":\"#283442\",\"zerolinewidth\":2}}},\"xaxis\":{\"anchor\":\"y\",\"domain\":[0.0,1.0]},\"yaxis\":{\"anchor\":\"x\",\"domain\":[0.0,1.0]},\"width\":600,\"height\":600},                        {\"responsive\": true}                    ).then(function(){\n",
              "                            \n",
              "var gd = document.getElementById('e3f025fc-4325-4c05-a384-241ceb7fef81');\n",
              "var x = new MutationObserver(function (mutations, observer) {{\n",
              "        var display = window.getComputedStyle(gd).display;\n",
              "        if (!display || display === 'none') {{\n",
              "            console.log([gd, 'removed!']);\n",
              "            Plotly.purge(gd);\n",
              "            observer.disconnect();\n",
              "        }}\n",
              "}});\n",
              "\n",
              "// Listen for the removal of the full notebook cells\n",
              "var notebookContainer = gd.closest('#notebook-container');\n",
              "if (notebookContainer) {{\n",
              "    x.observe(notebookContainer, {childList: true});\n",
              "}}\n",
              "\n",
              "// Listen for the clearing of the current output cell\n",
              "var outputEl = gd.closest('.output');\n",
              "if (outputEl) {{\n",
              "    x.observe(outputEl, {childList: true});\n",
              "}}\n",
              "\n",
              "                        })                };                            </script>        </div>\n",
              "</body>\n",
              "</html>"
            ]
          },
          "metadata": {}
        }
      ]
    },
    {
      "cell_type": "code",
      "source": [],
      "metadata": {
        "id": "yqOekSDoge0T"
      },
      "execution_count": null,
      "outputs": []
    }
  ]
}