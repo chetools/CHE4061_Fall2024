{
  "nbformat": 4,
  "nbformat_minor": 0,
  "metadata": {
    "colab": {
      "provenance": [],
      "authorship_tag": "ABX9TyOAFaCNFakfpLAAsD4XZWwx",
      "include_colab_link": true
    },
    "kernelspec": {
      "name": "python3",
      "display_name": "Python 3"
    },
    "language_info": {
      "name": "python"
    }
  },
  "cells": [
    {
      "cell_type": "markdown",
      "metadata": {
        "id": "view-in-github",
        "colab_type": "text"
      },
      "source": [
        "<a href=\"https://colab.research.google.com/github/chetools/CHE4061_Fall2024/blob/main/BubbleDewCalculations.ipynb\" target=\"_parent\"><img src=\"https://colab.research.google.com/assets/colab-badge.svg\" alt=\"Open In Colab\"/></a>"
      ]
    },
    {
      "cell_type": "code",
      "execution_count": 1,
      "metadata": {
        "colab": {
          "base_uri": "https://localhost:8080/"
        },
        "id": "2IVvN85dWumt",
        "outputId": "e898dea8-3ed2-464f-d541-b4729bccdcfe"
      },
      "outputs": [
        {
          "output_type": "stream",
          "name": "stdout",
          "text": [
            "Collecting importnb\n",
            "  Downloading importnb-2023.11.1-py3-none-any.whl.metadata (9.4 kB)\n",
            "Downloading importnb-2023.11.1-py3-none-any.whl (45 kB)\n",
            "\u001b[?25l   \u001b[90m━━━━━━━━━━━━━━━━━━━━━━━━━━━━━━━━━━━━━━━━\u001b[0m \u001b[32m0.0/46.0 kB\u001b[0m \u001b[31m?\u001b[0m eta \u001b[36m-:--:--\u001b[0m\r\u001b[2K   \u001b[90m━━━━━━━━━━━━━━━━━━━━━━━━━━━━━━━━━━━━━━━━\u001b[0m \u001b[32m46.0/46.0 kB\u001b[0m \u001b[31m2.0 MB/s\u001b[0m eta \u001b[36m0:00:00\u001b[0m\n",
            "\u001b[?25hInstalling collected packages: importnb\n",
            "Successfully installed importnb-2023.11.1\n"
          ]
        }
      ],
      "source": [
        "!wget -N -q https://raw.githubusercontent.com/chetools/chetools/main/tools/che5.ipynb -O che5.ipynb\n",
        "!pip install importnb"
      ]
    },
    {
      "cell_type": "code",
      "source": [
        "from importnb import Notebook\n",
        "with Notebook():\n",
        "    from che5 import Props\n",
        "\n",
        "import numpy as np\n",
        "import jax\n",
        "import jax.numpy as jnp\n",
        "jax.config.update(\"jax_enable_x64\", True)\n",
        "\n",
        "from scipy.optimize import root"
      ],
      "metadata": {
        "id": "W0bo2gMdWwAr"
      },
      "execution_count": 20,
      "outputs": []
    },
    {
      "cell_type": "code",
      "source": [
        "p=Props([\"Benzene\",\"Toluene\"])"
      ],
      "metadata": {
        "id": "bYg-Mhy6XgMR"
      },
      "execution_count": 14,
      "outputs": []
    },
    {
      "cell_type": "code",
      "source": [
        "def bubbleP_ideal(x, T):\n",
        "    return np.sum(x*p.Pvap(T))"
      ],
      "metadata": {
        "id": "KWF2FwqHdgcb"
      },
      "execution_count": 19,
      "outputs": []
    },
    {
      "cell_type": "code",
      "source": [
        "z=np.array([0.3, 0.7])\n",
        "z"
      ],
      "metadata": {
        "colab": {
          "base_uri": "https://localhost:8080/"
        },
        "id": "RfnnuGNK5pRQ",
        "outputId": "3455e923-7b9f-4fc3-c5e6-9e276e357d3f"
      },
      "execution_count": 28,
      "outputs": [
        {
          "output_type": "execute_result",
          "data": {
            "text/plain": [
              "array([0.3, 0.7])"
            ]
          },
          "metadata": {},
          "execution_count": 28
        }
      ]
    },
    {
      "cell_type": "code",
      "source": [
        "bubbleP_ideal(z, 373.15)"
      ],
      "metadata": {
        "id": "RCcpt199g3Gb",
        "outputId": "bb4c5f18-b8d4-4f43-af2b-4bda4a229315",
        "colab": {
          "base_uri": "https://localhost:8080/"
        }
      },
      "execution_count": 29,
      "outputs": [
        {
          "output_type": "execute_result",
          "data": {
            "text/plain": [
              "Array(105789.27018675, dtype=float64)"
            ]
          },
          "metadata": {},
          "execution_count": 29
        }
      ]
    },
    {
      "cell_type": "code",
      "source": [
        "def bubbleT_ideal(x, P):\n",
        "\n",
        "    def P_dev(T):\n",
        "        return bubbleP_ideal(x,T) - P\n",
        "\n",
        "    res=root(P_dev, 300.)\n",
        "    return res.x"
      ],
      "metadata": {
        "id": "hDeWJuME7Pe7"
      },
      "execution_count": 24,
      "outputs": []
    },
    {
      "cell_type": "code",
      "source": [
        "bubbleT_ideal(z, 101325.)"
      ],
      "metadata": {
        "id": "TXo4c8aFgvta",
        "outputId": "6ce734ed-985c-421d-8eda-fb92359e96f5",
        "colab": {
          "base_uri": "https://localhost:8080/"
        }
      },
      "execution_count": 33,
      "outputs": [
        {
          "output_type": "execute_result",
          "data": {
            "text/plain": [
              "array([371.65439674])"
            ]
          },
          "metadata": {},
          "execution_count": 33
        }
      ]
    },
    {
      "cell_type": "code",
      "source": [
        "def dewP_ideal(y, T):\n",
        "    return 1./(np.sum(y/p.Pvap(T)))"
      ],
      "metadata": {
        "id": "ed9fSGUxhAVc"
      },
      "execution_count": 27,
      "outputs": []
    },
    {
      "cell_type": "code",
      "source": [
        "dewP_ideal(z, 373.15)"
      ],
      "metadata": {
        "id": "53Wn1G-0ixwF",
        "outputId": "5ace9e31-8355-45e8-b10e-521f088bec15",
        "colab": {
          "base_uri": "https://localhost:8080/"
        }
      },
      "execution_count": 34,
      "outputs": [
        {
          "output_type": "execute_result",
          "data": {
            "text/plain": [
              "Array(89901.78980933, dtype=float64)"
            ]
          },
          "metadata": {},
          "execution_count": 34
        }
      ]
    },
    {
      "cell_type": "code",
      "source": [
        "\n",
        "def dewT_ideal(y, P):\n",
        "\n",
        "    def P_dev(T):\n",
        "        return dewP_ideal(y, T) - P\n",
        "    res = root(P_dev, 300.)\n",
        "\n",
        "    return res.x"
      ],
      "metadata": {
        "id": "HavAk8t7jPKu"
      },
      "execution_count": 41,
      "outputs": []
    },
    {
      "cell_type": "code",
      "source": [
        "z1 = np.linspace(0.,1.,6)\n",
        "zs=np.c_[z1, 1-z1]"
      ],
      "metadata": {
        "id": "bRKrcl_7lwRp"
      },
      "execution_count": 47,
      "outputs": []
    },
    {
      "cell_type": "code",
      "source": [
        "for z in zs:\n",
        "    b=bubbleP_ideal(z, 373.15)\n",
        "    d=dewP_ideal(z, 373.15)\n",
        "    print(b, d)"
      ],
      "metadata": {
        "id": "CqJ5MZfdqZgN",
        "outputId": "a188ab85-422e-4ce4-d5ad-25dedcbc3069",
        "colab": {
          "base_uri": "https://localhost:8080/"
        }
      },
      "execution_count": 51,
      "outputs": [
        {
          "output_type": "stream",
          "name": "stdout",
          "text": [
            "74030.2222884113 74030.2222884113\n",
            "95202.92088730364 83905.53443338277\n",
            "116375.61948619597 96821.04380542786\n",
            "137548.3180850883 114436.09743584601\n",
            "158721.01668398065 139886.16742593353\n",
            "179893.71528287296 179893.71528287296\n"
          ]
        }
      ]
    },
    {
      "cell_type": "code",
      "source": [],
      "metadata": {
        "id": "3oB35Mo6rZUR"
      },
      "execution_count": null,
      "outputs": []
    }
  ]
}