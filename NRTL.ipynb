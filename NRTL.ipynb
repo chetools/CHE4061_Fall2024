{
  "nbformat": 4,
  "nbformat_minor": 0,
  "metadata": {
    "colab": {
      "provenance": [],
      "authorship_tag": "ABX9TyNYS7LCVvs3aPOzR9voW9aV",
      "include_colab_link": true
    },
    "kernelspec": {
      "name": "python3",
      "display_name": "Python 3"
    },
    "language_info": {
      "name": "python"
    }
  },
  "cells": [
    {
      "cell_type": "markdown",
      "metadata": {
        "id": "view-in-github",
        "colab_type": "text"
      },
      "source": [
        "<a href=\"https://colab.research.google.com/github/chetools/CHE4061_Fall2024/blob/main/NRTL.ipynb\" target=\"_parent\"><img src=\"https://colab.research.google.com/assets/colab-badge.svg\" alt=\"Open In Colab\"/></a>"
      ]
    },
    {
      "cell_type": "code",
      "execution_count": 1,
      "metadata": {
        "colab": {
          "base_uri": "https://localhost:8080/"
        },
        "id": "2IVvN85dWumt",
        "outputId": "50b119ca-3989-4ca5-ed13-ddcc23ee927d"
      },
      "outputs": [
        {
          "output_type": "stream",
          "name": "stdout",
          "text": [
            "Collecting importnb\n",
            "  Downloading importnb-2023.11.1-py3-none-any.whl.metadata (9.4 kB)\n",
            "Downloading importnb-2023.11.1-py3-none-any.whl (45 kB)\n",
            "\u001b[?25l   \u001b[90m━━━━━━━━━━━━━━━━━━━━━━━━━━━━━━━━━━━━━━━━\u001b[0m \u001b[32m0.0/46.0 kB\u001b[0m \u001b[31m?\u001b[0m eta \u001b[36m-:--:--\u001b[0m\r\u001b[2K   \u001b[90m━━━━━━━━━━━━━━━━━━━━━━━━━━━━━━━━━━━━━━━━\u001b[0m \u001b[32m46.0/46.0 kB\u001b[0m \u001b[31m2.4 MB/s\u001b[0m eta \u001b[36m0:00:00\u001b[0m\n",
            "\u001b[?25hInstalling collected packages: importnb\n",
            "Successfully installed importnb-2023.11.1\n"
          ]
        }
      ],
      "source": [
        "!wget -N -q https://raw.githubusercontent.com/chetools/chetools/main/tools/che5.ipynb -O che5.ipynb\n",
        "!pip install importnb"
      ]
    },
    {
      "cell_type": "code",
      "source": [
        "from importnb import Notebook\n",
        "with Notebook():\n",
        "    from che5 import Props\n",
        "\n",
        "import numpy as np\n",
        "import jax\n",
        "import jax.numpy as jnp\n",
        "jax.config.update(\"jax_enable_x64\", True)\n",
        "from scipy.optimize import root_scalar\n",
        "from scipy.optimize import root\n",
        "from scipy.special import expit, logit\n",
        "from plotly.subplots import make_subplots\n",
        "from scipy.interpolate import Akima1DInterpolator"
      ],
      "metadata": {
        "id": "W0bo2gMdWwAr"
      },
      "execution_count": 52,
      "outputs": []
    },
    {
      "cell_type": "code",
      "source": [
        "p=Props(['Isopropanol', 'Water'])"
      ],
      "metadata": {
        "id": "bYg-Mhy6XgMR"
      },
      "execution_count": 49,
      "outputs": []
    },
    {
      "cell_type": "code",
      "source": [
        "def gamma(x,T):\n",
        "    tau = p.NRTL_A + p.NRTL_B/T + p.NRTL_C*np.log(T) + p.NRTL_D*T\n",
        "    G=np.exp(-p.NRTL_alpha*tau)\n",
        "    xG = x@G\n",
        "    xtauG_xG = (x@(tau*G))/xG\n",
        "    return np.exp(xtauG_xG + x@((G*(tau - xtauG_xG[None,:])/xG[None,:]).T))"
      ],
      "metadata": {
        "id": "Q4tPnozmpqD4"
      },
      "execution_count": 44,
      "outputs": []
    },
    {
      "cell_type": "code",
      "source": [
        "def dewP_ideal(y, T):\n",
        "    P=1./(np.sum(y/p.Pvap(T)))\n",
        "    return P, y*P/p.Pvap(T)\n",
        "\n",
        "def dewT_ideal(y, P):\n",
        "\n",
        "    def P_dev(T):\n",
        "        return dewP_ideal(y, T)[0] - P\n",
        "    T = root(P_dev, 300.).x[0]\n",
        "\n",
        "    return T,  y*P/p.Pvap(T)"
      ],
      "metadata": {
        "id": "KNN3rRVW_SUG"
      },
      "execution_count": 45,
      "outputs": []
    },
    {
      "cell_type": "code",
      "source": [
        "def bubbleP_NRTL(x, T):\n",
        "    Pi= x*gamma(x,T)*p.Pvap(T)\n",
        "    P=np.sum(Pi)\n",
        "    return P, Pi/P\n",
        "\n",
        "def bubbleT_NRTL(x, P):\n",
        "\n",
        "    def f(T):\n",
        "        return bubbleP_NRTL(x,T)[0]-P\n",
        "\n",
        "    #mole-fraction weighted boiling points of each component at P\n",
        "    #boiling points determined via Clausius Clapeyron, using the Hvap at the normal bp\n",
        "    #for each component.  p.Hvap returns the heat of vaporization of all components for each\n",
        "    #temperature if an array of temperatures is given.\n",
        "    Tguess=np.dot(x,1/(1/p.Tbn-np.log(P/101325)*R/np.diagonal(p.Hvap(p.Tbn))))\n",
        "\n",
        "    res=root_scalar(f, x0=Tguess, method='secant')\n",
        "    if not(res.converged):\n",
        "        return \"FAIL\", res\n",
        "    T=root_scalar(f, x0=Tguess, method='secant').root\n",
        "    Pi= x*gamma(x,T)*p.Pvap(T)\n",
        "    P=np.sum(Pi)\n",
        "\n",
        "    return T, Pi/P\n",
        "\n"
      ],
      "metadata": {
        "id": "Sv4RRhSCpbhw"
      },
      "execution_count": 46,
      "outputs": []
    },
    {
      "cell_type": "code",
      "source": [
        "P=101325\n",
        "x1s=np.linspace(0,1,101)\n",
        "Ts=[]\n",
        "y1s=[]\n",
        "for x1 in x1s:\n",
        "    T, (y1,y2) = bubbleT_NRTL(np.array([x1, 1-x1]), P)\n",
        "    Ts.append(T)\n",
        "    y1s.append(y1)\n",
        "\n",
        "\n"
      ],
      "metadata": {
        "id": "1cEd6k0vCzol"
      },
      "execution_count": 50,
      "outputs": []
    },
    {
      "cell_type": "code",
      "source": [
        "y1interp = Akima1DInterpolator(x1s, y1s)\n",
        "\n"
      ],
      "metadata": {
        "id": "T9r6bPDpGpG9"
      },
      "execution_count": 53,
      "outputs": []
    },
    {
      "cell_type": "code",
      "source": [
        "root_scalar(lambda x1: y1interp(x1)-x1, bracket=(1e-12,1.0 - 1e-12))"
      ],
      "metadata": {
        "id": "pe8Ku557HVho",
        "outputId": "decf5975-1dc7-4d9f-f242-225bee2cef79",
        "colab": {
          "base_uri": "https://localhost:8080/"
        }
      },
      "execution_count": 59,
      "outputs": [
        {
          "output_type": "execute_result",
          "data": {
            "text/plain": [
              "      converged: True\n",
              "           flag: converged\n",
              " function_calls: 13\n",
              "     iterations: 12\n",
              "           root: 0.669658944910012\n",
              "         method: brentq"
            ]
          },
          "metadata": {},
          "execution_count": 59
        }
      ]
    },
    {
      "cell_type": "code",
      "source": [
        "root_scalar(lambda x1: bubbleT_NRTL(np.array([x1,1-x1]),P)[1][0] -x1, bracket=(1e-12,1.0 - 1e-12))"
      ],
      "metadata": {
        "id": "TDOfyqz_HJ7m",
        "outputId": "db49f80b-4faf-49ab-cafe-c873d972f801",
        "colab": {
          "base_uri": "https://localhost:8080/"
        }
      },
      "execution_count": 61,
      "outputs": [
        {
          "output_type": "execute_result",
          "data": {
            "text/plain": [
              "      converged: True\n",
              "           flag: converged\n",
              " function_calls: 13\n",
              "     iterations: 12\n",
              "           root: 0.6696588409049233\n",
              "         method: brentq"
            ]
          },
          "metadata": {},
          "execution_count": 61
        }
      ]
    },
    {
      "cell_type": "code",
      "source": [
        "fig=make_subplots(rows=1,cols=2)\n",
        "fig.add_scatter(x=x1s, y=Ts, mode='lines',row=1,col=1)\n",
        "fig.add_scatter(x=y1s, y=Ts, mode='lines',row=1,col=1)\n",
        "fig.add_scatter(x=x1s, y=y1s, mode='lines', line_color='blue', row=1,col=2)\n",
        "fig.add_scatter(x=[0,1],y=[0,1], mode='lines', line_color='green', row=1,col=2)\n",
        "fig.update_layout(width=1000, height=500, showlegend=False)"
      ],
      "metadata": {
        "id": "tqg3aQ6nEej5",
        "outputId": "fc738223-ba92-4884-eb2f-767527769e9e",
        "colab": {
          "base_uri": "https://localhost:8080/",
          "height": 517
        }
      },
      "execution_count": 51,
      "outputs": [
        {
          "output_type": "display_data",
          "data": {
            "text/html": [
              "<html>\n",
              "<head><meta charset=\"utf-8\" /></head>\n",
              "<body>\n",
              "    <div>            <script src=\"https://cdnjs.cloudflare.com/ajax/libs/mathjax/2.7.5/MathJax.js?config=TeX-AMS-MML_SVG\"></script><script type=\"text/javascript\">if (window.MathJax && window.MathJax.Hub && window.MathJax.Hub.Config) {window.MathJax.Hub.Config({SVG: {font: \"STIX-Web\"}});}</script>                <script type=\"text/javascript\">window.PlotlyConfig = {MathJaxConfig: 'local'};</script>\n",
              "        <script charset=\"utf-8\" src=\"https://cdn.plot.ly/plotly-2.35.2.min.js\"></script>                <div id=\"424f30df-34a6-42a8-96ef-a809b4a969c6\" class=\"plotly-graph-div\" style=\"height:500px; width:1000px;\"></div>            <script type=\"text/javascript\">                                    window.PLOTLYENV=window.PLOTLYENV || {};                                    if (document.getElementById(\"424f30df-34a6-42a8-96ef-a809b4a969c6\")) {                    Plotly.newPlot(                        \"424f30df-34a6-42a8-96ef-a809b4a969c6\",                        [{\"mode\":\"lines\",\"x\":[0.0,0.01,0.02,0.03,0.04,0.05,0.06,0.07,0.08,0.09,0.1,0.11,0.12,0.13,0.14,0.15,0.16,0.17,0.18,0.19,0.2,0.21,0.22,0.23,0.24,0.25,0.26,0.27,0.28,0.29,0.3,0.31,0.32,0.33,0.34,0.35000000000000003,0.36,0.37,0.38,0.39,0.4,0.41000000000000003,0.42,0.43,0.44,0.45,0.46,0.47000000000000003,0.48,0.49,0.5,0.51,0.52,0.53,0.54,0.55,0.56,0.5700000000000001,0.58,0.59,0.6,0.61,0.62,0.63,0.64,0.65,0.66,0.67,0.68,0.6900000000000001,0.7000000000000001,0.71,0.72,0.73,0.74,0.75,0.76,0.77,0.78,0.79,0.8,0.81,0.8200000000000001,0.8300000000000001,0.84,0.85,0.86,0.87,0.88,0.89,0.9,0.91,0.92,0.93,0.9400000000000001,0.9500000000000001,0.96,0.97,0.98,0.99,1.0],\"y\":[373.14781770654645,368.8755568951918,365.7292732151603,363.36618490892187,361.5618368879215,360.1652919807581,359.07227213762195,358.2089197246051,357.52175532707287,356.9713009600352,356.5279223046761,356.1690493815927,355.8772756351868,355.639030481497,355.443634720606,355.28261687521325,355.1492107276097,355.03798086633986,354.94454009458997,354.8653337107507,354.79747311217335,354.73860621880976,354.68681568875974,354.6405383263065,354.59850080294024,354.5596680452128,354.52320153794375,354.4884254473816,354.4547989548899,354.42189355509294,354.38937434653496,354.3569845513914,354.32453266060185,354.29188172420976,354.25894040265223,354.2256554698413,354.19200551802817,354.15799566126884,354.12365307162503,354.08902321210195,354.0541666543486,354.01915638858634,353.98407554899615,353.9490154906718,353.91407416477705,353.8793547472097,353.8449644832222,353.8110137163667,353.777615075056,353.7448827941245,353.71293215221215,353.68187900865956,353.6518394260379,353.62292936646276,353.59526445158326,353.56895977759234,353.5441297778611,353.5208881268469,353.49934767986053,353.47962044402135,353.4618175764353,353.44604940617864,353.4324254771869,353.42105460957123,353.4120449772679,353.40550420024323,353.40153944978044,353.40025756561033,353.40176518388506,353.40616887518416,353.41357529192396,353.4240913247067,353.43782426727955,353.4548819899219,353.4753731211918,353.49940723809254,353.52709506481284,353.5585486803249,353.5938817352053,353.6332096781684,353.67664999288996,353.7243224458193,353.77634934577117,353.83285581622584,353.89397008136274,353.9598237670021,354.03055221775776,354.1062948318564,354.1871954152468,354.2734025568011,354.36507002660926,354.46235719958753,354.56542950687856,354.67445891777754,354.7896244552436,354.91111274839625,355.0391186257808,355.1738457536451,355.3155073239484,355.46432679741156,355.62053870754784],\"type\":\"scatter\",\"xaxis\":\"x\",\"yaxis\":\"y\"},{\"mode\":\"lines\",\"x\":[0.0,0.15116571788354735,0.2509364610722644,0.32006608353508803,0.36981393746037367,0.40669333910625366,0.43468428101099965,0.45633410300399596,0.4733384437883012,0.48686434139599744,0.4977383352776153,0.5065604385028687,0.5137756544328511,0.5197202574037973,0.5246525704697151,0.5287739360485262,0.5322433178851298,0.5351876687078919,0.5377094222168478,0.5398919941547771,0.5418038806559,0.5435017523603609,0.5450328189650627,0.5464366565648943,0.5477466344762021,0.5489910400018506,0.5501939729528202,0.5513760629214938,0.5525550488404888,0.5537462506200779,0.5549629555302389,0.5562167367260671,0.5575177173839085,0.5588747909555023,0.5602958057986721,0.5617877207220563,0.5633567366530158,0.5650084086060838,0.5667477413218932,0.568579271310893,0.5705071375324368,0.5725351425385325,0.5746668055900452,0.5769054089939128,0.5792540387005202,0.5817156200296739,0.584292949254341,0.5869887216572213,0.5898055565808054,0.5927460199141856,0.5958126443950484,0.5990079480519377,0.6023344510669291,0.6057946913016135,0.6093912386979647,0.6131267087394551,0.617003775135707,0.6210251818756773,0.62519375477885,0.629512412661065,0.6339841782208714,0.6386121887436391,0.6433997067132552,0.6483501304156769,0.6534670046140126,0.6587540313714654,0.6642150810961172,0.6698542038801746,0.6756756412056371,0.6816838380888186,0.6878834557370799,0.6942793847930671,0.7008767592444373,0.7076809710803993,0.7146976857807412,0.7219328587280653,0.7293927526399452,0.737083956124772,0.745013403472938,0.7531883958042681,0.7616166237029225,0.7703061914828244,0.7792656432398894,0.7885039908624691,0.7980307441882629,0.8078559435150413,0.8179901946941573,0.8284447070600338,0.8392313344762409,0.8503626198098663,0.8618518431808578,0.8737130743728501,0.8859612298369489,0.8986121347713346,0.9116825908176749,0.9251904499818889,0.9391546954627223,0.9535955301584024,0.9685344737213103,0.9839944691450345,1.0],\"y\":[373.14781770654645,368.8755568951918,365.7292732151603,363.36618490892187,361.5618368879215,360.1652919807581,359.07227213762195,358.2089197246051,357.52175532707287,356.9713009600352,356.5279223046761,356.1690493815927,355.8772756351868,355.639030481497,355.443634720606,355.28261687521325,355.1492107276097,355.03798086633986,354.94454009458997,354.8653337107507,354.79747311217335,354.73860621880976,354.68681568875974,354.6405383263065,354.59850080294024,354.5596680452128,354.52320153794375,354.4884254473816,354.4547989548899,354.42189355509294,354.38937434653496,354.3569845513914,354.32453266060185,354.29188172420976,354.25894040265223,354.2256554698413,354.19200551802817,354.15799566126884,354.12365307162503,354.08902321210195,354.0541666543486,354.01915638858634,353.98407554899615,353.9490154906718,353.91407416477705,353.8793547472097,353.8449644832222,353.8110137163667,353.777615075056,353.7448827941245,353.71293215221215,353.68187900865956,353.6518394260379,353.62292936646276,353.59526445158326,353.56895977759234,353.5441297778611,353.5208881268469,353.49934767986053,353.47962044402135,353.4618175764353,353.44604940617864,353.4324254771869,353.42105460957123,353.4120449772679,353.40550420024323,353.40153944978044,353.40025756561033,353.40176518388506,353.40616887518416,353.41357529192396,353.4240913247067,353.43782426727955,353.4548819899219,353.4753731211918,353.49940723809254,353.52709506481284,353.5585486803249,353.5938817352053,353.6332096781684,353.67664999288996,353.7243224458193,353.77634934577117,353.83285581622584,353.89397008136274,353.9598237670021,354.03055221775776,354.1062948318564,354.1871954152468,354.2734025568011,354.36507002660926,354.46235719958753,354.56542950687856,354.67445891777754,354.7896244552436,354.91111274839625,355.0391186257808,355.1738457536451,355.3155073239484,355.46432679741156,355.62053870754784],\"type\":\"scatter\",\"xaxis\":\"x\",\"yaxis\":\"y\"},{\"line\":{\"color\":\"blue\"},\"mode\":\"lines\",\"x\":[0.0,0.01,0.02,0.03,0.04,0.05,0.06,0.07,0.08,0.09,0.1,0.11,0.12,0.13,0.14,0.15,0.16,0.17,0.18,0.19,0.2,0.21,0.22,0.23,0.24,0.25,0.26,0.27,0.28,0.29,0.3,0.31,0.32,0.33,0.34,0.35000000000000003,0.36,0.37,0.38,0.39,0.4,0.41000000000000003,0.42,0.43,0.44,0.45,0.46,0.47000000000000003,0.48,0.49,0.5,0.51,0.52,0.53,0.54,0.55,0.56,0.5700000000000001,0.58,0.59,0.6,0.61,0.62,0.63,0.64,0.65,0.66,0.67,0.68,0.6900000000000001,0.7000000000000001,0.71,0.72,0.73,0.74,0.75,0.76,0.77,0.78,0.79,0.8,0.81,0.8200000000000001,0.8300000000000001,0.84,0.85,0.86,0.87,0.88,0.89,0.9,0.91,0.92,0.93,0.9400000000000001,0.9500000000000001,0.96,0.97,0.98,0.99,1.0],\"y\":[0.0,0.15116571788354735,0.2509364610722644,0.32006608353508803,0.36981393746037367,0.40669333910625366,0.43468428101099965,0.45633410300399596,0.4733384437883012,0.48686434139599744,0.4977383352776153,0.5065604385028687,0.5137756544328511,0.5197202574037973,0.5246525704697151,0.5287739360485262,0.5322433178851298,0.5351876687078919,0.5377094222168478,0.5398919941547771,0.5418038806559,0.5435017523603609,0.5450328189650627,0.5464366565648943,0.5477466344762021,0.5489910400018506,0.5501939729528202,0.5513760629214938,0.5525550488404888,0.5537462506200779,0.5549629555302389,0.5562167367260671,0.5575177173839085,0.5588747909555023,0.5602958057986721,0.5617877207220563,0.5633567366530158,0.5650084086060838,0.5667477413218932,0.568579271310893,0.5705071375324368,0.5725351425385325,0.5746668055900452,0.5769054089939128,0.5792540387005202,0.5817156200296739,0.584292949254341,0.5869887216572213,0.5898055565808054,0.5927460199141856,0.5958126443950484,0.5990079480519377,0.6023344510669291,0.6057946913016135,0.6093912386979647,0.6131267087394551,0.617003775135707,0.6210251818756773,0.62519375477885,0.629512412661065,0.6339841782208714,0.6386121887436391,0.6433997067132552,0.6483501304156769,0.6534670046140126,0.6587540313714654,0.6642150810961172,0.6698542038801746,0.6756756412056371,0.6816838380888186,0.6878834557370799,0.6942793847930671,0.7008767592444373,0.7076809710803993,0.7146976857807412,0.7219328587280653,0.7293927526399452,0.737083956124772,0.745013403472938,0.7531883958042681,0.7616166237029225,0.7703061914828244,0.7792656432398894,0.7885039908624691,0.7980307441882629,0.8078559435150413,0.8179901946941573,0.8284447070600338,0.8392313344762409,0.8503626198098663,0.8618518431808578,0.8737130743728501,0.8859612298369489,0.8986121347713346,0.9116825908176749,0.9251904499818889,0.9391546954627223,0.9535955301584024,0.9685344737213103,0.9839944691450345,1.0],\"type\":\"scatter\",\"xaxis\":\"x2\",\"yaxis\":\"y2\"},{\"line\":{\"color\":\"green\"},\"mode\":\"lines\",\"x\":[0,1],\"y\":[0,1],\"type\":\"scatter\",\"xaxis\":\"x2\",\"yaxis\":\"y2\"}],                        {\"template\":{\"data\":{\"histogram2dcontour\":[{\"type\":\"histogram2dcontour\",\"colorbar\":{\"outlinewidth\":0,\"ticks\":\"\"},\"colorscale\":[[0.0,\"#0d0887\"],[0.1111111111111111,\"#46039f\"],[0.2222222222222222,\"#7201a8\"],[0.3333333333333333,\"#9c179e\"],[0.4444444444444444,\"#bd3786\"],[0.5555555555555556,\"#d8576b\"],[0.6666666666666666,\"#ed7953\"],[0.7777777777777778,\"#fb9f3a\"],[0.8888888888888888,\"#fdca26\"],[1.0,\"#f0f921\"]]}],\"choropleth\":[{\"type\":\"choropleth\",\"colorbar\":{\"outlinewidth\":0,\"ticks\":\"\"}}],\"histogram2d\":[{\"type\":\"histogram2d\",\"colorbar\":{\"outlinewidth\":0,\"ticks\":\"\"},\"colorscale\":[[0.0,\"#0d0887\"],[0.1111111111111111,\"#46039f\"],[0.2222222222222222,\"#7201a8\"],[0.3333333333333333,\"#9c179e\"],[0.4444444444444444,\"#bd3786\"],[0.5555555555555556,\"#d8576b\"],[0.6666666666666666,\"#ed7953\"],[0.7777777777777778,\"#fb9f3a\"],[0.8888888888888888,\"#fdca26\"],[1.0,\"#f0f921\"]]}],\"heatmap\":[{\"type\":\"heatmap\",\"colorbar\":{\"outlinewidth\":0,\"ticks\":\"\"},\"colorscale\":[[0.0,\"#0d0887\"],[0.1111111111111111,\"#46039f\"],[0.2222222222222222,\"#7201a8\"],[0.3333333333333333,\"#9c179e\"],[0.4444444444444444,\"#bd3786\"],[0.5555555555555556,\"#d8576b\"],[0.6666666666666666,\"#ed7953\"],[0.7777777777777778,\"#fb9f3a\"],[0.8888888888888888,\"#fdca26\"],[1.0,\"#f0f921\"]]}],\"heatmapgl\":[{\"type\":\"heatmapgl\",\"colorbar\":{\"outlinewidth\":0,\"ticks\":\"\"},\"colorscale\":[[0.0,\"#0d0887\"],[0.1111111111111111,\"#46039f\"],[0.2222222222222222,\"#7201a8\"],[0.3333333333333333,\"#9c179e\"],[0.4444444444444444,\"#bd3786\"],[0.5555555555555556,\"#d8576b\"],[0.6666666666666666,\"#ed7953\"],[0.7777777777777778,\"#fb9f3a\"],[0.8888888888888888,\"#fdca26\"],[1.0,\"#f0f921\"]]}],\"contourcarpet\":[{\"type\":\"contourcarpet\",\"colorbar\":{\"outlinewidth\":0,\"ticks\":\"\"}}],\"contour\":[{\"type\":\"contour\",\"colorbar\":{\"outlinewidth\":0,\"ticks\":\"\"},\"colorscale\":[[0.0,\"#0d0887\"],[0.1111111111111111,\"#46039f\"],[0.2222222222222222,\"#7201a8\"],[0.3333333333333333,\"#9c179e\"],[0.4444444444444444,\"#bd3786\"],[0.5555555555555556,\"#d8576b\"],[0.6666666666666666,\"#ed7953\"],[0.7777777777777778,\"#fb9f3a\"],[0.8888888888888888,\"#fdca26\"],[1.0,\"#f0f921\"]]}],\"surface\":[{\"type\":\"surface\",\"colorbar\":{\"outlinewidth\":0,\"ticks\":\"\"},\"colorscale\":[[0.0,\"#0d0887\"],[0.1111111111111111,\"#46039f\"],[0.2222222222222222,\"#7201a8\"],[0.3333333333333333,\"#9c179e\"],[0.4444444444444444,\"#bd3786\"],[0.5555555555555556,\"#d8576b\"],[0.6666666666666666,\"#ed7953\"],[0.7777777777777778,\"#fb9f3a\"],[0.8888888888888888,\"#fdca26\"],[1.0,\"#f0f921\"]]}],\"mesh3d\":[{\"type\":\"mesh3d\",\"colorbar\":{\"outlinewidth\":0,\"ticks\":\"\"}}],\"scatter\":[{\"fillpattern\":{\"fillmode\":\"overlay\",\"size\":10,\"solidity\":0.2},\"type\":\"scatter\"}],\"parcoords\":[{\"type\":\"parcoords\",\"line\":{\"colorbar\":{\"outlinewidth\":0,\"ticks\":\"\"}}}],\"scatterpolargl\":[{\"type\":\"scatterpolargl\",\"marker\":{\"colorbar\":{\"outlinewidth\":0,\"ticks\":\"\"}}}],\"bar\":[{\"error_x\":{\"color\":\"#2a3f5f\"},\"error_y\":{\"color\":\"#2a3f5f\"},\"marker\":{\"line\":{\"color\":\"#E5ECF6\",\"width\":0.5},\"pattern\":{\"fillmode\":\"overlay\",\"size\":10,\"solidity\":0.2}},\"type\":\"bar\"}],\"scattergeo\":[{\"type\":\"scattergeo\",\"marker\":{\"colorbar\":{\"outlinewidth\":0,\"ticks\":\"\"}}}],\"scatterpolar\":[{\"type\":\"scatterpolar\",\"marker\":{\"colorbar\":{\"outlinewidth\":0,\"ticks\":\"\"}}}],\"histogram\":[{\"marker\":{\"pattern\":{\"fillmode\":\"overlay\",\"size\":10,\"solidity\":0.2}},\"type\":\"histogram\"}],\"scattergl\":[{\"type\":\"scattergl\",\"marker\":{\"colorbar\":{\"outlinewidth\":0,\"ticks\":\"\"}}}],\"scatter3d\":[{\"type\":\"scatter3d\",\"line\":{\"colorbar\":{\"outlinewidth\":0,\"ticks\":\"\"}},\"marker\":{\"colorbar\":{\"outlinewidth\":0,\"ticks\":\"\"}}}],\"scattermapbox\":[{\"type\":\"scattermapbox\",\"marker\":{\"colorbar\":{\"outlinewidth\":0,\"ticks\":\"\"}}}],\"scatterternary\":[{\"type\":\"scatterternary\",\"marker\":{\"colorbar\":{\"outlinewidth\":0,\"ticks\":\"\"}}}],\"scattercarpet\":[{\"type\":\"scattercarpet\",\"marker\":{\"colorbar\":{\"outlinewidth\":0,\"ticks\":\"\"}}}],\"carpet\":[{\"aaxis\":{\"endlinecolor\":\"#2a3f5f\",\"gridcolor\":\"white\",\"linecolor\":\"white\",\"minorgridcolor\":\"white\",\"startlinecolor\":\"#2a3f5f\"},\"baxis\":{\"endlinecolor\":\"#2a3f5f\",\"gridcolor\":\"white\",\"linecolor\":\"white\",\"minorgridcolor\":\"white\",\"startlinecolor\":\"#2a3f5f\"},\"type\":\"carpet\"}],\"table\":[{\"cells\":{\"fill\":{\"color\":\"#EBF0F8\"},\"line\":{\"color\":\"white\"}},\"header\":{\"fill\":{\"color\":\"#C8D4E3\"},\"line\":{\"color\":\"white\"}},\"type\":\"table\"}],\"barpolar\":[{\"marker\":{\"line\":{\"color\":\"#E5ECF6\",\"width\":0.5},\"pattern\":{\"fillmode\":\"overlay\",\"size\":10,\"solidity\":0.2}},\"type\":\"barpolar\"}],\"pie\":[{\"automargin\":true,\"type\":\"pie\"}]},\"layout\":{\"autotypenumbers\":\"strict\",\"colorway\":[\"#636efa\",\"#EF553B\",\"#00cc96\",\"#ab63fa\",\"#FFA15A\",\"#19d3f3\",\"#FF6692\",\"#B6E880\",\"#FF97FF\",\"#FECB52\"],\"font\":{\"color\":\"#2a3f5f\"},\"hovermode\":\"closest\",\"hoverlabel\":{\"align\":\"left\"},\"paper_bgcolor\":\"white\",\"plot_bgcolor\":\"#E5ECF6\",\"polar\":{\"bgcolor\":\"#E5ECF6\",\"angularaxis\":{\"gridcolor\":\"white\",\"linecolor\":\"white\",\"ticks\":\"\"},\"radialaxis\":{\"gridcolor\":\"white\",\"linecolor\":\"white\",\"ticks\":\"\"}},\"ternary\":{\"bgcolor\":\"#E5ECF6\",\"aaxis\":{\"gridcolor\":\"white\",\"linecolor\":\"white\",\"ticks\":\"\"},\"baxis\":{\"gridcolor\":\"white\",\"linecolor\":\"white\",\"ticks\":\"\"},\"caxis\":{\"gridcolor\":\"white\",\"linecolor\":\"white\",\"ticks\":\"\"}},\"coloraxis\":{\"colorbar\":{\"outlinewidth\":0,\"ticks\":\"\"}},\"colorscale\":{\"sequential\":[[0.0,\"#0d0887\"],[0.1111111111111111,\"#46039f\"],[0.2222222222222222,\"#7201a8\"],[0.3333333333333333,\"#9c179e\"],[0.4444444444444444,\"#bd3786\"],[0.5555555555555556,\"#d8576b\"],[0.6666666666666666,\"#ed7953\"],[0.7777777777777778,\"#fb9f3a\"],[0.8888888888888888,\"#fdca26\"],[1.0,\"#f0f921\"]],\"sequentialminus\":[[0.0,\"#0d0887\"],[0.1111111111111111,\"#46039f\"],[0.2222222222222222,\"#7201a8\"],[0.3333333333333333,\"#9c179e\"],[0.4444444444444444,\"#bd3786\"],[0.5555555555555556,\"#d8576b\"],[0.6666666666666666,\"#ed7953\"],[0.7777777777777778,\"#fb9f3a\"],[0.8888888888888888,\"#fdca26\"],[1.0,\"#f0f921\"]],\"diverging\":[[0,\"#8e0152\"],[0.1,\"#c51b7d\"],[0.2,\"#de77ae\"],[0.3,\"#f1b6da\"],[0.4,\"#fde0ef\"],[0.5,\"#f7f7f7\"],[0.6,\"#e6f5d0\"],[0.7,\"#b8e186\"],[0.8,\"#7fbc41\"],[0.9,\"#4d9221\"],[1,\"#276419\"]]},\"xaxis\":{\"gridcolor\":\"white\",\"linecolor\":\"white\",\"ticks\":\"\",\"title\":{\"standoff\":15},\"zerolinecolor\":\"white\",\"automargin\":true,\"zerolinewidth\":2},\"yaxis\":{\"gridcolor\":\"white\",\"linecolor\":\"white\",\"ticks\":\"\",\"title\":{\"standoff\":15},\"zerolinecolor\":\"white\",\"automargin\":true,\"zerolinewidth\":2},\"scene\":{\"xaxis\":{\"backgroundcolor\":\"#E5ECF6\",\"gridcolor\":\"white\",\"linecolor\":\"white\",\"showbackground\":true,\"ticks\":\"\",\"zerolinecolor\":\"white\",\"gridwidth\":2},\"yaxis\":{\"backgroundcolor\":\"#E5ECF6\",\"gridcolor\":\"white\",\"linecolor\":\"white\",\"showbackground\":true,\"ticks\":\"\",\"zerolinecolor\":\"white\",\"gridwidth\":2},\"zaxis\":{\"backgroundcolor\":\"#E5ECF6\",\"gridcolor\":\"white\",\"linecolor\":\"white\",\"showbackground\":true,\"ticks\":\"\",\"zerolinecolor\":\"white\",\"gridwidth\":2}},\"shapedefaults\":{\"line\":{\"color\":\"#2a3f5f\"}},\"annotationdefaults\":{\"arrowcolor\":\"#2a3f5f\",\"arrowhead\":0,\"arrowwidth\":1},\"geo\":{\"bgcolor\":\"white\",\"landcolor\":\"#E5ECF6\",\"subunitcolor\":\"white\",\"showland\":true,\"showlakes\":true,\"lakecolor\":\"white\"},\"title\":{\"x\":0.05},\"mapbox\":{\"style\":\"light\"}}},\"xaxis\":{\"anchor\":\"y\",\"domain\":[0.0,0.45]},\"yaxis\":{\"anchor\":\"x\",\"domain\":[0.0,1.0]},\"xaxis2\":{\"anchor\":\"y2\",\"domain\":[0.55,1.0]},\"yaxis2\":{\"anchor\":\"x2\",\"domain\":[0.0,1.0]},\"width\":1000,\"height\":500,\"showlegend\":false},                        {\"responsive\": true}                    ).then(function(){\n",
              "                            \n",
              "var gd = document.getElementById('424f30df-34a6-42a8-96ef-a809b4a969c6');\n",
              "var x = new MutationObserver(function (mutations, observer) {{\n",
              "        var display = window.getComputedStyle(gd).display;\n",
              "        if (!display || display === 'none') {{\n",
              "            console.log([gd, 'removed!']);\n",
              "            Plotly.purge(gd);\n",
              "            observer.disconnect();\n",
              "        }}\n",
              "}});\n",
              "\n",
              "// Listen for the removal of the full notebook cells\n",
              "var notebookContainer = gd.closest('#notebook-container');\n",
              "if (notebookContainer) {{\n",
              "    x.observe(notebookContainer, {childList: true});\n",
              "}}\n",
              "\n",
              "// Listen for the clearing of the current output cell\n",
              "var outputEl = gd.closest('.output');\n",
              "if (outputEl) {{\n",
              "    x.observe(outputEl, {childList: true});\n",
              "}}\n",
              "\n",
              "                        })                };                            </script>        </div>\n",
              "</body>\n",
              "</html>"
            ]
          },
          "metadata": {}
        }
      ]
    },
    {
      "cell_type": "code",
      "source": [
        "z = np.array([0.1,0.2,0.3,0.4])\n",
        "P = 3e5\n",
        "R=8.314\n",
        "bubbleT_NRTL(z,P)\n"
      ],
      "metadata": {
        "id": "muWnVJG8tTUS",
        "outputId": "afc9862c-5cb9-45b8-9212-5d7e2d1528e4",
        "colab": {
          "base_uri": "https://localhost:8080/"
        }
      },
      "execution_count": 7,
      "outputs": [
        {
          "output_type": "execute_result",
          "data": {
            "text/plain": [
              "(Array(377.80220917, dtype=float64),\n",
              " Array([0.25464361, 0.1853556 , 0.28067204, 0.27932875], dtype=float64))"
            ]
          },
          "metadata": {},
          "execution_count": 7
        }
      ]
    },
    {
      "cell_type": "code",
      "source": [
        "def dewP_NRTL(y, T):\n",
        "    def f(vec):\n",
        "        P = vec[0]\n",
        "        x = expit(vec[1:])  #Ensures that mole fractions are between 0 and 1\n",
        "\n",
        "        fug_eqs = x*gamma(x,T) * p.Pvap(T)  - y*P\n",
        "        xsum_eq = 1. - np.sum(x)\n",
        "\n",
        "        return np.r_[fug_eqs, xsum_eq]\n",
        "\n",
        "    #Assume ideal liquid dewP calculation for initial guess of P and liquid phase composition\n",
        "    Pguess, xguess= dewP_ideal(z,T)\n",
        "\n",
        "    #f (function to zero) maps values from -inf to inf, to values between 0 and 1\n",
        "    #so xguess is mapped via logit which is the inverse function of expit\n",
        "    v0 = np.r_[Pguess, logit(xguess)]\n",
        "    res=root(f, v0)\n",
        "    if not(res.success):\n",
        "        return \"FAILURE\", res\n",
        "    return res.x[0], expit(res.x[1:])"
      ],
      "metadata": {
        "id": "_B60yBNV6x0W"
      },
      "execution_count": 8,
      "outputs": []
    },
    {
      "cell_type": "code",
      "source": [
        "def dewT_NRTL(y, P):\n",
        "    def f(vec):\n",
        "        T = vec[0]\n",
        "        x = expit(vec[1:])  #Ensures that mole fractions are between 0 and 1\n",
        "\n",
        "        fug_eqs = x*gamma(x,T) * p.Pvap(T)  - y*P\n",
        "        xsum_eq = 1. - np.sum(x)\n",
        "\n",
        "        return np.r_[fug_eqs, xsum_eq]\n",
        "\n",
        "    #Assume ideal liquid dewP calculation for initial guess of P and liquid phase composition\n",
        "    Tguess, xguess= dewT_ideal(z,P)\n",
        "\n",
        "    #f (function to zero) maps values from -inf to inf, to values between 0 and 1\n",
        "    #so xguess is mapped via logit which is the inverse function of expit\n",
        "    v0 = np.r_[Tguess, logit(xguess)]\n",
        "    res=root(f, v0)\n",
        "    if not(res.success):\n",
        "        return \"FAILURE\", res\n",
        "    return res.x[0], expit(res.x[1:])"
      ],
      "metadata": {
        "id": "XR4MHf41FtE-"
      },
      "execution_count": 9,
      "outputs": []
    },
    {
      "cell_type": "code",
      "source": [
        "dewP_NRTL(z, 373)"
      ],
      "metadata": {
        "colab": {
          "base_uri": "https://localhost:8080/"
        },
        "id": "88PMN80r_Va2",
        "outputId": "1465a297-049a-4622-aea6-bbb8b0f8009a"
      },
      "execution_count": 10,
      "outputs": [
        {
          "output_type": "execute_result",
          "data": {
            "text/plain": [
              "(215679.4631248687, array([0.02121585, 0.13299478, 0.17452966, 0.67125971]))"
            ]
          },
          "metadata": {},
          "execution_count": 10
        }
      ]
    },
    {
      "cell_type": "code",
      "source": [
        "dewT_NRTL(z, 215679)"
      ],
      "metadata": {
        "colab": {
          "base_uri": "https://localhost:8080/"
        },
        "id": "IecDbh5H_ZSm",
        "outputId": "770161ff-7491-4fa6-90c0-f454362dccf0"
      },
      "execution_count": 11,
      "outputs": [
        {
          "output_type": "execute_result",
          "data": {
            "text/plain": [
              "(372.99993756950886, array([0.02121583, 0.13299476, 0.17452962, 0.67125978]))"
            ]
          },
          "metadata": {},
          "execution_count": 11
        }
      ]
    },
    {
      "cell_type": "code",
      "source": [
        "def flash_idealPT(z, P, T):\n",
        "\n",
        "    K=p.Pvap(T)/P\n",
        "    def rachford(VF):\n",
        "        return np.sum(z*(K-1)/(VF*(K-1) +1))\n",
        "\n",
        "    res=root_scalar(rachford, bracket=(0,1))\n",
        "    VF = res.root\n",
        "    x=z/(1-VF + K *VF)\n",
        "    y=K*x\n",
        "    return x, y, VF"
      ],
      "metadata": {
        "id": "bu_4hen-0gCa"
      },
      "execution_count": 12,
      "outputs": []
    },
    {
      "cell_type": "code",
      "source": [
        "def flash_NRTL_PT(z, P, T, maxiter = 100, tol=1e-12):\n",
        "\n",
        "    dewP, dewx = dewP_NRTL(z, T)\n",
        "    bubbleP, bubbley = bubbleP_NRTL(z,T)\n",
        "\n",
        "    xguess = (P-dewP)/(bubbleP-dewP) * (z - dewx) +  dewx\n",
        "\n",
        "    for i in range(maxiter):\n",
        "        K=gamma(xguess,T)*p.Pvap(T)/P\n",
        "\n",
        "        def rachford(VF):\n",
        "            return np.sum(z*(K-1)/(VF*(K-1) +1))\n",
        "\n",
        "        res=root_scalar(rachford, bracket=(0,1))\n",
        "        VF = res.root\n",
        "        x=z/(1-VF + K *VF)\n",
        "        if (np.linalg.norm(xguess-x)<tol):\n",
        "            break\n",
        "        xguess = x\n",
        "\n",
        "    y=K*x\n",
        "    return x, y, VF, i"
      ],
      "metadata": {
        "id": "ZsMszmU0GwpA"
      },
      "execution_count": 13,
      "outputs": []
    },
    {
      "cell_type": "code",
      "source": [
        "def flash_NRTL_PQ(z, F_H, flashP,  Q=0.):\n",
        "\n",
        "    dewT_flashP = dewT_NRTL(z, flashP)[0]\n",
        "    bubbleT_flashP = bubbleT_NRTL(z, flashP)[0]\n",
        "\n",
        "\n",
        "    def H_balance(T):\n",
        "        x,y, VF, iter = flash_NRTL_PT(z, flashP, T)\n",
        "        L_H =p.Hl((1-VF)*x, T)\n",
        "        V_H = p.Hv(VF*y, T)\n",
        "        return F_H + Q - L_H - V_H\n",
        "\n",
        "\n",
        "\n",
        "    res=root_scalar(H_balance, bracket=(bubbleT_flashP+1e-12,dewT_flashP-1e-12))\n",
        "    if not(res.converged):\n",
        "        return \"FAIL\", res\n",
        "\n",
        "    T= res.root\n",
        "    x,y, VF, iter = flash_NRTL_PT(z, flashP, T)\n",
        "    return T, x, y, VF\n",
        "\n",
        "\n"
      ],
      "metadata": {
        "id": "v3A1i1BqBXGA"
      },
      "execution_count": 19,
      "outputs": []
    },
    {
      "cell_type": "code",
      "source": [
        "p=Props(['Acetone','Ethanol', 'Isopropanol', 'Water'])\n",
        "z=np.array([0.1, 0.2,0.3,0.4])\n",
        "FT = 400.\n",
        "FP = bubbleP_NRTL(z, FT)[0]  #Feed pressure is at bubble pressure\n",
        "FH = p.Hl(z, FT)\n",
        "flashP=FP/2\n",
        "flash_NRTL_PQ(z, FH, flashP)"
      ],
      "metadata": {
        "id": "ZUuUix-aIxUV",
        "outputId": "e4ee1510-298d-4af9-810c-61c906c8f365",
        "colab": {
          "base_uri": "https://localhost:8080/"
        }
      },
      "execution_count": 20,
      "outputs": [
        {
          "output_type": "execute_result",
          "data": {
            "text/plain": [
              "(377.06098004137635,\n",
              " Array([0.08628199, 0.20094911, 0.30114661, 0.41162229], dtype=float64),\n",
              " Array([0.23102251, 0.19093491, 0.28904858, 0.288994  ], dtype=float64),\n",
              " 0.09477658154556809)"
            ]
          },
          "metadata": {},
          "execution_count": 20
        }
      ]
    },
    {
      "cell_type": "code",
      "source": [],
      "metadata": {
        "id": "sS1OerW14-z7"
      },
      "execution_count": 15,
      "outputs": []
    },
    {
      "cell_type": "code",
      "source": [
        "FP = (bubbleP_NRTL(z,FT)[0]+dewP_NRTL(z, FT)[0])/2\n",
        "FP"
      ],
      "metadata": {
        "id": "PQ2nu3Q9N7Gi",
        "outputId": "a2b914a6-9cc7-40c0-9c81-6de0247cbde6",
        "colab": {
          "base_uri": "https://localhost:8080/"
        }
      },
      "execution_count": 16,
      "outputs": [
        {
          "output_type": "execute_result",
          "data": {
            "text/plain": [
              "Array(221592.6986437, dtype=float64)"
            ]
          },
          "metadata": {},
          "execution_count": 16
        }
      ]
    },
    {
      "cell_type": "code",
      "source": [
        "Fx, Fy, F_VF, _=flash_NRTL_PT(z, FP, FT)\n",
        "Fx, Fy, F_VF"
      ],
      "metadata": {
        "id": "ZtGA0FDUEgg0",
        "outputId": "ef27af8a-a53d-48ec-bc6c-4eec157baa66",
        "colab": {
          "base_uri": "https://localhost:8080/"
        }
      },
      "execution_count": 17,
      "outputs": [
        {
          "output_type": "execute_result",
          "data": {
            "text/plain": [
              "(Array([0.31107396, 0.68892604], dtype=float64),\n",
              " Array([0.50612874, 0.49387126], dtype=float64),\n",
              " 0.4559028948708528)"
            ]
          },
          "metadata": {},
          "execution_count": 17
        }
      ]
    },
    {
      "cell_type": "code",
      "source": [],
      "metadata": {
        "id": "o_1z14I7ObnN"
      },
      "execution_count": 17,
      "outputs": []
    },
    {
      "cell_type": "markdown",
      "source": [
        "Rachford Rice:\n",
        "For a flash calculation at a given T and P, we want to solve for the compositions of each phase as well as the fraction of the feed that is vapor (or liquid).  To perform this flash calculation the two key relationships are the overall mass balance F = V + L, zF = xL + yV, y=Kx.  Combining these equations and noting that the sum of mole fractions add to 1, results in the Rachford-Rice expression (with a bit algebraic manipulation).  Sum y - sum x = 0\n",
        "\n",
        "If we have an ideal system, then Ki=Pvap,i(T) / P.  In a non-ideal system, the K=gamma(x,T) * Pvap,i / P.\n",
        "\n",
        "A dew P calculation yields a Pressure, and also the composition of the first liquid drop.  A bubble P calculation also yields another Pressure value, and the liquid phase composition is the feed composition.  For a flash to yield 2 phases, our pressure has to lie between the dewP and bubbleP.  So we linearly interpolate between the 2 liquid compositions based on where the flash P is relative to the bubbleP and dewP.  \n",
        "\n",
        "With that interpolated liquid phase composition as a guess, we proceed with a standard rachford rice calculation for the vapor fraction."
      ],
      "metadata": {
        "id": "Mz67arl4-ui8"
      }
    },
    {
      "cell_type": "code",
      "source": [
        "\n"
      ],
      "metadata": {
        "id": "AaJiDzj1Kga1"
      },
      "execution_count": 17,
      "outputs": []
    },
    {
      "cell_type": "code",
      "source": [],
      "metadata": {
        "id": "7ztATHuRKmY9"
      },
      "execution_count": 17,
      "outputs": []
    },
    {
      "cell_type": "code",
      "source": [],
      "metadata": {
        "id": "ViSi4XtW3WJf"
      },
      "execution_count": 17,
      "outputs": []
    }
  ]
}