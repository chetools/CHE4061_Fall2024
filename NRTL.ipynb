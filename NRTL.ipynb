{
  "nbformat": 4,
  "nbformat_minor": 0,
  "metadata": {
    "colab": {
      "provenance": [],
      "authorship_tag": "ABX9TyM5eAgvVLiNWdG/Q8GF/f2j",
      "include_colab_link": true
    },
    "kernelspec": {
      "name": "python3",
      "display_name": "Python 3"
    },
    "language_info": {
      "name": "python"
    }
  },
  "cells": [
    {
      "cell_type": "markdown",
      "metadata": {
        "id": "view-in-github",
        "colab_type": "text"
      },
      "source": [
        "<a href=\"https://colab.research.google.com/github/chetools/CHE4061_Fall2024/blob/main/NRTL.ipynb\" target=\"_parent\"><img src=\"https://colab.research.google.com/assets/colab-badge.svg\" alt=\"Open In Colab\"/></a>"
      ]
    },
    {
      "cell_type": "code",
      "execution_count": 1,
      "metadata": {
        "colab": {
          "base_uri": "https://localhost:8080/"
        },
        "id": "2IVvN85dWumt",
        "outputId": "5ba01786-b0a6-47ac-80f7-daf0eecddfd0"
      },
      "outputs": [
        {
          "output_type": "stream",
          "name": "stdout",
          "text": [
            "Collecting importnb\n",
            "  Downloading importnb-2023.11.1-py3-none-any.whl.metadata (9.4 kB)\n",
            "Downloading importnb-2023.11.1-py3-none-any.whl (45 kB)\n",
            "\u001b[?25l   \u001b[90m━━━━━━━━━━━━━━━━━━━━━━━━━━━━━━━━━━━━━━━━\u001b[0m \u001b[32m0.0/46.0 kB\u001b[0m \u001b[31m?\u001b[0m eta \u001b[36m-:--:--\u001b[0m\r\u001b[2K   \u001b[90m━━━━━━━━━━━━━━━━━━━━━━━━━━━━━━━━━━━━━━━━\u001b[0m \u001b[32m46.0/46.0 kB\u001b[0m \u001b[31m1.3 MB/s\u001b[0m eta \u001b[36m0:00:00\u001b[0m\n",
            "\u001b[?25hInstalling collected packages: importnb\n",
            "Successfully installed importnb-2023.11.1\n"
          ]
        }
      ],
      "source": [
        "!wget -N -q https://raw.githubusercontent.com/chetools/chetools/main/tools/che5.ipynb -O che5.ipynb\n",
        "!pip install importnb"
      ]
    },
    {
      "cell_type": "code",
      "source": [
        "from importnb import Notebook\n",
        "with Notebook():\n",
        "    from che5 import Props\n",
        "\n",
        "import numpy as np\n",
        "import jax\n",
        "import jax.numpy as jnp\n",
        "jax.config.update(\"jax_enable_x64\", True)\n",
        "from scipy.optimize import root_scalar\n",
        "from scipy.optimize import root\n",
        "from scipy.special import expit, logit"
      ],
      "metadata": {
        "id": "W0bo2gMdWwAr"
      },
      "execution_count": 2,
      "outputs": []
    },
    {
      "cell_type": "code",
      "source": [
        "p=Props(['Acetone','Ethanol', 'Isopropanol', 'Water'])"
      ],
      "metadata": {
        "id": "bYg-Mhy6XgMR"
      },
      "execution_count": 3,
      "outputs": []
    },
    {
      "cell_type": "code",
      "source": [
        "def gamma(x,T):\n",
        "    tau = p.NRTL_A + p.NRTL_B/T + p.NRTL_C*np.log(T) + p.NRTL_D*T\n",
        "    G=np.exp(-p.NRTL_alpha*tau)\n",
        "    xG = x@G\n",
        "    xtauG_xG = (x@(tau*G))/xG\n",
        "    return np.exp(xtauG_xG + x@((G*(tau - xtauG_xG[None,:])/xG[None,:]).T))"
      ],
      "metadata": {
        "id": "Q4tPnozmpqD4"
      },
      "execution_count": 4,
      "outputs": []
    },
    {
      "cell_type": "code",
      "source": [
        "def dewP_ideal(y, T):\n",
        "    P=1./(np.sum(y/p.Pvap(T)))\n",
        "    return P, y*P/p.Pvap(T)\n",
        "\n",
        "def dewT_ideal(y, P):\n",
        "\n",
        "    def P_dev(T):\n",
        "        return dewP_ideal(y, T)[0] - P\n",
        "    T = root(P_dev, 300.).x[0]\n",
        "\n",
        "    return T,  y*P/p.Pvap(T)"
      ],
      "metadata": {
        "id": "KNN3rRVW_SUG"
      },
      "execution_count": 5,
      "outputs": []
    },
    {
      "cell_type": "code",
      "source": [
        "def bubbleP_NRTL(x, T):\n",
        "    Pi= x*gamma(x,T)*p.Pvap(T)\n",
        "    P=np.sum(Pi)\n",
        "    return P, Pi/P\n",
        "\n",
        "def bubbleT_NRTL(x, P):\n",
        "\n",
        "    def f(T):\n",
        "        return bubbleP_NRTL(x,T)[0]-P\n",
        "\n",
        "    #mole-fraction weighted boiling points of each component at P\n",
        "    #boiling points determined via Clausius Clapeyron, using the Hvap at the normal bp\n",
        "    #for each component.  p.Hvap returns the heat of vaporization of all components for each\n",
        "    #temperature if an array of temperatures is given.\n",
        "    Tguess=np.dot(x,1/(1/p.Tbn-np.log(P/101325)*R/np.diagonal(p.Hvap(p.Tbn))))\n",
        "\n",
        "    res=root_scalar(f, x0=Tguess, method='secant')\n",
        "    if not(res.converged):\n",
        "        return \"FAIL\", res\n",
        "    T=root_scalar(f, x0=Tguess, method='secant').root\n",
        "    Pi= x*gamma(x,T)*p.Pvap(T)\n",
        "    P=np.sum(Pi)\n",
        "\n",
        "    return T, Pi/P\n",
        "\n"
      ],
      "metadata": {
        "id": "Sv4RRhSCpbhw"
      },
      "execution_count": 48,
      "outputs": []
    },
    {
      "cell_type": "code",
      "source": [
        "z = np.array([0.1,0.2,0.3,0.4])\n",
        "P = 3e5\n",
        "R=8.314\n",
        "bubbleT_NRTL(z,P)\n"
      ],
      "metadata": {
        "id": "muWnVJG8tTUS",
        "outputId": "a2e36050-8a3b-45f2-bbc1-157d15fbe452",
        "colab": {
          "base_uri": "https://localhost:8080/"
        }
      },
      "execution_count": 7,
      "outputs": [
        {
          "output_type": "execute_result",
          "data": {
            "text/plain": [
              "(Array(377.80220917, dtype=float64),\n",
              " Array([0.25464361, 0.1853556 , 0.28067204, 0.27932875], dtype=float64))"
            ]
          },
          "metadata": {},
          "execution_count": 7
        }
      ]
    },
    {
      "cell_type": "code",
      "source": [
        "def dewP_NRTL(y, T):\n",
        "    def f(vec):\n",
        "        P = vec[0]\n",
        "        x = expit(vec[1:])  #Ensures that mole fractions are between 0 and 1\n",
        "\n",
        "        fug_eqs = x*gamma(x,T) * p.Pvap(T)  - y*P\n",
        "        xsum_eq = 1. - np.sum(x)\n",
        "\n",
        "        return np.r_[fug_eqs, xsum_eq]\n",
        "\n",
        "    #Assume ideal liquid dewP calculation for initial guess of P and liquid phase composition\n",
        "    Pguess, xguess= dewP_ideal(z,T)\n",
        "\n",
        "    #f (function to zero) maps values from -inf to inf, to values between 0 and 1\n",
        "    #so xguess is mapped via logit which is the inverse function of expit\n",
        "    v0 = np.r_[Pguess, logit(xguess)]\n",
        "    res=root(f, v0)\n",
        "    if not(res.success):\n",
        "        return \"FAILURE\", res\n",
        "    return res.x[0], expit(res.x[1:])"
      ],
      "metadata": {
        "id": "_B60yBNV6x0W"
      },
      "execution_count": 8,
      "outputs": []
    },
    {
      "cell_type": "code",
      "source": [
        "def dewT_NRTL(y, P):\n",
        "    def f(vec):\n",
        "        T = vec[0]\n",
        "        x = expit(vec[1:])  #Ensures that mole fractions are between 0 and 1\n",
        "\n",
        "        fug_eqs = x*gamma(x,T) * p.Pvap(T)  - y*P\n",
        "        xsum_eq = 1. - np.sum(x)\n",
        "\n",
        "        return np.r_[fug_eqs, xsum_eq]\n",
        "\n",
        "    #Assume ideal liquid dewP calculation for initial guess of P and liquid phase composition\n",
        "    Tguess, xguess= dewT_ideal(z,P)\n",
        "\n",
        "    #f (function to zero) maps values from -inf to inf, to values between 0 and 1\n",
        "    #so xguess is mapped via logit which is the inverse function of expit\n",
        "    v0 = np.r_[Tguess, logit(xguess)]\n",
        "    res=root(f, v0)\n",
        "    if not(res.success):\n",
        "        return \"FAILURE\", res\n",
        "    return res.x[0], expit(res.x[1:])"
      ],
      "metadata": {
        "id": "XR4MHf41FtE-"
      },
      "execution_count": 46,
      "outputs": []
    },
    {
      "cell_type": "code",
      "source": [
        "dewP_NRTL(z, 373)"
      ],
      "metadata": {
        "colab": {
          "base_uri": "https://localhost:8080/"
        },
        "id": "88PMN80r_Va2",
        "outputId": "62f1611f-56e7-435f-846b-898242c571fa"
      },
      "execution_count": 10,
      "outputs": [
        {
          "output_type": "execute_result",
          "data": {
            "text/plain": [
              "(215679.4631248687, array([0.02121585, 0.13299478, 0.17452966, 0.67125971]))"
            ]
          },
          "metadata": {},
          "execution_count": 10
        }
      ]
    },
    {
      "cell_type": "code",
      "source": [
        "dewT_NRTL(z, 215679)"
      ],
      "metadata": {
        "colab": {
          "base_uri": "https://localhost:8080/"
        },
        "id": "IecDbh5H_ZSm",
        "outputId": "0b09ed75-c88d-470c-daf3-06aea11807bc"
      },
      "execution_count": 11,
      "outputs": [
        {
          "output_type": "execute_result",
          "data": {
            "text/plain": [
              "(372.99993756950886, array([0.02121583, 0.13299476, 0.17452962, 0.67125978]))"
            ]
          },
          "metadata": {},
          "execution_count": 11
        }
      ]
    },
    {
      "cell_type": "code",
      "source": [
        "def flash_idealPT(z, P, T):\n",
        "\n",
        "    K=p.Pvap(T)/P\n",
        "    def rachford(VF):\n",
        "        return np.sum(z*(K-1)/(VF*(K-1) +1))\n",
        "\n",
        "    res=root_scalar(rachford, bracket=(0,1))\n",
        "    VF = res.root\n",
        "    x=z/(1-VF + K *VF)\n",
        "    y=K*x\n",
        "    return x, y, VF"
      ],
      "metadata": {
        "id": "bu_4hen-0gCa"
      },
      "execution_count": 12,
      "outputs": []
    },
    {
      "cell_type": "code",
      "source": [
        "def flash_NRTL_PT(z, P, T, maxiter = 100, tol=1e-12):\n",
        "\n",
        "    dewP, dewx = dewP_NRTL(z, T)\n",
        "    bubbleP, bubbley = bubbleP_NRTL(z,T)\n",
        "\n",
        "    xguess = (P-dewP)/(bubbleP-dewP) * (z - dewx) +  dewx\n",
        "\n",
        "    for i in range(maxiter):\n",
        "        K=gamma(xguess,T)*p.Pvap(T)/P\n",
        "\n",
        "        def rachford(VF):\n",
        "            return np.sum(z*(K-1)/(VF*(K-1) +1))\n",
        "\n",
        "        res=root_scalar(rachford, bracket=(0,1))\n",
        "        VF = res.root\n",
        "        x=z/(1-VF + K *VF)\n",
        "        if (np.linalg.norm(xguess-x)<tol):\n",
        "            break\n",
        "        xguess = x\n",
        "\n",
        "    y=K*x\n",
        "    return x, y, VF, i"
      ],
      "metadata": {
        "id": "ZsMszmU0GwpA"
      },
      "execution_count": 13,
      "outputs": []
    },
    {
      "cell_type": "code",
      "source": [
        "def flash_NRTL_PQ(z, F_H, flashP,  Q=0.):\n",
        "\n",
        "    dewT_flashP = dewT_NRTL(z, flashP)[0]\n",
        "    bubbleT_flashP = bubbleT_NRTL(z, flashP)[0]\n",
        "\n",
        "\n",
        "    def H_balance(T):\n",
        "        x,y, VF, iter = flash_NRTL_PT(z, flashP, T)\n",
        "        L_H =p.Hl((1-VF)*x, T)\n",
        "        V_H = p.Hv(VF*y, T)\n",
        "        return F_H + Q - L_H - V_H\n",
        "\n",
        "\n",
        "\n",
        "    res=root_scalar(H_balance, bracket=(bubbleT_flashP,dewT_flashP))\n",
        "    if not(res.converged):\n",
        "        return \"FAIL\", res\n",
        "\n",
        "    T= res.root\n",
        "    x,y, VF, iter = flash_NRTL_PT(z, flashP, T)\n",
        "    return T, x, y, VF\n",
        "\n",
        "\n"
      ],
      "metadata": {
        "id": "v3A1i1BqBXGA"
      },
      "execution_count": 58,
      "outputs": []
    },
    {
      "cell_type": "code",
      "source": [
        "p=Props(['Benzene','Toluene'])\n",
        "z=np.array([0.4, 0.6])\n",
        "FT = 400.\n",
        "FP = bubbleP_NRTL(z, FT)[0]  #Feed pressure is at bubble pressure\n",
        "FH = p.Hl(z, FT)\n",
        "flashP=FP/2\n",
        "flash_NRTL_PQ(z, FH, flashP)"
      ],
      "metadata": {
        "id": "ZUuUix-aIxUV",
        "outputId": "9e496cce-b12b-4fab-84b9-e988885b9bf8",
        "colab": {
          "base_uri": "https://localhost:8080/"
        }
      },
      "execution_count": 59,
      "outputs": [
        {
          "output_type": "execute_result",
          "data": {
            "text/plain": [
              "(374.5412901872997,\n",
              " Array([0.36905912, 0.63094088], dtype=float64),\n",
              " Array([0.58596384, 0.41403616], dtype=float64),\n",
              " 0.14264734218676758)"
            ]
          },
          "metadata": {},
          "execution_count": 59
        }
      ]
    },
    {
      "cell_type": "code",
      "source": [],
      "metadata": {
        "id": "sS1OerW14-z7"
      },
      "execution_count": null,
      "outputs": []
    },
    {
      "cell_type": "code",
      "source": [
        "FP = (bubbleP_NRTL(z,FT)[0]+dewP_NRTL(z, FT)[0])/2\n",
        "FP"
      ],
      "metadata": {
        "id": "PQ2nu3Q9N7Gi",
        "outputId": "ebabfdb2-266d-438a-b146-0dbbc22fbd87",
        "colab": {
          "base_uri": "https://localhost:8080/"
        }
      },
      "execution_count": 17,
      "outputs": [
        {
          "output_type": "execute_result",
          "data": {
            "text/plain": [
              "Array(923425.56431775, dtype=float64)"
            ]
          },
          "metadata": {},
          "execution_count": 17
        }
      ]
    },
    {
      "cell_type": "code",
      "source": [
        "Fx, Fy, F_VF, _=flash_NRTL_PT(z, FP, FT)\n",
        "Fx, Fy, F_VF"
      ],
      "metadata": {
        "id": "ZtGA0FDUEgg0",
        "outputId": "45780f38-cf10-4e7b-dd71-ad4bc8cca7f9",
        "colab": {
          "base_uri": "https://localhost:8080/"
        }
      },
      "execution_count": 20,
      "outputs": [
        {
          "output_type": "execute_result",
          "data": {
            "text/plain": [
              "(Array([0.05890853, 0.19105812, 0.28089262, 0.46914073], dtype=float64),\n",
              " Array([0.13246011, 0.20706362, 0.31509383, 0.34538245], dtype=float64),\n",
              " 0.5586755692839904)"
            ]
          },
          "metadata": {},
          "execution_count": 20
        }
      ]
    },
    {
      "cell_type": "code",
      "source": [],
      "metadata": {
        "id": "o_1z14I7ObnN",
        "outputId": "cc5355a8-01d2-4ec4-e5d2-e36d35c7f853",
        "colab": {
          "base_uri": "https://localhost:8080/"
        }
      },
      "execution_count": 23,
      "outputs": [
        {
          "output_type": "execute_result",
          "data": {
            "text/plain": [
              "Array(-254936.35584783, dtype=float64)"
            ]
          },
          "metadata": {},
          "execution_count": 23
        }
      ]
    },
    {
      "cell_type": "markdown",
      "source": [
        "Rachford Rice:\n",
        "For a flash calculation at a given T and P, we want to solve for the compositions of each phase as well as the fraction of the feed that is vapor (or liquid).  To perform this flash calculation the two key relationships are the overall mass balance F = V + L, zF = xL + yV, y=Kx.  Combining these equations and noting that the sum of mole fractions add to 1, results in the Rachford-Rice expression (with a bit algebraic manipulation).  Sum y - sum x = 0\n",
        "\n",
        "If we have an ideal system, then Ki=Pvap,i(T) / P.  In a non-ideal system, the K=gamma(x,T) * Pvap,i / P.\n",
        "\n",
        "A dew P calculation yields a Pressure, and also the composition of the first liquid drop.  A bubble P calculation also yields another Pressure value, and the liquid phase composition is the feed composition.  For a flash to yield 2 phases, our pressure has to lie between the dewP and bubbleP.  So we linearly interpolate between the 2 liquid compositions based on where the flash P is relative to the bubbleP and dewP.  \n",
        "\n",
        "With that interpolated liquid phase composition as a guess, we proceed with a standard rachford rice calculation for the vapor fraction."
      ],
      "metadata": {
        "id": "Mz67arl4-ui8"
      }
    },
    {
      "cell_type": "code",
      "source": [
        "\n"
      ],
      "metadata": {
        "id": "AaJiDzj1Kga1"
      },
      "execution_count": null,
      "outputs": []
    },
    {
      "cell_type": "code",
      "source": [],
      "metadata": {
        "id": "7ztATHuRKmY9"
      },
      "execution_count": null,
      "outputs": []
    },
    {
      "cell_type": "code",
      "source": [],
      "metadata": {
        "id": "ViSi4XtW3WJf"
      },
      "execution_count": null,
      "outputs": []
    }
  ]
}