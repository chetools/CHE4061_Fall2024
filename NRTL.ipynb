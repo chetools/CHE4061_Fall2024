{
  "nbformat": 4,
  "nbformat_minor": 0,
  "metadata": {
    "colab": {
      "provenance": [],
      "authorship_tag": "ABX9TyM/SLPMuffWeJ2SFRFxUMeM",
      "include_colab_link": true
    },
    "kernelspec": {
      "name": "python3",
      "display_name": "Python 3"
    },
    "language_info": {
      "name": "python"
    }
  },
  "cells": [
    {
      "cell_type": "markdown",
      "metadata": {
        "id": "view-in-github",
        "colab_type": "text"
      },
      "source": [
        "<a href=\"https://colab.research.google.com/github/chetools/CHE4061_Fall2024/blob/main/NRTL.ipynb\" target=\"_parent\"><img src=\"https://colab.research.google.com/assets/colab-badge.svg\" alt=\"Open In Colab\"/></a>"
      ]
    },
    {
      "cell_type": "code",
      "execution_count": 1,
      "metadata": {
        "colab": {
          "base_uri": "https://localhost:8080/"
        },
        "id": "2IVvN85dWumt",
        "outputId": "c653aa7f-a295-4fae-b195-0f6783cfb6af"
      },
      "outputs": [
        {
          "output_type": "stream",
          "name": "stdout",
          "text": [
            "Collecting importnb\n",
            "  Downloading importnb-2023.11.1-py3-none-any.whl.metadata (9.4 kB)\n",
            "Downloading importnb-2023.11.1-py3-none-any.whl (45 kB)\n",
            "\u001b[?25l   \u001b[90m━━━━━━━━━━━━━━━━━━━━━━━━━━━━━━━━━━━━━━━━\u001b[0m \u001b[32m0.0/46.0 kB\u001b[0m \u001b[31m?\u001b[0m eta \u001b[36m-:--:--\u001b[0m\r\u001b[2K   \u001b[90m━━━━━━━━━━━━━━━━━━━━━━━━━━━━━━━━━━━━━━━━\u001b[0m \u001b[32m46.0/46.0 kB\u001b[0m \u001b[31m2.2 MB/s\u001b[0m eta \u001b[36m0:00:00\u001b[0m\n",
            "\u001b[?25hInstalling collected packages: importnb\n",
            "Successfully installed importnb-2023.11.1\n"
          ]
        }
      ],
      "source": [
        "!wget -N -q https://raw.githubusercontent.com/chetools/chetools/main/tools/che5.ipynb -O che5.ipynb\n",
        "!pip install importnb"
      ]
    },
    {
      "cell_type": "code",
      "source": [
        "from importnb import Notebook\n",
        "with Notebook():\n",
        "    from che5 import Props\n",
        "\n",
        "import numpy as np\n",
        "import jax\n",
        "import jax.numpy as jnp\n",
        "jax.config.update(\"jax_enable_x64\", True)\n",
        "from scipy.optimize import root_scalar\n",
        "from scipy.optimize import root\n",
        "from scipy.special import expit, logit"
      ],
      "metadata": {
        "id": "W0bo2gMdWwAr"
      },
      "execution_count": 36,
      "outputs": []
    },
    {
      "cell_type": "code",
      "source": [
        "p=Props(['Acetone','Ethanol', 'Isopropanol', 'Water'])"
      ],
      "metadata": {
        "id": "bYg-Mhy6XgMR"
      },
      "execution_count": 3,
      "outputs": []
    },
    {
      "cell_type": "code",
      "source": [
        "def gamma(x,T):\n",
        "    tau = p.NRTL_A + p.NRTL_B/T + p.NRTL_C*np.log(T) + p.NRTL_D*T\n",
        "    G=np.exp(-p.NRTL_alpha*tau)\n",
        "    xG = x@G\n",
        "    xtauG_xG = (x@(tau*G))/xG\n",
        "    return np.exp(xtauG_xG + x@((G*(tau - xtauG_xG[None,:])/xG[None,:]).T))"
      ],
      "metadata": {
        "id": "Q4tPnozmpqD4"
      },
      "execution_count": 4,
      "outputs": []
    },
    {
      "cell_type": "code",
      "source": [
        "def dewP_ideal(y, T):\n",
        "    P=1./(np.sum(y/p.Pvap(T)))\n",
        "    return P, y*P/p.Pvap(T)"
      ],
      "metadata": {
        "id": "KNN3rRVW_SUG"
      },
      "execution_count": 22,
      "outputs": []
    },
    {
      "cell_type": "code",
      "source": [
        "def bubbleP(x, T):\n",
        "    Pi= x*gamma(x,T)*p.Pvap(T)\n",
        "    P=np.sum(Pi)\n",
        "    return P, Pi/P\n",
        "\n",
        "def bubbleT(x, P):\n",
        "\n",
        "    def f(T):\n",
        "        return bubbleP(x,T)[0]-P\n",
        "\n",
        "    #mole-fraction weighted boiling points of each component at P\n",
        "    #boiling points determined via Clausius Clapeyron, using the Hvap at the normal bp\n",
        "    #for each component.  p.Hvap returns the heat of vaporization of all components for each\n",
        "    #temperature if an array of temperatures is given.\n",
        "    Tguess=np.dot(x,1/(1/p.Tbn-np.log(P/101325)*R/np.diagonal(p.Hvap(p.Tbn))))\n",
        "\n",
        "    T=root_scalar(f, x0=Tguess, method='secant').root\n",
        "    Pi= x*gamma(x,T)*p.Pvap(T)\n",
        "    P=np.sum(Pi)\n",
        "\n",
        "    return T, Pi/P\n",
        "\n"
      ],
      "metadata": {
        "id": "Sv4RRhSCpbhw"
      },
      "execution_count": 17,
      "outputs": []
    },
    {
      "cell_type": "code",
      "source": [
        "z = np.array([0.1,0.2,0.3,0.4])\n",
        "P = 3e5\n",
        "R=8.314\n",
        "bubbleT(z,P)\n"
      ],
      "metadata": {
        "id": "muWnVJG8tTUS",
        "outputId": "19cfff82-db70-4d3c-f860-4530db950f8b",
        "colab": {
          "base_uri": "https://localhost:8080/"
        }
      },
      "execution_count": 20,
      "outputs": [
        {
          "output_type": "execute_result",
          "data": {
            "text/plain": [
              "(Array(377.80220917, dtype=float64),\n",
              " Array([0.25464361, 0.1853556 , 0.28067204, 0.27932875], dtype=float64))"
            ]
          },
          "metadata": {},
          "execution_count": 20
        }
      ]
    },
    {
      "cell_type": "code",
      "source": [
        "def dewP_NRTL(y, T):\n",
        "    def f(vec):\n",
        "        P = vec[0]\n",
        "        x = expit(vec[1:])  #Ensures that mole fractions are between 0 and 1\n",
        "\n",
        "        fug_eqs = x*gamma(x,T) * p.Pvap(T)  - y*P\n",
        "        xsum_eq = 1. - np.sum(x)\n",
        "\n",
        "        return np.r_[fug_eqs, xsum_eq]\n",
        "\n",
        "    #Assume ideal liquid dewP calculation for initial guess of P and liquid phase composition\n",
        "    Pguess, xguess= dewP_ideal(z,T)\n",
        "\n",
        "    #f (function to zero) maps values from -inf to inf, to values between 0 and 1\n",
        "    #so xguess is mapped via logit which is the inverse function of expit\n",
        "    v0 = np.r_[Pguess, logit(xguess)]\n",
        "    res=root(f, v0)\n",
        "    return res.x[0], expit(res.x[1:])"
      ],
      "metadata": {
        "id": "_B60yBNV6x0W"
      },
      "execution_count": 41,
      "outputs": []
    },
    {
      "cell_type": "code",
      "source": [
        "dewP_NRTL(z, 373)"
      ],
      "metadata": {
        "id": "88PMN80r_Va2",
        "outputId": "f540c884-230a-46e8-ac87-83b61c15ee14",
        "colab": {
          "base_uri": "https://localhost:8080/"
        }
      },
      "execution_count": 42,
      "outputs": [
        {
          "output_type": "execute_result",
          "data": {
            "text/plain": [
              "(215679.4631248687, array([0.02121585, 0.13299478, 0.17452966, 0.67125971]))"
            ]
          },
          "metadata": {},
          "execution_count": 42
        }
      ]
    },
    {
      "cell_type": "code",
      "source": [],
      "metadata": {
        "id": "IecDbh5H_ZSm"
      },
      "execution_count": null,
      "outputs": []
    }
  ]
}