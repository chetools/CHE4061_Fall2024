{
  "nbformat": 4,
  "nbformat_minor": 0,
  "metadata": {
    "colab": {
      "provenance": [],
      "authorship_tag": "ABX9TyMw6PgAOZh6NplLONPKPB8Z",
      "include_colab_link": true
    },
    "kernelspec": {
      "name": "python3",
      "display_name": "Python 3"
    },
    "language_info": {
      "name": "python"
    }
  },
  "cells": [
    {
      "cell_type": "markdown",
      "metadata": {
        "id": "view-in-github",
        "colab_type": "text"
      },
      "source": [
        "<a href=\"https://colab.research.google.com/github/chetools/CHE4061_Fall2024/blob/main/NRTL.ipynb\" target=\"_parent\"><img src=\"https://colab.research.google.com/assets/colab-badge.svg\" alt=\"Open In Colab\"/></a>"
      ]
    },
    {
      "cell_type": "code",
      "execution_count": 15,
      "metadata": {
        "colab": {
          "base_uri": "https://localhost:8080/"
        },
        "id": "2IVvN85dWumt",
        "outputId": "645379a3-09c7-4048-a89f-6a2300795c8b"
      },
      "outputs": [
        {
          "output_type": "stream",
          "name": "stdout",
          "text": [
            "Requirement already satisfied: importnb in /usr/local/lib/python3.10/dist-packages (2023.11.1)\n"
          ]
        }
      ],
      "source": [
        "!wget -N -q https://raw.githubusercontent.com/chetools/chetools/main/tools/che5.ipynb -O che5.ipynb\n",
        "!pip install importnb"
      ]
    },
    {
      "cell_type": "code",
      "source": [
        "from importnb import Notebook\n",
        "with Notebook():\n",
        "    from che5 import Props\n",
        "\n",
        "import numpy as np\n",
        "import jax\n",
        "import jax.numpy as jnp\n",
        "jax.config.update(\"jax_enable_x64\", True)\n",
        "from scipy.optimize import root_scalar\n",
        "from scipy.optimize import root\n",
        "from scipy.special import expit, logit"
      ],
      "metadata": {
        "id": "W0bo2gMdWwAr"
      },
      "execution_count": 16,
      "outputs": []
    },
    {
      "cell_type": "code",
      "source": [
        "p=Props(['Acetone','Ethanol', 'Isopropanol', 'Water'])"
      ],
      "metadata": {
        "id": "bYg-Mhy6XgMR"
      },
      "execution_count": 17,
      "outputs": []
    },
    {
      "cell_type": "code",
      "source": [
        "def gamma(x,T):\n",
        "    tau = p.NRTL_A + p.NRTL_B/T + p.NRTL_C*np.log(T) + p.NRTL_D*T\n",
        "    G=np.exp(-p.NRTL_alpha*tau)\n",
        "    xG = x@G\n",
        "    xtauG_xG = (x@(tau*G))/xG\n",
        "    return np.exp(xtauG_xG + x@((G*(tau - xtauG_xG[None,:])/xG[None,:]).T))"
      ],
      "metadata": {
        "id": "Q4tPnozmpqD4"
      },
      "execution_count": 18,
      "outputs": []
    },
    {
      "cell_type": "code",
      "source": [
        "def dewP_ideal(y, T):\n",
        "    P=1./(np.sum(y/p.Pvap(T)))\n",
        "    return P, y*P/p.Pvap(T)\n",
        "\n",
        "def dewT_ideal(y, P):\n",
        "\n",
        "    def P_dev(T):\n",
        "        return dewP_ideal(y, T)[0] - P\n",
        "    T = root(P_dev, 300.).x[0]\n",
        "\n",
        "    return T,  y*P/p.Pvap(T)"
      ],
      "metadata": {
        "id": "KNN3rRVW_SUG"
      },
      "execution_count": 19,
      "outputs": []
    },
    {
      "cell_type": "code",
      "source": [
        "def bubbleP_NRTL(x, T):\n",
        "    Pi= x*gamma(x,T)*p.Pvap(T)\n",
        "    P=np.sum(Pi)\n",
        "    return P, Pi/P\n",
        "\n",
        "def bubbleT_NRTL(x, P):\n",
        "\n",
        "    def f(T):\n",
        "        return bubbleP_NRTL(x,T)[0]-P\n",
        "\n",
        "    #mole-fraction weighted boiling points of each component at P\n",
        "    #boiling points determined via Clausius Clapeyron, using the Hvap at the normal bp\n",
        "    #for each component.  p.Hvap returns the heat of vaporization of all components for each\n",
        "    #temperature if an array of temperatures is given.\n",
        "    Tguess=np.dot(x,1/(1/p.Tbn-np.log(P/101325)*R/np.diagonal(p.Hvap(p.Tbn))))\n",
        "\n",
        "    T=root_scalar(f, x0=Tguess, method='secant').root\n",
        "    Pi= x*gamma(x,T)*p.Pvap(T)\n",
        "    P=np.sum(Pi)\n",
        "\n",
        "    return T, Pi/P\n",
        "\n"
      ],
      "metadata": {
        "id": "Sv4RRhSCpbhw"
      },
      "execution_count": 20,
      "outputs": []
    },
    {
      "cell_type": "code",
      "source": [
        "z = np.array([0.1,0.2,0.3,0.4])\n",
        "P = 3e5\n",
        "R=8.314\n",
        "bubbleT_NRTL(z,P)\n"
      ],
      "metadata": {
        "id": "muWnVJG8tTUS",
        "outputId": "387695d4-2a29-4d36-9ec0-87d30d60adc7",
        "colab": {
          "base_uri": "https://localhost:8080/"
        }
      },
      "execution_count": 21,
      "outputs": [
        {
          "output_type": "execute_result",
          "data": {
            "text/plain": [
              "(Array(377.80220917, dtype=float64),\n",
              " Array([0.25464361, 0.1853556 , 0.28067204, 0.27932875], dtype=float64))"
            ]
          },
          "metadata": {},
          "execution_count": 21
        }
      ]
    },
    {
      "cell_type": "code",
      "source": [
        "def dewP_NRTL(y, T):\n",
        "    def f(vec):\n",
        "        P = vec[0]\n",
        "        x = expit(vec[1:])  #Ensures that mole fractions are between 0 and 1\n",
        "\n",
        "        fug_eqs = x*gamma(x,T) * p.Pvap(T)  - y*P\n",
        "        xsum_eq = 1. - np.sum(x)\n",
        "\n",
        "        return np.r_[fug_eqs, xsum_eq]\n",
        "\n",
        "    #Assume ideal liquid dewP calculation for initial guess of P and liquid phase composition\n",
        "    Pguess, xguess= dewP_ideal(z,T)\n",
        "\n",
        "    #f (function to zero) maps values from -inf to inf, to values between 0 and 1\n",
        "    #so xguess is mapped via logit which is the inverse function of expit\n",
        "    v0 = np.r_[Pguess, logit(xguess)]\n",
        "    res=root(f, v0)\n",
        "    return res.x[0], expit(res.x[1:])"
      ],
      "metadata": {
        "id": "_B60yBNV6x0W"
      },
      "execution_count": 22,
      "outputs": []
    },
    {
      "cell_type": "code",
      "source": [
        "def dewT_NRTL(y, P):\n",
        "    def f(vec):\n",
        "        T = vec[0]\n",
        "        x = expit(vec[1:])  #Ensures that mole fractions are between 0 and 1\n",
        "\n",
        "        fug_eqs = x*gamma(x,T) * p.Pvap(T)  - y*P\n",
        "        xsum_eq = 1. - np.sum(x)\n",
        "\n",
        "        return np.r_[fug_eqs, xsum_eq]\n",
        "\n",
        "    #Assume ideal liquid dewP calculation for initial guess of P and liquid phase composition\n",
        "    Tguess, xguess= dewT_ideal(z,P)\n",
        "\n",
        "    #f (function to zero) maps values from -inf to inf, to values between 0 and 1\n",
        "    #so xguess is mapped via logit which is the inverse function of expit\n",
        "    v0 = np.r_[Tguess, logit(xguess)]\n",
        "    res=root(f, v0)\n",
        "    return res.x[0], expit(res.x[1:])"
      ],
      "metadata": {
        "id": "XR4MHf41FtE-"
      },
      "execution_count": 23,
      "outputs": []
    },
    {
      "cell_type": "code",
      "source": [
        "dewP_NRTL(z, 373)"
      ],
      "metadata": {
        "colab": {
          "base_uri": "https://localhost:8080/"
        },
        "id": "88PMN80r_Va2",
        "outputId": "8fd0fad8-dd25-4c92-f669-f8197acfef93"
      },
      "execution_count": 24,
      "outputs": [
        {
          "output_type": "execute_result",
          "data": {
            "text/plain": [
              "(215679.4631248687, array([0.02121585, 0.13299478, 0.17452966, 0.67125971]))"
            ]
          },
          "metadata": {},
          "execution_count": 24
        }
      ]
    },
    {
      "cell_type": "code",
      "source": [
        "dewT_NRTL(z, 215679)"
      ],
      "metadata": {
        "colab": {
          "base_uri": "https://localhost:8080/"
        },
        "id": "IecDbh5H_ZSm",
        "outputId": "e5bb6cac-0ce7-4058-ca98-94d3b25d09a6"
      },
      "execution_count": 25,
      "outputs": [
        {
          "output_type": "execute_result",
          "data": {
            "text/plain": [
              "(372.99993756950886, array([0.02121583, 0.13299476, 0.17452962, 0.67125978]))"
            ]
          },
          "metadata": {},
          "execution_count": 25
        }
      ]
    },
    {
      "cell_type": "code",
      "source": [
        "def flash_idealPT(z, P, T):\n",
        "\n",
        "    K=p.Pvap(T)/P\n",
        "    def rachford(VF):\n",
        "        return np.sum(z*(K-1)/(VF*(K-1) +1))\n",
        "\n",
        "    res=root_scalar(rachford, bracket=(0,1))\n",
        "    VF = res.root\n",
        "    x=z/(1-VF + K *VF)\n",
        "    y=K*x\n",
        "    return x, y, VF"
      ],
      "metadata": {
        "id": "bu_4hen-0gCa"
      },
      "execution_count": null,
      "outputs": []
    },
    {
      "cell_type": "code",
      "source": [
        "def flash_NRTL_PT(z, P, T, maxiter = 100, tol=1e-12):\n",
        "\n",
        "    dewP, dewx = dewP_NRTL(z, T)\n",
        "    bubbleP, bubbley = bubbleP_NRTL(z,T)\n",
        "\n",
        "    xguess = (P-dewP)/(bubbleP-dewP) * (z - dewx) +  dewx\n",
        "\n",
        "    for i in range(maxiter):\n",
        "        K=gamma(xguess,T)*p.Pvap(T)/P\n",
        "\n",
        "        def rachford(VF):\n",
        "            return np.sum(z*(K-1)/(VF*(K-1) +1))\n",
        "\n",
        "        res=root_scalar(rachford, bracket=(0,1))\n",
        "        VF = res.root\n",
        "        x=z/(1-VF + K *VF)\n",
        "        if (np.linalg.norm(xguess-x)<tol):\n",
        "            break\n",
        "        xguess = x\n",
        "\n",
        "    y=K*x\n",
        "    return x, y, VF, i"
      ],
      "metadata": {
        "id": "ZsMszmU0GwpA"
      },
      "execution_count": 40,
      "outputs": []
    },
    {
      "cell_type": "code",
      "source": [
        "T=373\n",
        "dewP, dewx = dewP_NRTL(z, T)\n",
        "bubbleP, bubbley = bubbleP_NRTL(z,T)\n",
        "flash_NRTL_PT(z, 0.4*dewP + 0.6*bubbleP, T)"
      ],
      "metadata": {
        "id": "ILcOYO7eKe3u",
        "outputId": "960013b2-c7c7-4569-bfdc-8f987b0e76bc",
        "colab": {
          "base_uri": "https://localhost:8080/"
        }
      },
      "execution_count": 41,
      "outputs": [
        {
          "output_type": "execute_result",
          "data": {
            "text/plain": [
              "(Array([0.06063401, 0.19965072, 0.29814679, 0.44156848], dtype=float64),\n",
              " Array([0.18481184, 0.2007525 , 0.30399265, 0.31044301], dtype=float64),\n",
              " 0.31701301061806086,\n",
              " 20)"
            ]
          },
          "metadata": {},
          "execution_count": 41
        }
      ]
    },
    {
      "cell_type": "code",
      "source": [
        "\n"
      ],
      "metadata": {
        "id": "AaJiDzj1Kga1",
        "outputId": "1651a4a7-4920-4d56-e973-0f0453059054",
        "colab": {
          "base_uri": "https://localhost:8080/"
        }
      },
      "execution_count": 35,
      "outputs": [
        {
          "output_type": "execute_result",
          "data": {
            "text/plain": [
              "(Array([0.06848634, 0.17319791, 0.24981187, 0.50850388], dtype=float64),\n",
              " Array([0.05363716, 0.1946712 , 0.28588545, 0.46580618], dtype=float64),\n",
              " Array([0.16987698, 0.20803144, 0.32127311, 0.30081848], dtype=float64),\n",
              " 0.39885506390553066)"
            ]
          },
          "metadata": {},
          "execution_count": 35
        }
      ]
    },
    {
      "cell_type": "code",
      "source": [],
      "metadata": {
        "id": "7ztATHuRKmY9"
      },
      "execution_count": null,
      "outputs": []
    },
    {
      "cell_type": "code",
      "source": [
        "z"
      ],
      "metadata": {
        "id": "9sia8xE_LMle",
        "outputId": "a018fe31-5907-4f80-9c55-b0e51dfd8e38",
        "colab": {
          "base_uri": "https://localhost:8080/"
        }
      },
      "execution_count": 30,
      "outputs": [
        {
          "output_type": "execute_result",
          "data": {
            "text/plain": [
              "array([0.1, 0.2, 0.3, 0.4])"
            ]
          },
          "metadata": {},
          "execution_count": 30
        }
      ]
    },
    {
      "cell_type": "code",
      "source": [
        "P=2.3e5\n",
        "(P-dewP)/(bubbleP-dewP) * (z - dewx) +  dewx"
      ],
      "metadata": {
        "id": "4QqwHwF-21o-",
        "outputId": "d2e099e2-3efb-4823-f8f7-4c16a04ecccf",
        "colab": {
          "base_uri": "https://localhost:8080/"
        }
      },
      "execution_count": 32,
      "outputs": [
        {
          "output_type": "execute_result",
          "data": {
            "text/plain": [
              "Array([0.04800604, 0.1557796 , 0.21719529, 0.57901907], dtype=float64)"
            ]
          },
          "metadata": {},
          "execution_count": 32
        }
      ]
    },
    {
      "cell_type": "code",
      "source": [],
      "metadata": {
        "id": "ViSi4XtW3WJf"
      },
      "execution_count": null,
      "outputs": []
    }
  ]
}