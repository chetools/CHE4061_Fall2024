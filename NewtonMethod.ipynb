{
  "nbformat": 4,
  "nbformat_minor": 0,
  "metadata": {
    "colab": {
      "provenance": [],
      "authorship_tag": "ABX9TyMeTnGZF7qK1SRFG4PzZNcY",
      "include_colab_link": true
    },
    "kernelspec": {
      "name": "python3",
      "display_name": "Python 3"
    },
    "language_info": {
      "name": "python"
    }
  },
  "cells": [
    {
      "cell_type": "markdown",
      "metadata": {
        "id": "view-in-github",
        "colab_type": "text"
      },
      "source": [
        "<a href=\"https://colab.research.google.com/github/chetools/CHE4061_Fall2024/blob/main/NewtonMethod.ipynb\" target=\"_parent\"><img src=\"https://colab.research.google.com/assets/colab-badge.svg\" alt=\"Open In Colab\"/></a>"
      ]
    },
    {
      "cell_type": "code",
      "execution_count": 1,
      "metadata": {
        "id": "68V6eDaJY2x1"
      },
      "outputs": [],
      "source": [
        "import numpy as np"
      ]
    },
    {
      "cell_type": "code",
      "source": [
        "def my_func(x):\n",
        "    return (x-3.)*(x+2.5)*(x-5.)"
      ],
      "metadata": {
        "id": "58dYsDHLdUl-"
      },
      "execution_count": 3,
      "outputs": []
    },
    {
      "cell_type": "code",
      "source": [
        "def deriv(f, x, dx=1e-8):\n",
        "    return (f(x+dx)-f(x))/dx"
      ],
      "metadata": {
        "id": "iHqoCSaAd42l"
      },
      "execution_count": 4,
      "outputs": []
    },
    {
      "cell_type": "code",
      "source": [
        "def newton(f, x1, max_iter=100, tol=1e-12):\n",
        "    for i in range(max_iter):\n",
        "        x2 = x1 - f(x1)/deriv(f, x1)\n",
        "        print(i, x2, f(x2))\n",
        "        if np.abs(f(x2))<tol:\n",
        "            break\n",
        "        x1=x2\n",
        "    return x2, f(x2), i"
      ],
      "metadata": {
        "id": "M2oEJx6AddJV"
      },
      "execution_count": 7,
      "outputs": []
    },
    {
      "cell_type": "code",
      "source": [
        "newton(my_func, 2.8)"
      ],
      "metadata": {
        "colab": {
          "base_uri": "https://localhost:8080/"
        },
        "id": "VItMO5-6enjQ",
        "outputId": "e25f95a8-643a-40ad-a1e9-253d2a37a675"
      },
      "execution_count": 10,
      "outputs": [
        {
          "output_type": "stream",
          "name": "stdout",
          "text": [
            "0 2.9899022822733463 0.11143073905198199\n",
            "1 2.9999679492927167 0.0003525613754507317\n",
            "2 2.9999999996734577 3.5919658362539327e-09\n",
            "3 3.0 -0.0\n"
          ]
        },
        {
          "output_type": "execute_result",
          "data": {
            "text/plain": [
              "(3.0, -0.0, 3)"
            ]
          },
          "metadata": {},
          "execution_count": 10
        }
      ]
    },
    {
      "cell_type": "code",
      "source": [],
      "metadata": {
        "id": "kBxZ7yPUerwf"
      },
      "execution_count": null,
      "outputs": []
    }
  ]
}